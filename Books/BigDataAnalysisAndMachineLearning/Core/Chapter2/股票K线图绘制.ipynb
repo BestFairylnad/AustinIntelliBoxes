{
 "cells": [
  {
   "cell_type": "markdown",
   "source": [
    "# 股票K线图绘制"
   ],
   "metadata": {
    "collapsed": false
   },
   "id": "456e0a75cc5679fd"
  },
  {
   "cell_type": "code",
   "execution_count": 1,
   "outputs": [],
   "source": [
    "import matplotlib.pyplot as plt\n",
    "import pandas as pd\n",
    "from mplfinance.original_flavor import candlestick_ochl\n",
    "import seaborn as sns\n",
    "from matplotlib.pylab import date2num\n",
    "from datetime import datetime\n",
    "import numpy as np\n",
    "\n",
    "\n",
    "sns.set()"
   ],
   "metadata": {
    "collapsed": false,
    "ExecuteTime": {
     "end_time": "2023-09-07T19:08:01.673921300Z",
     "start_time": "2023-09-07T19:08:01.613179100Z"
    }
   },
   "id": "b394519ad99559c8"
  },
  {
   "cell_type": "code",
   "execution_count": 2,
   "outputs": [
    {
     "data": {
      "text/plain": "     ts_code  trade_date   open   high    low  close  pre_close  change  \\\n0  000001.SZ    20221230  13.04  13.28  12.96  13.16      13.03    0.13   \n1  000001.SZ    20221229  13.07  13.13  12.85  13.03      13.14   -0.11   \n2  000001.SZ    20221228  13.16  13.38  13.00  13.14      13.11    0.03   \n3  000001.SZ    20221227  12.87  13.22  12.87  13.11      12.77    0.34   \n4  000001.SZ    20221226  12.99  13.04  12.71  12.77      12.98   -0.21   \n\n   pct_chg        vol       amount  \n0   0.9977  818035.98  1074756.754  \n1  -0.8371  666890.09   865144.967  \n2   0.2288  791191.98  1042402.080  \n3   2.6625  886004.12  1160090.119  \n4  -1.6179  797119.87  1021903.963  ",
      "text/html": "<div>\n<style scoped>\n    .dataframe tbody tr th:only-of-type {\n        vertical-align: middle;\n    }\n\n    .dataframe tbody tr th {\n        vertical-align: top;\n    }\n\n    .dataframe thead th {\n        text-align: right;\n    }\n</style>\n<table border=\"1\" class=\"dataframe\">\n  <thead>\n    <tr style=\"text-align: right;\">\n      <th></th>\n      <th>ts_code</th>\n      <th>trade_date</th>\n      <th>open</th>\n      <th>high</th>\n      <th>low</th>\n      <th>close</th>\n      <th>pre_close</th>\n      <th>change</th>\n      <th>pct_chg</th>\n      <th>vol</th>\n      <th>amount</th>\n    </tr>\n  </thead>\n  <tbody>\n    <tr>\n      <th>0</th>\n      <td>000001.SZ</td>\n      <td>20221230</td>\n      <td>13.04</td>\n      <td>13.28</td>\n      <td>12.96</td>\n      <td>13.16</td>\n      <td>13.03</td>\n      <td>0.13</td>\n      <td>0.9977</td>\n      <td>818035.98</td>\n      <td>1074756.754</td>\n    </tr>\n    <tr>\n      <th>1</th>\n      <td>000001.SZ</td>\n      <td>20221229</td>\n      <td>13.07</td>\n      <td>13.13</td>\n      <td>12.85</td>\n      <td>13.03</td>\n      <td>13.14</td>\n      <td>-0.11</td>\n      <td>-0.8371</td>\n      <td>666890.09</td>\n      <td>865144.967</td>\n    </tr>\n    <tr>\n      <th>2</th>\n      <td>000001.SZ</td>\n      <td>20221228</td>\n      <td>13.16</td>\n      <td>13.38</td>\n      <td>13.00</td>\n      <td>13.14</td>\n      <td>13.11</td>\n      <td>0.03</td>\n      <td>0.2288</td>\n      <td>791191.98</td>\n      <td>1042402.080</td>\n    </tr>\n    <tr>\n      <th>3</th>\n      <td>000001.SZ</td>\n      <td>20221227</td>\n      <td>12.87</td>\n      <td>13.22</td>\n      <td>12.87</td>\n      <td>13.11</td>\n      <td>12.77</td>\n      <td>0.34</td>\n      <td>2.6625</td>\n      <td>886004.12</td>\n      <td>1160090.119</td>\n    </tr>\n    <tr>\n      <th>4</th>\n      <td>000001.SZ</td>\n      <td>20221226</td>\n      <td>12.99</td>\n      <td>13.04</td>\n      <td>12.71</td>\n      <td>12.77</td>\n      <td>12.98</td>\n      <td>-0.21</td>\n      <td>-1.6179</td>\n      <td>797119.87</td>\n      <td>1021903.963</td>\n    </tr>\n  </tbody>\n</table>\n</div>"
     },
     "execution_count": 2,
     "metadata": {},
     "output_type": "execute_result"
    }
   ],
   "source": [
    "# 获取数据\n",
    "read_data = pd.read_csv('./股票数据.csv')\n",
    "\n",
    "read_data.head()"
   ],
   "metadata": {
    "collapsed": false,
    "ExecuteTime": {
     "end_time": "2023-09-07T19:08:01.696100200Z",
     "start_time": "2023-09-07T19:08:01.651290200Z"
    }
   },
   "id": "91040614a0de233a"
  },
  {
   "cell_type": "code",
   "execution_count": 3,
   "outputs": [
    {
     "data": {
      "text/plain": "     ts_code trade_date   open   high    low  close  pre_close  change  \\\n0  000001.SZ 2022-12-30  13.04  13.28  12.96  13.16      13.03    0.13   \n1  000001.SZ 2022-12-29  13.07  13.13  12.85  13.03      13.14   -0.11   \n2  000001.SZ 2022-12-28  13.16  13.38  13.00  13.14      13.11    0.03   \n3  000001.SZ 2022-12-27  12.87  13.22  12.87  13.11      12.77    0.34   \n4  000001.SZ 2022-12-26  12.99  13.04  12.71  12.77      12.98   -0.21   \n\n   pct_chg        vol       amount  \n0   0.9977  818035.98  1074756.754  \n1  -0.8371  666890.09   865144.967  \n2   0.2288  791191.98  1042402.080  \n3   2.6625  886004.12  1160090.119  \n4  -1.6179  797119.87  1021903.963  ",
      "text/html": "<div>\n<style scoped>\n    .dataframe tbody tr th:only-of-type {\n        vertical-align: middle;\n    }\n\n    .dataframe tbody tr th {\n        vertical-align: top;\n    }\n\n    .dataframe thead th {\n        text-align: right;\n    }\n</style>\n<table border=\"1\" class=\"dataframe\">\n  <thead>\n    <tr style=\"text-align: right;\">\n      <th></th>\n      <th>ts_code</th>\n      <th>trade_date</th>\n      <th>open</th>\n      <th>high</th>\n      <th>low</th>\n      <th>close</th>\n      <th>pre_close</th>\n      <th>change</th>\n      <th>pct_chg</th>\n      <th>vol</th>\n      <th>amount</th>\n    </tr>\n  </thead>\n  <tbody>\n    <tr>\n      <th>0</th>\n      <td>000001.SZ</td>\n      <td>2022-12-30</td>\n      <td>13.04</td>\n      <td>13.28</td>\n      <td>12.96</td>\n      <td>13.16</td>\n      <td>13.03</td>\n      <td>0.13</td>\n      <td>0.9977</td>\n      <td>818035.98</td>\n      <td>1074756.754</td>\n    </tr>\n    <tr>\n      <th>1</th>\n      <td>000001.SZ</td>\n      <td>2022-12-29</td>\n      <td>13.07</td>\n      <td>13.13</td>\n      <td>12.85</td>\n      <td>13.03</td>\n      <td>13.14</td>\n      <td>-0.11</td>\n      <td>-0.8371</td>\n      <td>666890.09</td>\n      <td>865144.967</td>\n    </tr>\n    <tr>\n      <th>2</th>\n      <td>000001.SZ</td>\n      <td>2022-12-28</td>\n      <td>13.16</td>\n      <td>13.38</td>\n      <td>13.00</td>\n      <td>13.14</td>\n      <td>13.11</td>\n      <td>0.03</td>\n      <td>0.2288</td>\n      <td>791191.98</td>\n      <td>1042402.080</td>\n    </tr>\n    <tr>\n      <th>3</th>\n      <td>000001.SZ</td>\n      <td>2022-12-27</td>\n      <td>12.87</td>\n      <td>13.22</td>\n      <td>12.87</td>\n      <td>13.11</td>\n      <td>12.77</td>\n      <td>0.34</td>\n      <td>2.6625</td>\n      <td>886004.12</td>\n      <td>1160090.119</td>\n    </tr>\n    <tr>\n      <th>4</th>\n      <td>000001.SZ</td>\n      <td>2022-12-26</td>\n      <td>12.99</td>\n      <td>13.04</td>\n      <td>12.71</td>\n      <td>12.77</td>\n      <td>12.98</td>\n      <td>-0.21</td>\n      <td>-1.6179</td>\n      <td>797119.87</td>\n      <td>1021903.963</td>\n    </tr>\n  </tbody>\n</table>\n</div>"
     },
     "execution_count": 3,
     "metadata": {},
     "output_type": "execute_result"
    }
   ],
   "source": [
    "read_data['trade_date'] = read_data['trade_date'].apply(lambda x: datetime.strptime(str(x), '%Y%m%d'))\n",
    "\n",
    "read_data.head()"
   ],
   "metadata": {
    "collapsed": false,
    "ExecuteTime": {
     "end_time": "2023-09-07T19:08:01.814440200Z",
     "start_time": "2023-09-07T19:08:01.684589600Z"
    }
   },
   "id": "e72f560597b6a649"
  },
  {
   "cell_type": "code",
   "execution_count": 4,
   "outputs": [],
   "source": [
    "read_data.to_csv('./股票数据_修改日期.csv', index=False)"
   ],
   "metadata": {
    "collapsed": false,
    "ExecuteTime": {
     "end_time": "2023-09-07T19:08:01.898946600Z",
     "start_time": "2023-09-07T19:08:01.730720700Z"
    }
   },
   "id": "92c5237ad3a8f782"
  },
  {
   "cell_type": "code",
   "execution_count": 5,
   "outputs": [
    {
     "data": {
      "text/plain": "     ts_code  trade_date   open   high    low  close  pre_close  change  \\\n0  000001.SZ  2022-12-30  13.04  13.28  12.96  13.16      13.03    0.13   \n1  000001.SZ  2022-12-29  13.07  13.13  12.85  13.03      13.14   -0.11   \n2  000001.SZ  2022-12-28  13.16  13.38  13.00  13.14      13.11    0.03   \n3  000001.SZ  2022-12-27  12.87  13.22  12.87  13.11      12.77    0.34   \n4  000001.SZ  2022-12-26  12.99  13.04  12.71  12.77      12.98   -0.21   \n\n   pct_chg        vol       amount  \n0   0.9977  818035.98  1074756.754  \n1  -0.8371  666890.09   865144.967  \n2   0.2288  791191.98  1042402.080  \n3   2.6625  886004.12  1160090.119  \n4  -1.6179  797119.87  1021903.963  ",
      "text/html": "<div>\n<style scoped>\n    .dataframe tbody tr th:only-of-type {\n        vertical-align: middle;\n    }\n\n    .dataframe tbody tr th {\n        vertical-align: top;\n    }\n\n    .dataframe thead th {\n        text-align: right;\n    }\n</style>\n<table border=\"1\" class=\"dataframe\">\n  <thead>\n    <tr style=\"text-align: right;\">\n      <th></th>\n      <th>ts_code</th>\n      <th>trade_date</th>\n      <th>open</th>\n      <th>high</th>\n      <th>low</th>\n      <th>close</th>\n      <th>pre_close</th>\n      <th>change</th>\n      <th>pct_chg</th>\n      <th>vol</th>\n      <th>amount</th>\n    </tr>\n  </thead>\n  <tbody>\n    <tr>\n      <th>0</th>\n      <td>000001.SZ</td>\n      <td>2022-12-30</td>\n      <td>13.04</td>\n      <td>13.28</td>\n      <td>12.96</td>\n      <td>13.16</td>\n      <td>13.03</td>\n      <td>0.13</td>\n      <td>0.9977</td>\n      <td>818035.98</td>\n      <td>1074756.754</td>\n    </tr>\n    <tr>\n      <th>1</th>\n      <td>000001.SZ</td>\n      <td>2022-12-29</td>\n      <td>13.07</td>\n      <td>13.13</td>\n      <td>12.85</td>\n      <td>13.03</td>\n      <td>13.14</td>\n      <td>-0.11</td>\n      <td>-0.8371</td>\n      <td>666890.09</td>\n      <td>865144.967</td>\n    </tr>\n    <tr>\n      <th>2</th>\n      <td>000001.SZ</td>\n      <td>2022-12-28</td>\n      <td>13.16</td>\n      <td>13.38</td>\n      <td>13.00</td>\n      <td>13.14</td>\n      <td>13.11</td>\n      <td>0.03</td>\n      <td>0.2288</td>\n      <td>791191.98</td>\n      <td>1042402.080</td>\n    </tr>\n    <tr>\n      <th>3</th>\n      <td>000001.SZ</td>\n      <td>2022-12-27</td>\n      <td>12.87</td>\n      <td>13.22</td>\n      <td>12.87</td>\n      <td>13.11</td>\n      <td>12.77</td>\n      <td>0.34</td>\n      <td>2.6625</td>\n      <td>886004.12</td>\n      <td>1160090.119</td>\n    </tr>\n    <tr>\n      <th>4</th>\n      <td>000001.SZ</td>\n      <td>2022-12-26</td>\n      <td>12.99</td>\n      <td>13.04</td>\n      <td>12.71</td>\n      <td>12.77</td>\n      <td>12.98</td>\n      <td>-0.21</td>\n      <td>-1.6179</td>\n      <td>797119.87</td>\n      <td>1021903.963</td>\n    </tr>\n  </tbody>\n</table>\n</div>"
     },
     "execution_count": 5,
     "metadata": {},
     "output_type": "execute_result"
    }
   ],
   "source": [
    "read_data = pd.read_csv('./股票数据_修改日期.csv')\n",
    "\n",
    "read_data.head()"
   ],
   "metadata": {
    "collapsed": false,
    "ExecuteTime": {
     "end_time": "2023-09-07T19:08:01.899938400Z",
     "start_time": "2023-09-07T19:08:01.776333600Z"
    }
   },
   "id": "def6d439d0eb6cb7"
  },
  {
   "cell_type": "code",
   "execution_count": 6,
   "outputs": [],
   "source": [
    "def date_to_num(dates):\n",
    "    datetime_list = []\n",
    "    for date in dates:\n",
    "        date_time = datetime.strptime(date, '%Y-%m-%d')\n",
    "        num_date = date2num(date_time)\n",
    "        datetime_list.append(num_date)\n",
    "\n",
    "    return datetime_list"
   ],
   "metadata": {
    "collapsed": false,
    "ExecuteTime": {
     "end_time": "2023-09-07T19:08:01.899938400Z",
     "start_time": "2023-09-07T19:08:01.793399200Z"
    }
   },
   "id": "52a98a2d4ebcdb55"
  },
  {
   "cell_type": "code",
   "execution_count": 7,
   "outputs": [],
   "source": [
    "data_array = read_data.values\n",
    "data_array[:, 1] = date_to_num(data_array[:, 1])"
   ],
   "metadata": {
    "collapsed": false,
    "ExecuteTime": {
     "end_time": "2023-09-07T19:08:02.069306100Z",
     "start_time": "2023-09-07T19:08:01.808934200Z"
    }
   },
   "id": "7c2c397c919a1ddf"
  },
  {
   "cell_type": "code",
   "execution_count": 8,
   "outputs": [],
   "source": [
    "quote = np.column_stack((data_array[:, 1:6][:, :2], data_array[:, 1:6][:, 4:], data_array[:, 1:6][:, 2:4]))\n",
    "cut_data = quote[:20, :]"
   ],
   "metadata": {
    "collapsed": false,
    "ExecuteTime": {
     "end_time": "2023-09-07T19:08:02.070304100Z",
     "start_time": "2023-09-07T19:08:01.901939800Z"
    }
   },
   "id": "f8e6fc4acbe0aeab"
  },
  {
   "cell_type": "code",
   "execution_count": 9,
   "outputs": [
    {
     "data": {
      "text/plain": "<Figure size 1500x500 with 1 Axes>",
      "image/png": "[encoded data removed]"
     },
     "metadata": {},
     "output_type": "display_data"
    }
   ],
   "source": [
    "plt.rcParams['font.sans-serif'] = ['SimHei']\n",
    "fig, axes = plt.subplots(figsize=(15, 5))\n",
    "candlestick_ochl(axes, cut_data, width=0.6, colorup='r', colordown='g', alpha=1.0)\n",
    "plt.title('K线图', fontsize=25)\n",
    "plt.grid(True)\n",
    "axes.xaxis_date()\n",
    "plt.savefig('./1_jupyter.png')\n",
    "plt.show()\n",
    "plt.close()"
   ],
   "metadata": {
    "collapsed": false,
    "ExecuteTime": {
     "end_time": "2023-09-07T19:08:02.412521700Z",
     "start_time": "2023-09-07T19:08:01.918997500Z"
    }
   },
   "id": "6d9e13600903d451"
  }
 ],
 "metadata": {
  "kernelspec": {
   "display_name": "Python 3",
   "language": "python",
   "name": "python3"
  },
  "language_info": {
   "codemirror_mode": {
    "name": "ipython",
    "version": 2
   },
   "file_extension": ".py",
   "mimetype": "text/x-python",
   "name": "python",
   "nbconvert_exporter": "python",
   "pygments_lexer": "ipython2",
   "version": "2.7.6"
  }
 },
 "nbformat": 4,
 "nbformat_minor": 5
}
