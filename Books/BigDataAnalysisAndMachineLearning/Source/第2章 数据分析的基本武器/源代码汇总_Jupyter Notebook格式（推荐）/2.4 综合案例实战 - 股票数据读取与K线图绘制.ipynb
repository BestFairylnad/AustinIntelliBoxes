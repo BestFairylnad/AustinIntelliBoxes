{
 "cells": [
  {
   "cell_type": "markdown",
   "metadata": {},
   "source": [
    "# 2.4 综合案例实战 - 股票数据读取与K线图绘制"
   ]
  },
  {
   "cell_type": "markdown",
   "metadata": {},
   "source": [
    "# 2.4.1 初步尝试 - 股票数据读取与可视化"
   ]
  },
  {
   "cell_type": "markdown",
   "metadata": {},
   "source": [
    "1.股票数据库：Tushare库的安装与使用"
   ]
  },
  {
   "cell_type": "markdown",
   "metadata": {},
   "source": [
    "首先推荐通过PIP安装法来安装可以调用股价数据的Tushare库（Tushare库官方地址为：http://tushare.org/\n",
    "以Windows系统为例，具体方法是：通过Win + R组合键调出运行框，输入cmd后回车，然后在弹出框中输入pip install tushare后按一下Enter回车键的方法来进行安装。如果在1.2.3节讲到的Jupyter Notebook编辑器中安装的话，只需要在代码框中输入如下代码然后运行该行代码框即可（注意是英文格式下的!）：\n",
    "!pip install tushare"
   ]
  },
  {
   "cell_type": "code",
   "execution_count": 1,
   "metadata": {},
   "outputs": [
    {
     "data": {
      "text/html": [
       "<div>\n",
       "<style scoped>\n",
       "    .dataframe tbody tr th:only-of-type {\n",
       "        vertical-align: middle;\n",
       "    }\n",
       "\n",
       "    .dataframe tbody tr th {\n",
       "        vertical-align: top;\n",
       "    }\n",
       "\n",
       "    .dataframe thead th {\n",
       "        text-align: right;\n",
       "    }\n",
       "</style>\n",
       "<table border=\"1\" class=\"dataframe\">\n",
       "  <thead>\n",
       "    <tr style=\"text-align: right;\">\n",
       "      <th></th>\n",
       "      <th>date</th>\n",
       "      <th>open</th>\n",
       "      <th>close</th>\n",
       "      <th>high</th>\n",
       "      <th>low</th>\n",
       "      <th>volume</th>\n",
       "      <th>code</th>\n",
       "    </tr>\n",
       "  </thead>\n",
       "  <tbody>\n",
       "    <tr>\n",
       "      <th>0</th>\n",
       "      <td>2009-01-05</td>\n",
       "      <td>5.086</td>\n",
       "      <td>5.178</td>\n",
       "      <td>5.178</td>\n",
       "      <td>5.008</td>\n",
       "      <td>936048.88</td>\n",
       "      <td>000002</td>\n",
       "    </tr>\n",
       "    <tr>\n",
       "      <th>1</th>\n",
       "      <td>2009-01-06</td>\n",
       "      <td>5.163</td>\n",
       "      <td>5.333</td>\n",
       "      <td>5.372</td>\n",
       "      <td>5.109</td>\n",
       "      <td>1216831.18</td>\n",
       "      <td>000002</td>\n",
       "    </tr>\n",
       "    <tr>\n",
       "      <th>2</th>\n",
       "      <td>2009-01-07</td>\n",
       "      <td>5.356</td>\n",
       "      <td>5.302</td>\n",
       "      <td>5.457</td>\n",
       "      <td>5.302</td>\n",
       "      <td>834829.31</td>\n",
       "      <td>000002</td>\n",
       "    </tr>\n",
       "    <tr>\n",
       "      <th>3</th>\n",
       "      <td>2009-01-08</td>\n",
       "      <td>5.217</td>\n",
       "      <td>5.333</td>\n",
       "      <td>5.410</td>\n",
       "      <td>5.163</td>\n",
       "      <td>837661.70</td>\n",
       "      <td>000002</td>\n",
       "    </tr>\n",
       "    <tr>\n",
       "      <th>4</th>\n",
       "      <td>2009-01-09</td>\n",
       "      <td>5.333</td>\n",
       "      <td>5.325</td>\n",
       "      <td>5.418</td>\n",
       "      <td>5.263</td>\n",
       "      <td>626815.66</td>\n",
       "      <td>000002</td>\n",
       "    </tr>\n",
       "  </tbody>\n",
       "</table>\n",
       "</div>"
      ],
      "text/plain": [
       "         date   open  close   high    low      volume    code\n",
       "0  2009-01-05  5.086  5.178  5.178  5.008   936048.88  000002\n",
       "1  2009-01-06  5.163  5.333  5.372  5.109  1216831.18  000002\n",
       "2  2009-01-07  5.356  5.302  5.457  5.302   834829.31  000002\n",
       "3  2009-01-08  5.217  5.333  5.410  5.163   837661.70  000002\n",
       "4  2009-01-09  5.333  5.325  5.418  5.263   626815.66  000002"
      ]
     },
     "execution_count": 1,
     "metadata": {},
     "output_type": "execute_result"
    }
   ],
   "source": [
    "# 我们只需要通过如下2行代码便可获取到股票基本数据：\n",
    "import tushare as ts\n",
    "df = ts.get_k_data('000002', start='2009-01-01', end='2019-01-01')\n",
    "df.head()"
   ]
  },
  {
   "cell_type": "code",
   "execution_count": 2,
   "metadata": {},
   "outputs": [],
   "source": [
    "# 此时如果想要将股票数据获取到Excel文件中，则可以使用2.2.2节相关知识点，代码如下：\n",
    "df.to_excel('股价数据.xlsx', index=False)"
   ]
  },
  {
   "cell_type": "markdown",
   "metadata": {},
   "source": [
    "2.绘制股价走势图"
   ]
  },
  {
   "cell_type": "markdown",
   "metadata": {},
   "source": [
    "已经有了股价数据后，我们可以通过可视化的方式将其展示出来，这里我们首先利用2.2.1节的补充知识点中的set_index()函数将日期设置为行索引，这样方便等会直接用pandas库进行绘图，代码如下："
   ]
  },
  {
   "cell_type": "code",
   "execution_count": 3,
   "metadata": {},
   "outputs": [
    {
     "data": {
      "text/html": [
       "<div>\n",
       "<style scoped>\n",
       "    .dataframe tbody tr th:only-of-type {\n",
       "        vertical-align: middle;\n",
       "    }\n",
       "\n",
       "    .dataframe tbody tr th {\n",
       "        vertical-align: top;\n",
       "    }\n",
       "\n",
       "    .dataframe thead th {\n",
       "        text-align: right;\n",
       "    }\n",
       "</style>\n",
       "<table border=\"1\" class=\"dataframe\">\n",
       "  <thead>\n",
       "    <tr style=\"text-align: right;\">\n",
       "      <th></th>\n",
       "      <th>open</th>\n",
       "      <th>close</th>\n",
       "      <th>high</th>\n",
       "      <th>low</th>\n",
       "      <th>volume</th>\n",
       "      <th>code</th>\n",
       "    </tr>\n",
       "    <tr>\n",
       "      <th>date</th>\n",
       "      <th></th>\n",
       "      <th></th>\n",
       "      <th></th>\n",
       "      <th></th>\n",
       "      <th></th>\n",
       "      <th></th>\n",
       "    </tr>\n",
       "  </thead>\n",
       "  <tbody>\n",
       "    <tr>\n",
       "      <th>2009-01-05</th>\n",
       "      <td>5.086</td>\n",
       "      <td>5.178</td>\n",
       "      <td>5.178</td>\n",
       "      <td>5.008</td>\n",
       "      <td>936048.88</td>\n",
       "      <td>000002</td>\n",
       "    </tr>\n",
       "    <tr>\n",
       "      <th>2009-01-06</th>\n",
       "      <td>5.163</td>\n",
       "      <td>5.333</td>\n",
       "      <td>5.372</td>\n",
       "      <td>5.109</td>\n",
       "      <td>1216831.18</td>\n",
       "      <td>000002</td>\n",
       "    </tr>\n",
       "    <tr>\n",
       "      <th>2009-01-07</th>\n",
       "      <td>5.356</td>\n",
       "      <td>5.302</td>\n",
       "      <td>5.457</td>\n",
       "      <td>5.302</td>\n",
       "      <td>834829.31</td>\n",
       "      <td>000002</td>\n",
       "    </tr>\n",
       "    <tr>\n",
       "      <th>2009-01-08</th>\n",
       "      <td>5.217</td>\n",
       "      <td>5.333</td>\n",
       "      <td>5.410</td>\n",
       "      <td>5.163</td>\n",
       "      <td>837661.70</td>\n",
       "      <td>000002</td>\n",
       "    </tr>\n",
       "    <tr>\n",
       "      <th>2009-01-09</th>\n",
       "      <td>5.333</td>\n",
       "      <td>5.325</td>\n",
       "      <td>5.418</td>\n",
       "      <td>5.263</td>\n",
       "      <td>626815.66</td>\n",
       "      <td>000002</td>\n",
       "    </tr>\n",
       "  </tbody>\n",
       "</table>\n",
       "</div>"
      ],
      "text/plain": [
       "             open  close   high    low      volume    code\n",
       "date                                                      \n",
       "2009-01-05  5.086  5.178  5.178  5.008   936048.88  000002\n",
       "2009-01-06  5.163  5.333  5.372  5.109  1216831.18  000002\n",
       "2009-01-07  5.356  5.302  5.457  5.302   834829.31  000002\n",
       "2009-01-08  5.217  5.333  5.410  5.163   837661.70  000002\n",
       "2009-01-09  5.333  5.325  5.418  5.263   626815.66  000002"
      ]
     },
     "execution_count": 3,
     "metadata": {},
     "output_type": "execute_result"
    }
   ],
   "source": [
    "df.set_index('date', inplace=True)\n",
    "df.head()"
   ]
  },
  {
   "cell_type": "markdown",
   "metadata": {},
   "source": [
    "通过2.3.1节补充知识点中pandas绘图的相关知识点来进行图形绘制，代码如下。因为在pandas库中plot()函数默认绘制的是折线图，所以直接写plot()即可，不需要传入kind参数。此外在金融领域，通常用收盘价作为当天价格来绘制股价走势图，因此这里选择的是close这一列。"
   ]
  },
  {
   "cell_type": "code",
   "execution_count": 4,
   "metadata": {},
   "outputs": [
    {
     "data": {
      "text/plain": [
       "<matplotlib.axes._subplots.AxesSubplot at 0x2077b28e1d0>"
      ]
     },
     "execution_count": 4,
     "metadata": {},
     "output_type": "execute_result"
    }
   ],
   "source": [
    "df['close'].plot()"
   ]
  },
  {
   "cell_type": "markdown",
   "metadata": {},
   "source": [
    "如果想给图片加一个标题，在pandas库中使用可以在plot()可以在里面传入一个title参数，代码如下，注意因为标题是中文内容，所以要写2.3.2节最后讲到的两行代码防止中文乱码。"
   ]
  },
  {
   "cell_type": "code",
   "execution_count": 5,
   "metadata": {},
   "outputs": [
    {
     "data": {
      "text/plain": [
       "<matplotlib.axes._subplots.AxesSubplot at 0x2077d76bbe0>"
      ]
     },
     "execution_count": 5,
     "metadata": {},
     "output_type": "execute_result"
    },
    {
     "data": {
      "image/png": "[encoded data removed]",
      "text/plain": [
       "<Figure size 432x288 with 1 Axes>"
      ]
     },
     "metadata": {
      "needs_background": "light"
     },
     "output_type": "display_data"
    }
   ],
   "source": [
    "import matplotlib.pyplot as plt\n",
    "plt.rcParams['font.sans-serif'] = ['SimHei']  # 用来正常显示中文标签\n",
    "df['close'].plot(title='万科股价走势图')    "
   ]
  },
  {
   "cell_type": "markdown",
   "metadata": {},
   "source": [
    "**补充知识点：直接使用Matplotlib库画图的注意点**"
   ]
  },
  {
   "cell_type": "markdown",
   "metadata": {},
   "source": [
    "上面使用的是pandas库中的plot()函数，pandas库其实是集成了Matplotlib库的一些功能，如果有的读者想直接用Matplotlib库进行股价走势画图，可以采用如下代码："
   ]
  },
  {
   "cell_type": "code",
   "execution_count": 6,
   "metadata": {},
   "outputs": [
    {
     "data": {
      "image/png": "[encoded data removed]",
      "text/plain": [
       "<Figure size 432x288 with 1 Axes>"
      ]
     },
     "metadata": {
      "needs_background": "light"
     },
     "output_type": "display_data"
    }
   ],
   "source": [
    "# 通过Tushare库获取股价数据\n",
    "import tushare as ts\n",
    "df = ts.get_k_data('000002', start='2009-01-01', end='2019-01-01')\n",
    "\n",
    "# 要注意的细节：调整日期格式使得横坐标显示清晰\n",
    "from datetime import datetime\n",
    "df['date'] = df['date'].apply(lambda x:datetime.strptime(x,'%Y-%m-%d'))\n",
    "\n",
    "# 绘制折线图\n",
    "import matplotlib.pyplot as plt\n",
    "plt.plot(df['date'], df['close'])\n",
    "plt.show()"
   ]
  },
  {
   "cell_type": "markdown",
   "metadata": {},
   "source": [
    "# 2.4.2 综合实战 - 股票K线图绘制"
   ]
  },
  {
   "cell_type": "markdown",
   "metadata": {},
   "source": [
    "**1.股票K线图基本知识**"
   ]
  },
  {
   "cell_type": "markdown",
   "metadata": {},
   "source": [
    "一个实际中的股票K线图如下图所示（这个是“贵州茅台”股票的日线级别的K线图）：\n",
    "![图片解释](https://uploader.shimo.im/f/wiLdVEhqGd4KndWk.png)\n",
    "\n",
    "没有接触过股票的读者可能会被里面的各个柱状图和折线图搞得一头雾水，而这些图形其实都是通过一些很基础的数据绘制而成，这一节便主要来科普下股票K线图的基本知识。\n",
    "这些柱状图，通常称之为“K线图”，是由股票的四个价格来绘制的：开盘价（当天上午9点半开始交易时的价格）、收盘价（当天下午3点结束交易时的价格）、最高价（当天股价波动中的最高价）、最低价（当天股价波动中的最低价），简称“高、开、低、收”四个价格。\n",
    "如下图所示，根据这四个价格便可以绘制出红色和绿色的K线图，因为形似蜡烛，因此也常被称之为蜡烛图。K线图分为两种，如果当天的收盘价高于开盘价，也就是说当天的价格上涨，则称之为阳线，通常绘制成红色；反之如果当天的收盘价低于开盘价，也就是说当天的价格下跌，则称之为阴线，通常绘制成绿色。补充说一句，在美国，反而是红色代表跌，绿色代表涨。\n",
    "\n",
    "![图片解释](https://uploader.shimo.im/f/blJRkjs9ejABHFgE.png!thumbnail)\n",
    "        \n",
    "这里再解释下均线图，也就是那些折线图的绘制原理。均线分为5日均线（通常称之为MA5）、10日均线（通常称之为MA10）、20日均线（通常称之为MA20）等，其原理就是将股价的收盘价求均值，例如5日均线就是最近连续5个交易日收盘价之和的平均值，具体的计算公式如下，其中Close1为当天的收盘价，Close2为前一天的收盘价，其余依次类推。\n",
    "MA5 = (Close1 + Close2 + Close3 + Close4 + Close5)/5\n",
    "\n",
    "把每个5日均线的值连成一条平滑的曲线就是5日均线图了，同理10日均线图和20日均线图也是类似的原理，这些均线图也就是我们在这一小节最开始看到图中的那些折线图。\n",
    "了解了股票K线图的基本知识后，下面我们就来进行K线图的绘制工作。"
   ]
  },
  {
   "cell_type": "markdown",
   "metadata": {},
   "source": [
    "**2.绘制股票K线图**"
   ]
  },
  {
   "cell_type": "markdown",
   "metadata": {},
   "source": [
    "(1) 安装绘制K线图的相关库：mpl_finance库"
   ]
  },
  {
   "cell_type": "markdown",
   "metadata": {},
   "source": [
    "首先需要安装绘制K线图的相关库：mpl_finance库，其安装办法稍微麻烦一点，推荐通过PIP安装法安装，以Windows系统为例，具体方法是：通过Win + R组合键调出运行框，输入cmd后回车，然后在弹出框中输入如下内容，按一下Enter回车键进行安装：\n",
    "\n",
    "pip install https://github.com/matplotlib/mpl_finance/archive/master.zip"
   ]
  },
  {
   "cell_type": "markdown",
   "metadata": {},
   "source": [
    "如果是在在1.2.3节讲到的Jupyter Notebook中安装，则在pip前面加一个英文的感叹号“!”然后运行该代码块即可。"
   ]
  },
  {
   "cell_type": "code",
   "execution_count": 7,
   "metadata": {},
   "outputs": [],
   "source": [
    "# 通过如下代码，可以在Jupyter Notebook中安装。（需取消注释）\n",
    "# !pip install https://github.com/matplotlib/mpl_finance/archive/master.zip"
   ]
  },
  {
   "cell_type": "markdown",
   "metadata": {},
   "source": [
    "(2) 引入绘图相关库"
   ]
  },
  {
   "cell_type": "code",
   "execution_count": 8,
   "metadata": {},
   "outputs": [],
   "source": [
    "# 首先引入一些绘图需要用到的库，代码如下：\n",
    "import tushare as ts\n",
    "import matplotlib.pyplot as plt\n",
    "import mpl_finance as mpf\n",
    "import seaborn as sns\n",
    "sns.set()"
   ]
  },
  {
   "cell_type": "markdown",
   "metadata": {},
   "source": [
    "第一个引入2.4.1节讲到的Tushare库，第二引入2.3.1节讲到的Matplotlib库在；第三个引入刚刚安装的mpl_finance库；第四个seaborn库是一个图表美化库，通过sns.set()即可激活，如果是通过1.2.1节Anaconda安装的Python，那么就自带该库了，无需额外安装。上面的代码直接拿去运行即可。"
   ]
  },
  {
   "cell_type": "markdown",
   "metadata": {},
   "source": [
    "(3) 通过Tushare库获取股票基本数据"
   ]
  },
  {
   "cell_type": "code",
   "execution_count": 9,
   "metadata": {},
   "outputs": [
    {
     "data": {
      "text/html": [
       "<div>\n",
       "<style scoped>\n",
       "    .dataframe tbody tr th:only-of-type {\n",
       "        vertical-align: middle;\n",
       "    }\n",
       "\n",
       "    .dataframe tbody tr th {\n",
       "        vertical-align: top;\n",
       "    }\n",
       "\n",
       "    .dataframe thead th {\n",
       "        text-align: right;\n",
       "    }\n",
       "</style>\n",
       "<table border=\"1\" class=\"dataframe\">\n",
       "  <thead>\n",
       "    <tr style=\"text-align: right;\">\n",
       "      <th></th>\n",
       "      <th>date</th>\n",
       "      <th>open</th>\n",
       "      <th>close</th>\n",
       "      <th>high</th>\n",
       "      <th>low</th>\n",
       "      <th>volume</th>\n",
       "      <th>code</th>\n",
       "    </tr>\n",
       "  </thead>\n",
       "  <tbody>\n",
       "    <tr>\n",
       "      <th>99</th>\n",
       "      <td>2019-06-03</td>\n",
       "      <td>26.81</td>\n",
       "      <td>26.44</td>\n",
       "      <td>27.02</td>\n",
       "      <td>26.28</td>\n",
       "      <td>317567.0</td>\n",
       "      <td>000002</td>\n",
       "    </tr>\n",
       "    <tr>\n",
       "      <th>100</th>\n",
       "      <td>2019-06-04</td>\n",
       "      <td>26.47</td>\n",
       "      <td>26.30</td>\n",
       "      <td>26.54</td>\n",
       "      <td>26.25</td>\n",
       "      <td>203260.0</td>\n",
       "      <td>000002</td>\n",
       "    </tr>\n",
       "    <tr>\n",
       "      <th>101</th>\n",
       "      <td>2019-06-05</td>\n",
       "      <td>26.64</td>\n",
       "      <td>27.03</td>\n",
       "      <td>27.28</td>\n",
       "      <td>26.63</td>\n",
       "      <td>576164.0</td>\n",
       "      <td>000002</td>\n",
       "    </tr>\n",
       "    <tr>\n",
       "      <th>102</th>\n",
       "      <td>2019-06-06</td>\n",
       "      <td>27.01</td>\n",
       "      <td>27.12</td>\n",
       "      <td>27.29</td>\n",
       "      <td>26.92</td>\n",
       "      <td>333792.0</td>\n",
       "      <td>000002</td>\n",
       "    </tr>\n",
       "    <tr>\n",
       "      <th>103</th>\n",
       "      <td>2019-06-10</td>\n",
       "      <td>27.29</td>\n",
       "      <td>27.81</td>\n",
       "      <td>28.05</td>\n",
       "      <td>27.17</td>\n",
       "      <td>527547.0</td>\n",
       "      <td>000002</td>\n",
       "    </tr>\n",
       "  </tbody>\n",
       "</table>\n",
       "</div>"
      ],
      "text/plain": [
       "           date   open  close   high    low    volume    code\n",
       "99   2019-06-03  26.81  26.44  27.02  26.28  317567.0  000002\n",
       "100  2019-06-04  26.47  26.30  26.54  26.25  203260.0  000002\n",
       "101  2019-06-05  26.64  27.03  27.28  26.63  576164.0  000002\n",
       "102  2019-06-06  27.01  27.12  27.29  26.92  333792.0  000002\n",
       "103  2019-06-10  27.29  27.81  28.05  27.17  527547.0  000002"
      ]
     },
     "execution_count": 9,
     "metadata": {},
     "output_type": "execute_result"
    }
   ],
   "source": [
    "# 通过Tushare库获取股票代码为“000002”的股票“万科A”在2019-06-01至2019-09-30的股价数据，代码如下：\n",
    "df = ts.get_k_data('000002','2019-06-01', '2019-09-30')\n",
    "df.head()"
   ]
  },
  {
   "cell_type": "markdown",
   "metadata": {},
   "source": [
    "(4) 日期格式调整及表格转换"
   ]
  },
  {
   "cell_type": "markdown",
   "metadata": {},
   "source": [
    "因为绘制K线图的candlestick_ochl()函数只能接收特定格式的日期格式，以及数组格式的内容，所以我们需要将原来文本类型的日期格式调整一下，代码如下：\n"
   ]
  },
  {
   "cell_type": "code",
   "execution_count": 10,
   "metadata": {},
   "outputs": [
    {
     "data": {
      "text/plain": [
       "array([[737213.0, 26.81, 26.44, 27.02, 26.28, 317567.0, '000002'],\n",
       "       [737214.0, 26.47, 26.3, 26.54, 26.25, 203260.0, '000002'],\n",
       "       [737215.0, 26.64, 27.03, 27.28, 26.63, 576164.0, '000002'],\n",
       "       [737216.0, 27.01, 27.12, 27.29, 26.92, 333792.0, '000002'],\n",
       "       [737220.0, 27.29, 27.81, 28.05, 27.17, 527547.0, '000002']],\n",
       "      dtype=object)"
      ]
     },
     "execution_count": 10,
     "metadata": {},
     "output_type": "execute_result"
    }
   ],
   "source": [
    "# 导入日期格式调整涉及的两个库\n",
    "from matplotlib.pylab import date2num\n",
    "import datetime\n",
    "\n",
    "# 对tushare获取到的日期数据转换成candlestick_ohlc()函数可读取的数字格式\n",
    "def date_to_num(dates):\n",
    "    num_time = []\n",
    "    for date in dates:\n",
    "        date_time = datetime.datetime.strptime(date,'%Y-%m-%d')\n",
    "        num_date = date2num(date_time)\n",
    "        num_time.append(num_date)\n",
    "    return num_time\n",
    "\n",
    "# 将DataFrame转换为二维数组，并利用date_to_num()函数转换日期\n",
    "df_arr = df.values  # 将DataFrame格式的数据，转换为array二维数组\n",
    "df_arr[:,0] = date_to_num(df_arr[:,0])  # 将原来日期格式的日期换成数字格式\n",
    "\n",
    "df_arr[0:5] # 查看此时的df_arr的前5项"
   ]
  },
  {
   "cell_type": "markdown",
   "metadata": {},
   "source": [
    "(5) 绘制K线图"
   ]
  },
  {
   "cell_type": "markdown",
   "metadata": {},
   "source": [
    "转换好数据格式后，K线图的绘制就比较简单了，通过candlestick_ochl()函数便能够轻松的绘制K线图了，代码如下："
   ]
  },
  {
   "cell_type": "code",
   "execution_count": 11,
   "metadata": {},
   "outputs": [
    {
     "data": {
      "image/png": "[encoded data removed]",
      "text/plain": [
       "<Figure size 1080x432 with 1 Axes>"
      ]
     },
     "metadata": {},
     "output_type": "display_data"
    }
   ],
   "source": [
    "fig, ax = plt.subplots(figsize=(15,6))\n",
    "mpf.candlestick_ochl(ax, df_arr, width=0.6, colorup='r', colordown='g', alpha=1.0)\n",
    "plt.grid(True)  # 绘制网格\n",
    "ax.xaxis_date()  # 设置x轴的刻度为日期"
   ]
  },
  {
   "cell_type": "markdown",
   "metadata": {},
   "source": [
    "**candlestick_ochl()函数的参数：**\n",
    "\n",
    "    ax：绘图Axes的实例，也就是画布中的子图；\n",
    "\n",
    "    df_arr：股价历史数据；\n",
    "\n",
    "    width：图像中红绿矩形的宽度；\n",
    "\n",
    "    colorup：收盘价格大于开盘价格时矩形的颜色；\n",
    "\n",
    "    colordown：收盘价格低于开盘价格时矩形的颜色；\n",
    "\n",
    "    alpha：矩形的颜色的透明度；"
   ]
  },
  {
   "cell_type": "markdown",
   "metadata": {},
   "source": [
    "(6) 绘制K线图及均线图\n",
    "\n",
    "有了K线图之后，我们再来补上均线图，这里我们主要补上5日均线和10日均线图，首先我们通过如下代码构造5日均线和10日均线数据："
   ]
  },
  {
   "cell_type": "code",
   "execution_count": 12,
   "metadata": {},
   "outputs": [
    {
     "data": {
      "text/html": [
       "<div>\n",
       "<style scoped>\n",
       "    .dataframe tbody tr th:only-of-type {\n",
       "        vertical-align: middle;\n",
       "    }\n",
       "\n",
       "    .dataframe tbody tr th {\n",
       "        vertical-align: top;\n",
       "    }\n",
       "\n",
       "    .dataframe thead th {\n",
       "        text-align: right;\n",
       "    }\n",
       "</style>\n",
       "<table border=\"1\" class=\"dataframe\">\n",
       "  <thead>\n",
       "    <tr style=\"text-align: right;\">\n",
       "      <th></th>\n",
       "      <th>date</th>\n",
       "      <th>open</th>\n",
       "      <th>close</th>\n",
       "      <th>high</th>\n",
       "      <th>low</th>\n",
       "      <th>volume</th>\n",
       "      <th>code</th>\n",
       "      <th>MA5</th>\n",
       "      <th>MA10</th>\n",
       "    </tr>\n",
       "  </thead>\n",
       "  <tbody>\n",
       "    <tr>\n",
       "      <th>99</th>\n",
       "      <td>2019-06-03</td>\n",
       "      <td>26.81</td>\n",
       "      <td>26.44</td>\n",
       "      <td>27.02</td>\n",
       "      <td>26.28</td>\n",
       "      <td>317567.0</td>\n",
       "      <td>000002</td>\n",
       "      <td>NaN</td>\n",
       "      <td>NaN</td>\n",
       "    </tr>\n",
       "    <tr>\n",
       "      <th>100</th>\n",
       "      <td>2019-06-04</td>\n",
       "      <td>26.47</td>\n",
       "      <td>26.30</td>\n",
       "      <td>26.54</td>\n",
       "      <td>26.25</td>\n",
       "      <td>203260.0</td>\n",
       "      <td>000002</td>\n",
       "      <td>NaN</td>\n",
       "      <td>NaN</td>\n",
       "    </tr>\n",
       "    <tr>\n",
       "      <th>101</th>\n",
       "      <td>2019-06-05</td>\n",
       "      <td>26.64</td>\n",
       "      <td>27.03</td>\n",
       "      <td>27.28</td>\n",
       "      <td>26.63</td>\n",
       "      <td>576164.0</td>\n",
       "      <td>000002</td>\n",
       "      <td>NaN</td>\n",
       "      <td>NaN</td>\n",
       "    </tr>\n",
       "    <tr>\n",
       "      <th>102</th>\n",
       "      <td>2019-06-06</td>\n",
       "      <td>27.01</td>\n",
       "      <td>27.12</td>\n",
       "      <td>27.29</td>\n",
       "      <td>26.92</td>\n",
       "      <td>333792.0</td>\n",
       "      <td>000002</td>\n",
       "      <td>NaN</td>\n",
       "      <td>NaN</td>\n",
       "    </tr>\n",
       "    <tr>\n",
       "      <th>103</th>\n",
       "      <td>2019-06-10</td>\n",
       "      <td>27.29</td>\n",
       "      <td>27.81</td>\n",
       "      <td>28.05</td>\n",
       "      <td>27.17</td>\n",
       "      <td>527547.0</td>\n",
       "      <td>000002</td>\n",
       "      <td>26.940</td>\n",
       "      <td>NaN</td>\n",
       "    </tr>\n",
       "    <tr>\n",
       "      <th>104</th>\n",
       "      <td>2019-06-11</td>\n",
       "      <td>27.87</td>\n",
       "      <td>28.33</td>\n",
       "      <td>28.45</td>\n",
       "      <td>27.85</td>\n",
       "      <td>449630.0</td>\n",
       "      <td>000002</td>\n",
       "      <td>27.318</td>\n",
       "      <td>NaN</td>\n",
       "    </tr>\n",
       "    <tr>\n",
       "      <th>105</th>\n",
       "      <td>2019-06-12</td>\n",
       "      <td>28.24</td>\n",
       "      <td>28.00</td>\n",
       "      <td>28.29</td>\n",
       "      <td>27.81</td>\n",
       "      <td>269372.0</td>\n",
       "      <td>000002</td>\n",
       "      <td>27.658</td>\n",
       "      <td>NaN</td>\n",
       "    </tr>\n",
       "    <tr>\n",
       "      <th>106</th>\n",
       "      <td>2019-06-13</td>\n",
       "      <td>28.00</td>\n",
       "      <td>27.83</td>\n",
       "      <td>28.05</td>\n",
       "      <td>27.58</td>\n",
       "      <td>250431.0</td>\n",
       "      <td>000002</td>\n",
       "      <td>27.818</td>\n",
       "      <td>NaN</td>\n",
       "    </tr>\n",
       "    <tr>\n",
       "      <th>107</th>\n",
       "      <td>2019-06-14</td>\n",
       "      <td>28.01</td>\n",
       "      <td>27.93</td>\n",
       "      <td>28.29</td>\n",
       "      <td>27.78</td>\n",
       "      <td>311417.0</td>\n",
       "      <td>000002</td>\n",
       "      <td>27.980</td>\n",
       "      <td>NaN</td>\n",
       "    </tr>\n",
       "    <tr>\n",
       "      <th>108</th>\n",
       "      <td>2019-06-17</td>\n",
       "      <td>27.80</td>\n",
       "      <td>27.91</td>\n",
       "      <td>28.20</td>\n",
       "      <td>27.75</td>\n",
       "      <td>171672.0</td>\n",
       "      <td>000002</td>\n",
       "      <td>28.000</td>\n",
       "      <td>27.470</td>\n",
       "    </tr>\n",
       "    <tr>\n",
       "      <th>109</th>\n",
       "      <td>2019-06-18</td>\n",
       "      <td>28.08</td>\n",
       "      <td>27.70</td>\n",
       "      <td>28.11</td>\n",
       "      <td>27.40</td>\n",
       "      <td>219162.0</td>\n",
       "      <td>000002</td>\n",
       "      <td>27.874</td>\n",
       "      <td>27.596</td>\n",
       "    </tr>\n",
       "    <tr>\n",
       "      <th>110</th>\n",
       "      <td>2019-06-19</td>\n",
       "      <td>28.20</td>\n",
       "      <td>27.73</td>\n",
       "      <td>28.38</td>\n",
       "      <td>27.59</td>\n",
       "      <td>390157.0</td>\n",
       "      <td>000002</td>\n",
       "      <td>27.820</td>\n",
       "      <td>27.739</td>\n",
       "    </tr>\n",
       "    <tr>\n",
       "      <th>111</th>\n",
       "      <td>2019-06-20</td>\n",
       "      <td>27.70</td>\n",
       "      <td>28.45</td>\n",
       "      <td>28.45</td>\n",
       "      <td>27.63</td>\n",
       "      <td>577484.0</td>\n",
       "      <td>000002</td>\n",
       "      <td>27.944</td>\n",
       "      <td>27.881</td>\n",
       "    </tr>\n",
       "    <tr>\n",
       "      <th>112</th>\n",
       "      <td>2019-06-21</td>\n",
       "      <td>28.40</td>\n",
       "      <td>28.31</td>\n",
       "      <td>28.52</td>\n",
       "      <td>28.12</td>\n",
       "      <td>492537.0</td>\n",
       "      <td>000002</td>\n",
       "      <td>28.020</td>\n",
       "      <td>28.000</td>\n",
       "    </tr>\n",
       "    <tr>\n",
       "      <th>113</th>\n",
       "      <td>2019-06-24</td>\n",
       "      <td>28.12</td>\n",
       "      <td>28.13</td>\n",
       "      <td>28.25</td>\n",
       "      <td>28.03</td>\n",
       "      <td>270128.0</td>\n",
       "      <td>000002</td>\n",
       "      <td>28.064</td>\n",
       "      <td>28.032</td>\n",
       "    </tr>\n",
       "  </tbody>\n",
       "</table>\n",
       "</div>"
      ],
      "text/plain": [
       "           date   open  close   high    low    volume    code     MA5    MA10\n",
       "99   2019-06-03  26.81  26.44  27.02  26.28  317567.0  000002     NaN     NaN\n",
       "100  2019-06-04  26.47  26.30  26.54  26.25  203260.0  000002     NaN     NaN\n",
       "101  2019-06-05  26.64  27.03  27.28  26.63  576164.0  000002     NaN     NaN\n",
       "102  2019-06-06  27.01  27.12  27.29  26.92  333792.0  000002     NaN     NaN\n",
       "103  2019-06-10  27.29  27.81  28.05  27.17  527547.0  000002  26.940     NaN\n",
       "104  2019-06-11  27.87  28.33  28.45  27.85  449630.0  000002  27.318     NaN\n",
       "105  2019-06-12  28.24  28.00  28.29  27.81  269372.0  000002  27.658     NaN\n",
       "106  2019-06-13  28.00  27.83  28.05  27.58  250431.0  000002  27.818     NaN\n",
       "107  2019-06-14  28.01  27.93  28.29  27.78  311417.0  000002  27.980     NaN\n",
       "108  2019-06-17  27.80  27.91  28.20  27.75  171672.0  000002  28.000  27.470\n",
       "109  2019-06-18  28.08  27.70  28.11  27.40  219162.0  000002  27.874  27.596\n",
       "110  2019-06-19  28.20  27.73  28.38  27.59  390157.0  000002  27.820  27.739\n",
       "111  2019-06-20  27.70  28.45  28.45  27.63  577484.0  000002  27.944  27.881\n",
       "112  2019-06-21  28.40  28.31  28.52  28.12  492537.0  000002  28.020  28.000\n",
       "113  2019-06-24  28.12  28.13  28.25  28.03  270128.0  000002  28.064  28.032"
      ]
     },
     "execution_count": 12,
     "metadata": {},
     "output_type": "execute_result"
    }
   ],
   "source": [
    "df['MA5'] = df['close'].rolling(5).mean()\n",
    "df['MA10'] = df['close'].rolling(10).mean()\n",
    "\n",
    "df.head(15)  # 查看此时的前15行"
   ]
  },
  {
   "cell_type": "code",
   "execution_count": 13,
   "metadata": {},
   "outputs": [
    {
     "data": {
      "image/png": "[encoded data removed]",
      "text/plain": [
       "<Figure size 1080x432 with 1 Axes>"
      ]
     },
     "metadata": {},
     "output_type": "display_data"
    }
   ],
   "source": [
    "# 有了5日均线和10日均线数据后，就可以将其绘制在图形中了，代码如下：\n",
    "plt.rcParams['font.sans-serif'] = ['SimHei']  # 用来正常显示中文标签\n",
    "\n",
    "fig, ax = plt.subplots(figsize=(15,6))\n",
    "\n",
    "mpf.candlestick_ochl(ax, df_arr, width=0.6, colorup='r', colordown='g', alpha=1.0) \n",
    "plt.plot(df_arr[:,0], df['MA5'])  # 绘制5日均线\n",
    "plt.plot(df_arr[:,0], df['MA10'])  # 绘制10日均线\n",
    "\n",
    "plt.grid(True)  # 绘制网格\n",
    "\n",
    "plt.title('万科A')  # 设置标题\n",
    "plt.xlabel('日期')  # 设置X轴图例\n",
    "plt.ylabel('价格')  # 设置Y轴图例\n",
    "\n",
    "ax.xaxis_date () # 设置x轴的刻度为日期"
   ]
  },
  {
   "cell_type": "markdown",
   "metadata": {},
   "source": [
    "(7) 绘制股票K线图、均线图、成交量柱状图\n",
    "\n",
    "在现实中，和股票K线图、均线图一同出现的还有每日成交量的的柱状图，我们利用2.3.2节绘制多图的知识点，即可通过如下代码在一张画布中绘制两个子图，包含K线图、均线图、成交量柱状图："
   ]
  },
  {
   "cell_type": "code",
   "execution_count": 14,
   "metadata": {},
   "outputs": [
    {
     "data": {
      "image/png": "[encoded data removed]",
      "text/plain": [
       "<Figure size 1080x576 with 2 Axes>"
      ]
     },
     "metadata": {},
     "output_type": "display_data"
    }
   ],
   "source": [
    "fig, axes = plt.subplots(2, 1, sharex=True, figsize=(15,8))\n",
    "ax1, ax2 = axes.flatten()\n",
    "\n",
    "# 绘制第一张子图：K线图和均线图\n",
    "mpf.candlestick_ochl(ax1, df_arr, width=0.6, colorup = 'r', colordown = 'g', alpha=1.0)\n",
    "\n",
    "ax1.plot(df_arr[:,0], df['MA5'])  # 绘制5日均线\n",
    "ax1.plot(df_arr[:,0], df['MA10'])  # 绘制10日均线\n",
    "\n",
    "ax1.set_title('万科A')  # 设置子图标题\n",
    "ax1.set_ylabel('价格')  # 设置子图Y轴标签\n",
    "ax1.grid(True)\n",
    "ax1.xaxis_date()\n",
    "\n",
    "# 绘制第二张子图：成交量图\n",
    "ax2.bar(df_arr[:,0], df_arr[:,5])  # 绘制成交量柱状图\n",
    "ax2.set_xlabel('日期')  # 设置子图X轴标签\n",
    "ax2.set_ylabel('成交量')  # 设置子图Y轴标签\n",
    "ax2.grid(True)\n",
    "ax2.xaxis_date()"
   ]
  },
  {
   "cell_type": "markdown",
   "metadata": {},
   "source": [
    "其中第1-2行代码利用2.3.2节绘制多图相关知识点先构造一个画布和两个子图，这里同时设置sharex参数为True，这样两张子图就可以共用一个坐标轴了；第4-13行绘制第一张子图，其中在子图中设置标题或者坐标轴标题得使用set_title()、set_ylabel()、set_xlabel()这样的函数；第15-20行绘制第二张子图：成交量图，其中df_arr[:,0]表示二维数组的第1列，也即日期那列，df_arr[:,5]表示二维数组的第6列，也即成交量那列数据，然后通过2.3.1节讲过的bar()函数绘制成柱状图。"
   ]
  },
  {
   "cell_type": "markdown",
   "metadata": {},
   "source": [
    "我们可以和新浪财经网上的实际图像对比一下，如下图所示，发现通过Python绘制的K线图相关图片和网上的图片基本一致。\n",
    "![图片解释](https://uploader.shimo.im/f/BhOBA3Zs73Yy74lA.png!thumbnail)"
   ]
  },
  {
   "cell_type": "markdown",
   "metadata": {},
   "source": [
    "至此，数据分析的相关3大武器库已经给大家讲解完毕了，其实关于这三个库还有很多可以挖掘的知识点，由于篇幅有限，这里就不再赘述。这一章内容相对较多，读者朋友可以将这一章当作一个工具章，有需要的时候再返回看看需要用到的知识点。"
   ]
  }
 ],
 "metadata": {
  "kernelspec": {
   "display_name": "Python 3",
   "language": "python",
   "name": "python3"
  },
  "language_info": {
   "codemirror_mode": {
    "name": "ipython",
    "version": 3
   },
   "file_extension": ".py",
   "mimetype": "text/x-python",
   "name": "python",
   "nbconvert_exporter": "python",
   "pygments_lexer": "ipython3",
   "version": "3.7.0"
  }
 },
 "nbformat": 4,
 "nbformat_minor": 2
}
