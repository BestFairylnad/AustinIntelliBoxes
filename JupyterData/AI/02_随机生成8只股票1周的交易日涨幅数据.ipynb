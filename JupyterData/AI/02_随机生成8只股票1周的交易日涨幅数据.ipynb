{
 "cells": [
  {
   "cell_type": "markdown",
   "source": [
    "# 随机生成8只股票1周的交易日涨幅数据"
   ],
   "metadata": {
    "collapsed": false
   },
   "id": "d46c3d20a54697b2"
  },
  {
   "cell_type": "code",
   "execution_count": 102,
   "outputs": [],
   "source": [
    "import numpy as np\n",
    "\n",
    "# 随机生成一个8行5列的数组\n",
    "data = np.random.standard_normal((8, 5))"
   ],
   "metadata": {
    "collapsed": false,
    "ExecuteTime": {
     "end_time": "2023-09-07T11:25:19.831361300Z",
     "start_time": "2023-09-07T11:25:19.801966100Z"
    }
   },
   "id": "e94f6579846302f8"
  },
  {
   "cell_type": "code",
   "execution_count": 103,
   "outputs": [
    {
     "data": {
      "text/plain": "array([[ 0.46574093, -0.13329955, -0.09244238, -0.85598193,  0.556126  ],\n       [ 0.67140533,  1.08057276, -1.22480997,  0.97388514,  0.47115696],\n       [ 0.29852232,  0.60751031, -0.20519433,  0.63992157,  0.44914716],\n       [-0.96535908,  0.31224731,  2.56665724,  0.78423626,  0.45163053],\n       [-1.11337928, -1.09790455,  0.01719281,  0.14658643,  2.04853665],\n       [ 0.08228616,  0.37117208,  1.40720216,  0.03950081,  1.03145978],\n       [-1.06629768,  0.77323806, -1.44866116,  1.38963722, -1.00190636],\n       [ 0.48735563, -0.17047241,  1.25490855,  0.28290496,  0.06518624]])"
     },
     "execution_count": 103,
     "metadata": {},
     "output_type": "execute_result"
    }
   ],
   "source": [
    "data"
   ],
   "metadata": {
    "collapsed": false,
    "ExecuteTime": {
     "end_time": "2023-09-07T11:25:19.832358500Z",
     "start_time": "2023-09-07T11:25:19.815518400Z"
    }
   },
   "id": "6551289d775e3b01"
  },
  {
   "cell_type": "code",
   "execution_count": 104,
   "outputs": [
    {
     "data": {
      "text/plain": "array([[ 0.46574093, -0.13329955, -0.09244238, -0.85598193,  0.556126  ],\n       [ 0.29852232,  0.60751031, -0.20519433,  0.63992157,  0.44914716]])"
     },
     "execution_count": 104,
     "metadata": {},
     "output_type": "execute_result"
    }
   ],
   "source": [
    "# 切片\n",
    "data[:4:2, :]"
   ],
   "metadata": {
    "collapsed": false,
    "ExecuteTime": {
     "end_time": "2023-09-07T11:25:19.852463500Z",
     "start_time": "2023-09-07T11:25:19.831361300Z"
    }
   },
   "id": "ef623668dcad28b2"
  },
  {
   "cell_type": "code",
   "execution_count": 105,
   "outputs": [],
   "source": [
    "# 形状修改\n",
    "temp = np.linspace(1, 12, 12)\n",
    "# 生成新的数组，不修改原数组\n",
    "reshape_temp = temp.reshape((3, 4))\n",
    "# 修改原数组\n",
    "# temp.resize((3, 4))\n",
    "# 行列互换\n",
    "# temp.T\n",
    "# 类型修改 dtype (需要赋值)\n",
    "temp_convert_int = temp.astype(np.int64)\n",
    "reshape_temp_convert_int = reshape_temp.astype(np.int64)\n",
    "# 类型转换\n",
    "temp_convert_list = temp.tolist()\n",
    "reshape_temp_convert_list = reshape_temp.tolist()\n",
    "# list 数据转为 ndarray 对象\n",
    "list_data_1 = [1, 2, 3, 4, 5, 6, 7, 8, 9, 10, 11, 12]\n",
    "list_data_2 = [[1, 2, 3, 4], [5, 6, 7, 8], [9, 10, 11, 12]]\n",
    "list_data_1_convert_array = np.array(list_data_1)\n",
    "list_data_2_convert_array = np.array(list_data_2)\n",
    "# 数组去重\n",
    "defined_array = [[1, 2, 3, 4], [4, 5, 6, 7], [5, 6, 7, 8]]\n",
    "uniq = np.unique(defined_array)\n",
    "# s = np.array(uniq).reshape((2, 4))"
   ],
   "metadata": {
    "collapsed": false,
    "ExecuteTime": {
     "end_time": "2023-09-07T11:25:19.897367Z",
     "start_time": "2023-09-07T11:25:19.851464200Z"
    }
   },
   "id": "6b61eb6556e80e05"
  },
  {
   "cell_type": "code",
   "execution_count": 105,
   "outputs": [],
   "source": [],
   "metadata": {
    "collapsed": false,
    "ExecuteTime": {
     "end_time": "2023-09-07T11:25:19.898871800Z",
     "start_time": "2023-09-07T11:25:19.860567300Z"
    }
   },
   "id": "6e56c6b84ddbc139"
  }
 ],
 "metadata": {
  "kernelspec": {
   "display_name": "Python 3",
   "language": "python",
   "name": "python3"
  },
  "language_info": {
   "codemirror_mode": {
    "name": "ipython",
    "version": 2
   },
   "file_extension": ".py",
   "mimetype": "text/x-python",
   "name": "python",
   "nbconvert_exporter": "python",
   "pygments_lexer": "ipython2",
   "version": "2.7.6"
  }
 },
 "nbformat": 4,
 "nbformat_minor": 5
}
