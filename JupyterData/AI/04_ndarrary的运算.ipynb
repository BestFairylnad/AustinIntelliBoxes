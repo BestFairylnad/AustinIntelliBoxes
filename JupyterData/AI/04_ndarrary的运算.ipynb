{
 "cells": [
  {
   "cell_type": "markdown",
   "source": [
    "# ndarray运算"
   ],
   "metadata": {
    "collapsed": false
   },
   "id": "ffca31ec3b0bc040"
  },
  {
   "cell_type": "markdown",
   "source": [
    "## 逻辑运算"
   ],
   "metadata": {
    "collapsed": false
   },
   "id": "d418f1839eb94bcc"
  },
  {
   "cell_type": "code",
   "execution_count": 2,
   "id": "initial_id",
   "metadata": {
    "collapsed": true,
    "ExecuteTime": {
     "end_time": "2023-09-07T09:39:20.543434100Z",
     "start_time": "2023-09-07T09:39:20.533405100Z"
    }
   },
   "outputs": [],
   "source": [
    "import numpy as np\n"
   ]
  },
  {
   "cell_type": "code",
   "execution_count": 3,
   "outputs": [],
   "source": [
    "stock_change = np.random.standard_normal((8, 5))"
   ],
   "metadata": {
    "collapsed": false,
    "ExecuteTime": {
     "end_time": "2023-09-07T09:40:00.207412900Z",
     "start_time": "2023-09-07T09:40:00.184354700Z"
    }
   },
   "id": "f8a52dcd23cd8304"
  },
  {
   "cell_type": "code",
   "execution_count": 4,
   "outputs": [
    {
     "data": {
      "text/plain": "array([[False,  True,  True, False, False],\n       [False, False,  True, False, False],\n       [False,  True, False, False,  True],\n       [ True, False,  True, False,  True],\n       [False, False, False, False, False],\n       [ True,  True, False, False, False],\n       [False, False, False, False,  True],\n       [False, False, False, False,  True]])"
     },
     "execution_count": 4,
     "metadata": {},
     "output_type": "execute_result"
    }
   ],
   "source": [
    "# 逻辑判断 如果涨跌幅大于0.5就标记为True 否则为False, 对每个元素做相应的逻辑判断\n",
    "stock_change > 0.5"
   ],
   "metadata": {
    "collapsed": false,
    "ExecuteTime": {
     "end_time": "2023-09-07T09:40:14.493752Z",
     "start_time": "2023-09-07T09:40:14.465818300Z"
    }
   },
   "id": "670e14fa90db824a"
  },
  {
   "cell_type": "code",
   "execution_count": 5,
   "outputs": [
    {
     "data": {
      "text/plain": "array([1.19941802, 1.95801227, 0.9257031 , 2.23366372, 1.32292056,\n       1.66863635, 0.99017492, 0.66821645, 2.04967276, 0.96966268,\n       1.72627668, 1.04767313])"
     },
     "execution_count": 5,
     "metadata": {},
     "output_type": "execute_result"
    }
   ],
   "source": [
    "# bool索引\n",
    "temp = stock_change > 0.5\n",
    "# 取出temp中为true的元素的值\n",
    "stock_change[temp]"
   ],
   "metadata": {
    "collapsed": false,
    "ExecuteTime": {
     "end_time": "2023-09-07T09:40:56.044402200Z",
     "start_time": "2023-09-07T09:40:56.023319200Z"
    }
   },
   "id": "4e724849c292de19"
  },
  {
   "cell_type": "code",
   "execution_count": 7,
   "outputs": [
    {
     "data": {
      "text/plain": "array([[-0.63820317,  1.19941802,  1.95801227, -0.11892691, -1.2792647 ],\n       [-0.4963508 , -2.53621903,  0.9257031 , -0.53433284, -0.15782074],\n       [ 0.026423  ,  2.23366372,  0.03567204, -0.63058815,  1.32292056],\n       [ 1.66863635, -0.68811214,  0.99017492, -0.77993603,  0.66821645],\n       [ 0.0131139 ,  0.23045296,  0.12997876,  0.24422285,  0.20079181],\n       [ 2.04967276,  0.96966268, -1.20252316,  0.02729086,  0.29036357],\n       [-0.04612226,  0.49240439, -1.40574421, -0.33431744,  1.72627668],\n       [-0.0129942 ,  0.12653451, -0.37755406, -1.13288048,  1.04767313]])"
     },
     "execution_count": 7,
     "metadata": {},
     "output_type": "execute_result"
    }
   ],
   "source": [
    "stock_change"
   ],
   "metadata": {
    "collapsed": false,
    "ExecuteTime": {
     "end_time": "2023-09-07T09:44:03.355366700Z",
     "start_time": "2023-09-07T09:44:03.325622400Z"
    }
   },
   "id": "76bc9922b0ab5f8d"
  },
  {
   "cell_type": "code",
   "execution_count": 11,
   "outputs": [
    {
     "data": {
      "text/plain": "array([[-0.63820317,  1.19941802,  1.95801227, -0.11892691, -1.2792647 ],\n       [-0.4963508 , -2.53621903,  0.9257031 , -0.53433284, -0.15782074]])"
     },
     "execution_count": 11,
     "metadata": {},
     "output_type": "execute_result"
    }
   ],
   "source": [
    "stock_change[0:2, :]"
   ],
   "metadata": {
    "collapsed": false,
    "ExecuteTime": {
     "end_time": "2023-09-07T09:45:17.945022800Z",
     "start_time": "2023-09-07T09:45:17.912935900Z"
    }
   },
   "id": "a3918c2ab210aae8"
  },
  {
   "cell_type": "code",
   "execution_count": 12,
   "outputs": [
    {
     "data": {
      "text/plain": "False"
     },
     "execution_count": 12,
     "metadata": {},
     "output_type": "execute_result"
    }
   ],
   "source": [
    "# 判断stock_change[0:2, 0:5]是否全是上涨的\n",
    "np.all(stock_change[0:2, 0:5] > 0)"
   ],
   "metadata": {
    "collapsed": false,
    "ExecuteTime": {
     "end_time": "2023-09-07T09:45:22.832517100Z",
     "start_time": "2023-09-07T09:45:22.813416300Z"
    }
   },
   "id": "fdf536fcb08852c0"
  },
  {
   "cell_type": "code",
   "execution_count": 14,
   "outputs": [
    {
     "data": {
      "text/plain": "False"
     },
     "execution_count": 14,
     "metadata": {},
     "output_type": "execute_result"
    }
   ],
   "source": [
    "# 判断前5只股票这段期间是否有上涨的\n",
    "np.all(stock_change[:5, :] > 0)"
   ],
   "metadata": {
    "collapsed": false,
    "ExecuteTime": {
     "end_time": "2023-09-07T09:45:50.802838800Z",
     "start_time": "2023-09-07T09:45:50.777748600Z"
    }
   },
   "id": "7cb0f48bd249450a"
  },
  {
   "cell_type": "code",
   "execution_count": 16,
   "outputs": [
    {
     "data": {
      "text/plain": "array([[0, 1, 1, 0],\n       [0, 0, 1, 0],\n       [1, 1, 1, 0],\n       [1, 0, 1, 0]])"
     },
     "execution_count": 16,
     "metadata": {},
     "output_type": "execute_result"
    }
   ],
   "source": [
    "# 判断前四个股票前四天的涨跌幅 大于0的置为1，否则为0\n",
    "temp = stock_change[:4, :4] > 0\n",
    "np.where(temp, 1, 0)"
   ],
   "metadata": {
    "collapsed": false,
    "ExecuteTime": {
     "end_time": "2023-09-07T09:47:11.849207300Z",
     "start_time": "2023-09-07T09:47:11.815576600Z"
    }
   },
   "id": "4494a558ded587c1"
  },
  {
   "cell_type": "code",
   "execution_count": 18,
   "outputs": [
    {
     "data": {
      "text/plain": "array([[1, 1, 1, 0],\n       [0, 1, 1, 1],\n       [0, 1, 0, 1],\n       [1, 1, 1, 1]])"
     },
     "execution_count": 18,
     "metadata": {},
     "output_type": "execute_result"
    }
   ],
   "source": [
    "# 判断前四个股票前四天的涨跌幅 大于0.5或者小于-0.5的，换为1，否则为0\n",
    "temp = np.logical_or(stock_change[:4, :4] > 0.5, stock_change[:4, :4] < -0.5)\n",
    "np.where(temp, 1, 0)"
   ],
   "metadata": {
    "collapsed": false,
    "ExecuteTime": {
     "end_time": "2023-09-07T09:49:53.450378600Z",
     "start_time": "2023-09-07T09:49:53.420436100Z"
    }
   },
   "id": "531192148e17bb3c"
  },
  {
   "cell_type": "markdown",
   "source": [
    "## 统计运算"
   ],
   "metadata": {
    "collapsed": false
   },
   "id": "4728c613d00bda22"
  },
  {
   "cell_type": "code",
   "execution_count": 19,
   "outputs": [
    {
     "data": {
      "text/plain": "array([1.95801227, 0.9257031 , 2.23366372, 1.66863635])"
     },
     "execution_count": 19,
     "metadata": {},
     "output_type": "execute_result"
    }
   ],
   "source": [
    "# 前四只股票前四天的最大涨幅\n",
    "statistics_data = stock_change[:4, :4]\n",
    "# 求每一行的最大值\n",
    "np.max(statistics_data, axis=1)"
   ],
   "metadata": {
    "collapsed": false,
    "ExecuteTime": {
     "end_time": "2023-09-07T09:52:28.457214300Z",
     "start_time": "2023-09-07T09:52:28.437674500Z"
    }
   },
   "id": "e86ac747ce7d1aee"
  },
  {
   "cell_type": "code",
   "execution_count": 20,
   "outputs": [
    {
     "data": {
      "text/plain": "array([ 0.54024556, -0.51534182,  0.03104752,  0.15103139])"
     },
     "execution_count": 20,
     "metadata": {},
     "output_type": "execute_result"
    }
   ],
   "source": [
    "# 求每一行的中位数\n",
    "np.median(statistics_data, axis=1)"
   ],
   "metadata": {
    "collapsed": false,
    "ExecuteTime": {
     "end_time": "2023-09-07T09:53:32.219552500Z",
     "start_time": "2023-09-07T09:53:32.192806800Z"
    }
   },
   "id": "7affec7781fdc254"
  },
  {
   "cell_type": "code",
   "execution_count": 21,
   "outputs": [
    {
     "data": {
      "text/plain": "array([2, 2, 1, 0], dtype=int64)"
     },
     "execution_count": 21,
     "metadata": {},
     "output_type": "execute_result"
    }
   ],
   "source": [
    "# 求每一行最大值的下标\n",
    "np.argmax(statistics_data, axis=1)"
   ],
   "metadata": {
    "collapsed": false,
    "ExecuteTime": {
     "end_time": "2023-09-07T09:53:59.060821Z",
     "start_time": "2023-09-07T09:53:59.026703300Z"
    }
   },
   "id": "81c4306033ea45f8"
  },
  {
   "cell_type": "markdown",
   "source": [
    "## 数组运算"
   ],
   "metadata": {
    "collapsed": false
   },
   "id": "793cea9e62ec1957"
  },
  {
   "cell_type": "code",
   "execution_count": 32,
   "outputs": [
    {
     "data": {
      "text/plain": "array([[-1,  0,  1,  2,  3,  4],\n       [ 4,  3,  2,  1,  0, -1]])"
     },
     "execution_count": 32,
     "metadata": {},
     "output_type": "execute_result"
    }
   ],
   "source": [
    "arr = np.array([[1, 2, 3, 4, 5, 6], [6, 5, 4, 3, 2, 1]])\n",
    "# 数组与标量的运算  每个元素进行对应的加减乘除\n",
    "arr = arr - 2\n",
    "arr"
   ],
   "metadata": {
    "collapsed": false,
    "ExecuteTime": {
     "end_time": "2023-09-07T09:59:33.609877200Z",
     "start_time": "2023-09-07T09:59:33.587789700Z"
    }
   },
   "id": "f3b97910a29c5058"
  },
  {
   "cell_type": "code",
   "execution_count": 33,
   "outputs": [
    {
     "data": {
      "text/plain": "array([[ 1.,  2.,  3.,  4.,  5.,  6.],\n       [ 7.,  8.,  9., 10., 11., 12.]])"
     },
     "execution_count": 33,
     "metadata": {},
     "output_type": "execute_result"
    }
   ],
   "source": [
    "arr_2 = np.linspace(1, 12, 12).reshape((2, 6))\n",
    "arr_2"
   ],
   "metadata": {
    "collapsed": false,
    "ExecuteTime": {
     "end_time": "2023-09-07T09:59:35.634896100Z",
     "start_time": "2023-09-07T09:59:35.611695700Z"
    }
   },
   "id": "4afe790d882fe36f"
  },
  {
   "cell_type": "code",
   "execution_count": 34,
   "outputs": [
    {
     "data": {
      "text/plain": "array([[ 0.,  2.,  4.,  6.,  8., 10.],\n       [11., 11., 11., 11., 11., 11.]])"
     },
     "execution_count": 34,
     "metadata": {},
     "output_type": "execute_result"
    }
   ],
   "source": [
    "arr + arr_2"
   ],
   "metadata": {
    "collapsed": false,
    "ExecuteTime": {
     "end_time": "2023-09-07T09:59:36.640492Z",
     "start_time": "2023-09-07T09:59:36.618857600Z"
    }
   },
   "id": "8c71d8d6b77d5a3"
  },
  {
   "cell_type": "code",
   "execution_count": 35,
   "outputs": [
    {
     "data": {
      "text/plain": "array([[4],\n       [6]])"
     },
     "execution_count": 35,
     "metadata": {},
     "output_type": "execute_result"
    }
   ],
   "source": [
    "arr_3 = np.array([[4], [6]])\n",
    "arr_3"
   ],
   "metadata": {
    "collapsed": false,
    "ExecuteTime": {
     "end_time": "2023-09-07T10:00:20.210120600Z",
     "start_time": "2023-09-07T10:00:20.184939300Z"
    }
   },
   "id": "8f35cbd790e01e9"
  },
  {
   "cell_type": "code",
   "execution_count": 36,
   "outputs": [
    {
     "data": {
      "text/plain": "array([[ 3,  4,  5,  6,  7,  8],\n       [10,  9,  8,  7,  6,  5]])"
     },
     "execution_count": 36,
     "metadata": {},
     "output_type": "execute_result"
    }
   ],
   "source": [
    "arr + arr_3"
   ],
   "metadata": {
    "collapsed": false,
    "ExecuteTime": {
     "end_time": "2023-09-07T10:00:50.508931Z",
     "start_time": "2023-09-07T10:00:50.486819200Z"
    }
   },
   "id": "42a09fb6d12d663f"
  },
  {
   "cell_type": "code",
   "execution_count": 39,
   "outputs": [
    {
     "data": {
      "text/plain": "array([1, 2, 3, 4, 5, 6])"
     },
     "execution_count": 39,
     "metadata": {},
     "output_type": "execute_result"
    }
   ],
   "source": [
    "arr_4 = np.array([1, 2, 3, 4, 5, 6])\n",
    "arr_4"
   ],
   "metadata": {
    "collapsed": false,
    "ExecuteTime": {
     "end_time": "2023-09-07T10:01:55.175831200Z",
     "start_time": "2023-09-07T10:01:55.159296200Z"
    }
   },
   "id": "179ede6450d18b7e"
  },
  {
   "cell_type": "code",
   "execution_count": 40,
   "outputs": [
    {
     "data": {
      "text/plain": "array([[ 0,  2,  4,  6,  8, 10],\n       [ 5,  5,  5,  5,  5,  5]])"
     },
     "execution_count": 40,
     "metadata": {},
     "output_type": "execute_result"
    }
   ],
   "source": [
    "arr + arr_4"
   ],
   "metadata": {
    "collapsed": false,
    "ExecuteTime": {
     "end_time": "2023-09-07T10:02:04.812293200Z",
     "start_time": "2023-09-07T10:02:04.795267200Z"
    }
   },
   "id": "9f06e2a74bac8d8c"
  },
  {
   "cell_type": "markdown",
   "source": [
    "## 矩阵乘法"
   ],
   "metadata": {
    "collapsed": false
   },
   "id": "648121c01b7fb56d"
  },
  {
   "cell_type": "code",
   "execution_count": 41,
   "outputs": [],
   "source": [
    "score = [[80, 86],\n",
    "         [82, 80],\n",
    "         [85, 78],\n",
    "         [90, 90],\n",
    "         [86, 82],\n",
    "         [82, 90],\n",
    "         [78, 80],\n",
    "         [92, 94]]\n",
    "\n",
    "score = np.array(score)\n",
    "score"
   ],
   "metadata": {
    "collapsed": false,
    "ExecuteTime": {
     "end_time": "2023-09-07T10:44:27.399957500Z",
     "start_time": "2023-09-07T10:44:27.385983800Z"
    }
   },
   "id": "f5164ecdf2c84b0b"
  },
  {
   "cell_type": "code",
   "execution_count": 42,
   "outputs": [
    {
     "data": {
      "text/plain": "array([[84.2],\n       [80.6],\n       [80.1],\n       [90. ],\n       [83.2],\n       [87.6],\n       [79.4],\n       [93.4]])"
     },
     "execution_count": 42,
     "metadata": {},
     "output_type": "execute_result"
    }
   ],
   "source": [
    "# 矩阵权重\n",
    "w = np.array([[0.3], [0.7]])\n",
    "# 矩阵乘法\n",
    "np.matmul(score, w)"
   ],
   "metadata": {
    "collapsed": false,
    "ExecuteTime": {
     "end_time": "2023-09-07T10:44:31.638593800Z",
     "start_time": "2023-09-07T10:44:31.586913600Z"
    }
   },
   "id": "4c202e71a7ff69af"
  },
  {
   "cell_type": "code",
   "execution_count": 43,
   "outputs": [
    {
     "data": {
      "text/plain": "array([[84.2],\n       [80.6],\n       [80.1],\n       [90. ],\n       [83.2],\n       [87.6],\n       [79.4],\n       [93.4]])"
     },
     "execution_count": 43,
     "metadata": {},
     "output_type": "execute_result"
    }
   ],
   "source": [
    "np.dot(score, w)"
   ],
   "metadata": {
    "collapsed": false,
    "ExecuteTime": {
     "end_time": "2023-09-07T10:44:58.217351800Z",
     "start_time": "2023-09-07T10:44:58.178252600Z"
    }
   },
   "id": "8fd70446825d4cd5"
  },
  {
   "cell_type": "code",
   "execution_count": 44,
   "outputs": [
    {
     "data": {
      "text/plain": "array([[800, 860],\n       [820, 800],\n       [850, 780],\n       [900, 900],\n       [860, 820],\n       [820, 900],\n       [780, 800],\n       [920, 940]])"
     },
     "execution_count": 44,
     "metadata": {},
     "output_type": "execute_result"
    }
   ],
   "source": [
    "# 可以进行矩阵和标量的乘法\n",
    "np.dot(score, 10)"
   ],
   "metadata": {
    "collapsed": false,
    "ExecuteTime": {
     "end_time": "2023-09-07T10:49:23.156196700Z",
     "start_time": "2023-09-07T10:49:23.097457900Z"
    }
   },
   "id": "7d937b13d43da2e9"
  },
  {
   "cell_type": "code",
   "execution_count": null,
   "outputs": [],
   "source": [],
   "metadata": {
    "collapsed": false
   },
   "id": "e56724dda4d2f99d"
  }
 ],
 "metadata": {
  "kernelspec": {
   "display_name": "Python 3",
   "language": "python",
   "name": "python3"
  },
  "language_info": {
   "codemirror_mode": {
    "name": "ipython",
    "version": 2
   },
   "file_extension": ".py",
   "mimetype": "text/x-python",
   "name": "python",
   "nbconvert_exporter": "python",
   "pygments_lexer": "ipython2",
   "version": "2.7.6"
  }
 },
 "nbformat": 4,
 "nbformat_minor": 5
}
