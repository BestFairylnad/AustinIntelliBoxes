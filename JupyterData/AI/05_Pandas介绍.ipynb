{
 "cells": [
  {
   "cell_type": "markdown",
   "source": [
    "# Pandas介绍"
   ],
   "metadata": {
    "collapsed": false
   },
   "id": "1795fe42b6ef08c0"
  },
  {
   "cell_type": "code",
   "execution_count": 1,
   "id": "initial_id",
   "metadata": {
    "collapsed": true,
    "ExecuteTime": {
     "end_time": "2023-09-07T10:51:00.636092500Z",
     "start_time": "2023-09-07T10:51:00.187897800Z"
    }
   },
   "outputs": [],
   "source": [
    "import numpy as np\n",
    "import pandas as pd"
   ]
  },
  {
   "cell_type": "code",
   "execution_count": 2,
   "outputs": [
    {
     "data": {
      "text/plain": "          0         1         2         3         4         5         6  \\\n0  0.178817  0.953980  0.160059 -0.655809  0.019708 -1.779309  0.587014   \n1  1.106843  0.312691  0.598712 -0.036610  1.488815 -0.939376  0.805096   \n2  0.354455 -0.770311 -0.456714 -1.295187  1.837053  1.218789  0.215320   \n3 -2.072576  0.624806 -1.592329 -1.857971 -0.830081  0.257665 -0.086400   \n4  0.802811 -1.488624  0.851080 -1.601568  2.329946 -0.863219  2.071075   \n5 -1.050388  0.728117  1.535047  1.052218 -0.692382 -0.442707  0.798056   \n6  0.002456  1.159814  1.298081  0.281751  0.254067  0.769014  0.850946   \n7  0.433466 -0.362083 -0.501669  1.402216 -0.381445 -1.303242  0.048012   \n\n          7         8         9  \n0 -0.183757  0.244104  0.689152  \n1  0.160212 -0.567394 -0.580094  \n2 -1.713057  1.108645 -0.380190  \n3  0.283650  0.442984  1.353202  \n4  0.152203 -0.008415 -0.089813  \n5  0.334425 -0.297269  1.998243  \n6  0.269150  1.850569 -0.249231  \n7 -1.706043 -1.165417 -1.045564  ",
      "text/html": "<div>\n<style scoped>\n    .dataframe tbody tr th:only-of-type {\n        vertical-align: middle;\n    }\n\n    .dataframe tbody tr th {\n        vertical-align: top;\n    }\n\n    .dataframe thead th {\n        text-align: right;\n    }\n</style>\n<table border=\"1\" class=\"dataframe\">\n  <thead>\n    <tr style=\"text-align: right;\">\n      <th></th>\n      <th>0</th>\n      <th>1</th>\n      <th>2</th>\n      <th>3</th>\n      <th>4</th>\n      <th>5</th>\n      <th>6</th>\n      <th>7</th>\n      <th>8</th>\n      <th>9</th>\n    </tr>\n  </thead>\n  <tbody>\n    <tr>\n      <th>0</th>\n      <td>0.178817</td>\n      <td>0.953980</td>\n      <td>0.160059</td>\n      <td>-0.655809</td>\n      <td>0.019708</td>\n      <td>-1.779309</td>\n      <td>0.587014</td>\n      <td>-0.183757</td>\n      <td>0.244104</td>\n      <td>0.689152</td>\n    </tr>\n    <tr>\n      <th>1</th>\n      <td>1.106843</td>\n      <td>0.312691</td>\n      <td>0.598712</td>\n      <td>-0.036610</td>\n      <td>1.488815</td>\n      <td>-0.939376</td>\n      <td>0.805096</td>\n      <td>0.160212</td>\n      <td>-0.567394</td>\n      <td>-0.580094</td>\n    </tr>\n    <tr>\n      <th>2</th>\n      <td>0.354455</td>\n      <td>-0.770311</td>\n      <td>-0.456714</td>\n      <td>-1.295187</td>\n      <td>1.837053</td>\n      <td>1.218789</td>\n      <td>0.215320</td>\n      <td>-1.713057</td>\n      <td>1.108645</td>\n      <td>-0.380190</td>\n    </tr>\n    <tr>\n      <th>3</th>\n      <td>-2.072576</td>\n      <td>0.624806</td>\n      <td>-1.592329</td>\n      <td>-1.857971</td>\n      <td>-0.830081</td>\n      <td>0.257665</td>\n      <td>-0.086400</td>\n      <td>0.283650</td>\n      <td>0.442984</td>\n      <td>1.353202</td>\n    </tr>\n    <tr>\n      <th>4</th>\n      <td>0.802811</td>\n      <td>-1.488624</td>\n      <td>0.851080</td>\n      <td>-1.601568</td>\n      <td>2.329946</td>\n      <td>-0.863219</td>\n      <td>2.071075</td>\n      <td>0.152203</td>\n      <td>-0.008415</td>\n      <td>-0.089813</td>\n    </tr>\n    <tr>\n      <th>5</th>\n      <td>-1.050388</td>\n      <td>0.728117</td>\n      <td>1.535047</td>\n      <td>1.052218</td>\n      <td>-0.692382</td>\n      <td>-0.442707</td>\n      <td>0.798056</td>\n      <td>0.334425</td>\n      <td>-0.297269</td>\n      <td>1.998243</td>\n    </tr>\n    <tr>\n      <th>6</th>\n      <td>0.002456</td>\n      <td>1.159814</td>\n      <td>1.298081</td>\n      <td>0.281751</td>\n      <td>0.254067</td>\n      <td>0.769014</td>\n      <td>0.850946</td>\n      <td>0.269150</td>\n      <td>1.850569</td>\n      <td>-0.249231</td>\n    </tr>\n    <tr>\n      <th>7</th>\n      <td>0.433466</td>\n      <td>-0.362083</td>\n      <td>-0.501669</td>\n      <td>1.402216</td>\n      <td>-0.381445</td>\n      <td>-1.303242</td>\n      <td>0.048012</td>\n      <td>-1.706043</td>\n      <td>-1.165417</td>\n      <td>-1.045564</td>\n    </tr>\n  </tbody>\n</table>\n</div>"
     },
     "execution_count": 2,
     "metadata": {},
     "output_type": "execute_result"
    }
   ],
   "source": [
    "stock_change = np.random.standard_normal((8, 10))\n",
    "data = pd.DataFrame(stock_change)\n",
    "\n",
    "data"
   ],
   "metadata": {
    "collapsed": false,
    "ExecuteTime": {
     "end_time": "2023-09-07T10:52:07.372992300Z",
     "start_time": "2023-09-07T10:52:07.307376600Z"
    }
   },
   "id": "1012139e23a08e87"
  },
  {
   "cell_type": "code",
   "execution_count": 3,
   "outputs": [
    {
     "data": {
      "text/plain": "     2023-08-01  2023-08-02  2023-08-03  2023-08-04  2023-08-07  2023-08-08  \\\n股票0    0.178817    0.953980    0.160059   -0.655809    0.019708   -1.779309   \n股票1    1.106843    0.312691    0.598712   -0.036610    1.488815   -0.939376   \n股票2    0.354455   -0.770311   -0.456714   -1.295187    1.837053    1.218789   \n股票3   -2.072576    0.624806   -1.592329   -1.857971   -0.830081    0.257665   \n股票4    0.802811   -1.488624    0.851080   -1.601568    2.329946   -0.863219   \n股票5   -1.050388    0.728117    1.535047    1.052218   -0.692382   -0.442707   \n股票6    0.002456    1.159814    1.298081    0.281751    0.254067    0.769014   \n股票7    0.433466   -0.362083   -0.501669    1.402216   -0.381445   -1.303242   \n\n     2023-08-09  2023-08-10  2023-08-11  2023-08-14  \n股票0    0.587014   -0.183757    0.244104    0.689152  \n股票1    0.805096    0.160212   -0.567394   -0.580094  \n股票2    0.215320   -1.713057    1.108645   -0.380190  \n股票3   -0.086400    0.283650    0.442984    1.353202  \n股票4    2.071075    0.152203   -0.008415   -0.089813  \n股票5    0.798056    0.334425   -0.297269    1.998243  \n股票6    0.850946    0.269150    1.850569   -0.249231  \n股票7    0.048012   -1.706043   -1.165417   -1.045564  ",
      "text/html": "<div>\n<style scoped>\n    .dataframe tbody tr th:only-of-type {\n        vertical-align: middle;\n    }\n\n    .dataframe tbody tr th {\n        vertical-align: top;\n    }\n\n    .dataframe thead th {\n        text-align: right;\n    }\n</style>\n<table border=\"1\" class=\"dataframe\">\n  <thead>\n    <tr style=\"text-align: right;\">\n      <th></th>\n      <th>2023-08-01</th>\n      <th>2023-08-02</th>\n      <th>2023-08-03</th>\n      <th>2023-08-04</th>\n      <th>2023-08-07</th>\n      <th>2023-08-08</th>\n      <th>2023-08-09</th>\n      <th>2023-08-10</th>\n      <th>2023-08-11</th>\n      <th>2023-08-14</th>\n    </tr>\n  </thead>\n  <tbody>\n    <tr>\n      <th>股票0</th>\n      <td>0.178817</td>\n      <td>0.953980</td>\n      <td>0.160059</td>\n      <td>-0.655809</td>\n      <td>0.019708</td>\n      <td>-1.779309</td>\n      <td>0.587014</td>\n      <td>-0.183757</td>\n      <td>0.244104</td>\n      <td>0.689152</td>\n    </tr>\n    <tr>\n      <th>股票1</th>\n      <td>1.106843</td>\n      <td>0.312691</td>\n      <td>0.598712</td>\n      <td>-0.036610</td>\n      <td>1.488815</td>\n      <td>-0.939376</td>\n      <td>0.805096</td>\n      <td>0.160212</td>\n      <td>-0.567394</td>\n      <td>-0.580094</td>\n    </tr>\n    <tr>\n      <th>股票2</th>\n      <td>0.354455</td>\n      <td>-0.770311</td>\n      <td>-0.456714</td>\n      <td>-1.295187</td>\n      <td>1.837053</td>\n      <td>1.218789</td>\n      <td>0.215320</td>\n      <td>-1.713057</td>\n      <td>1.108645</td>\n      <td>-0.380190</td>\n    </tr>\n    <tr>\n      <th>股票3</th>\n      <td>-2.072576</td>\n      <td>0.624806</td>\n      <td>-1.592329</td>\n      <td>-1.857971</td>\n      <td>-0.830081</td>\n      <td>0.257665</td>\n      <td>-0.086400</td>\n      <td>0.283650</td>\n      <td>0.442984</td>\n      <td>1.353202</td>\n    </tr>\n    <tr>\n      <th>股票4</th>\n      <td>0.802811</td>\n      <td>-1.488624</td>\n      <td>0.851080</td>\n      <td>-1.601568</td>\n      <td>2.329946</td>\n      <td>-0.863219</td>\n      <td>2.071075</td>\n      <td>0.152203</td>\n      <td>-0.008415</td>\n      <td>-0.089813</td>\n    </tr>\n    <tr>\n      <th>股票5</th>\n      <td>-1.050388</td>\n      <td>0.728117</td>\n      <td>1.535047</td>\n      <td>1.052218</td>\n      <td>-0.692382</td>\n      <td>-0.442707</td>\n      <td>0.798056</td>\n      <td>0.334425</td>\n      <td>-0.297269</td>\n      <td>1.998243</td>\n    </tr>\n    <tr>\n      <th>股票6</th>\n      <td>0.002456</td>\n      <td>1.159814</td>\n      <td>1.298081</td>\n      <td>0.281751</td>\n      <td>0.254067</td>\n      <td>0.769014</td>\n      <td>0.850946</td>\n      <td>0.269150</td>\n      <td>1.850569</td>\n      <td>-0.249231</td>\n    </tr>\n    <tr>\n      <th>股票7</th>\n      <td>0.433466</td>\n      <td>-0.362083</td>\n      <td>-0.501669</td>\n      <td>1.402216</td>\n      <td>-0.381445</td>\n      <td>-1.303242</td>\n      <td>0.048012</td>\n      <td>-1.706043</td>\n      <td>-1.165417</td>\n      <td>-1.045564</td>\n    </tr>\n  </tbody>\n</table>\n</div>"
     },
     "execution_count": 3,
     "metadata": {},
     "output_type": "execute_result"
    }
   ],
   "source": [
    "# 生成股票名字列表\n",
    "stock_name_list = ['股票{}'.format(x) for x in range(8)]\n",
    "# 生成股票日期列表\n",
    "stock_date_list = pd.date_range('20230801', periods=10, freq='B')\n",
    "\n",
    "data = pd.DataFrame(stock_change, index=stock_name_list, columns=stock_date_list)\n",
    "data"
   ],
   "metadata": {
    "collapsed": false,
    "ExecuteTime": {
     "end_time": "2023-09-07T10:55:22.866587800Z",
     "start_time": "2023-09-07T10:55:22.804129700Z"
    }
   },
   "id": "751f2ab9347e8f3c"
  },
  {
   "cell_type": "markdown",
   "source": [
    "## DataFrame的常用属性和方法"
   ],
   "metadata": {
    "collapsed": false
   },
   "id": "c2241263fb8d4fe7"
  },
  {
   "cell_type": "code",
   "execution_count": 4,
   "outputs": [
    {
     "data": {
      "text/plain": "array([[ 0.17881696,  0.95398041,  0.16005895, -0.65580857,  0.01970752,\n        -1.77930854,  0.58701428, -0.18375722,  0.24410406,  0.68915207],\n       [ 1.10684276,  0.31269148,  0.59871227, -0.03660989,  1.48881453,\n        -0.9393764 ,  0.80509558,  0.16021169, -0.56739404, -0.580094  ],\n       [ 0.35445488, -0.77031149, -0.45671413, -1.29518734,  1.83705322,\n         1.2187885 ,  0.21531972, -1.71305687,  1.10864472, -0.38019034],\n       [-2.07257608,  0.62480589, -1.5923293 , -1.85797051, -0.83008131,\n         0.25766507, -0.08640013,  0.28364953,  0.44298411,  1.35320224],\n       [ 0.80281096, -1.48862358,  0.85107999, -1.6015682 ,  2.32994604,\n        -0.8632186 ,  2.07107539,  0.15220274, -0.0084148 , -0.08981267],\n       [-1.05038817,  0.72811681,  1.53504715,  1.05221779, -0.69238164,\n        -0.44270679,  0.79805622,  0.3344249 , -0.2972689 ,  1.99824282],\n       [ 0.00245626,  1.15981381,  1.29808121,  0.28175103,  0.25406671,\n         0.76901421,  0.85094581,  0.26914981,  1.85056911, -0.24923122],\n       [ 0.4334664 , -0.36208328, -0.50166905,  1.40221581, -0.38144493,\n        -1.30324224,  0.04801162, -1.70604302, -1.1654166 , -1.04556359]])"
     },
     "execution_count": 4,
     "metadata": {},
     "output_type": "execute_result"
    }
   ],
   "source": [
    "# 获取数据\n",
    "data.values"
   ],
   "metadata": {
    "collapsed": false,
    "ExecuteTime": {
     "end_time": "2023-09-07T10:57:10.774142800Z",
     "start_time": "2023-09-07T10:57:10.758721Z"
    }
   },
   "id": "226192ecf967e582"
  },
  {
   "cell_type": "code",
   "execution_count": 5,
   "outputs": [
    {
     "data": {
      "text/plain": "Index(['股票0', '股票1', '股票2', '股票3', '股票4', '股票5', '股票6', '股票7'], dtype='object')"
     },
     "execution_count": 5,
     "metadata": {},
     "output_type": "execute_result"
    }
   ],
   "source": [
    "# 获取行索引\n",
    "data.index"
   ],
   "metadata": {
    "collapsed": false,
    "ExecuteTime": {
     "end_time": "2023-09-07T10:57:25.533629400Z",
     "start_time": "2023-09-07T10:57:25.514560900Z"
    }
   },
   "id": "83f6a4e47139d90d"
  },
  {
   "cell_type": "code",
   "execution_count": 6,
   "outputs": [
    {
     "data": {
      "text/plain": "DatetimeIndex(['2023-08-01', '2023-08-02', '2023-08-03', '2023-08-04',\n               '2023-08-07', '2023-08-08', '2023-08-09', '2023-08-10',\n               '2023-08-11', '2023-08-14'],\n              dtype='datetime64[ns]', freq='B')"
     },
     "execution_count": 6,
     "metadata": {},
     "output_type": "execute_result"
    }
   ],
   "source": [
    "# 获取列索引\n",
    "data.columns"
   ],
   "metadata": {
    "collapsed": false,
    "ExecuteTime": {
     "end_time": "2023-09-07T10:57:45.455884200Z",
     "start_time": "2023-09-07T10:57:45.433783600Z"
    }
   },
   "id": "2d98b4e279e85392"
  },
  {
   "cell_type": "code",
   "execution_count": 7,
   "outputs": [
    {
     "data": {
      "text/plain": "(8, 10)"
     },
     "execution_count": 7,
     "metadata": {},
     "output_type": "execute_result"
    }
   ],
   "source": [
    "# 获取形状\n",
    "data.shape"
   ],
   "metadata": {
    "collapsed": false,
    "ExecuteTime": {
     "end_time": "2023-09-07T10:58:08.755900300Z",
     "start_time": "2023-09-07T10:58:08.734883600Z"
    }
   },
   "id": "2b73857b9b19eda3"
  },
  {
   "cell_type": "code",
   "execution_count": 8,
   "outputs": [
    {
     "data": {
      "text/plain": "                 股票0       股票1       股票2       股票3       股票4       股票5  \\\n2023-08-01  0.178817  1.106843  0.354455 -2.072576  0.802811 -1.050388   \n2023-08-02  0.953980  0.312691 -0.770311  0.624806 -1.488624  0.728117   \n2023-08-03  0.160059  0.598712 -0.456714 -1.592329  0.851080  1.535047   \n2023-08-04 -0.655809 -0.036610 -1.295187 -1.857971 -1.601568  1.052218   \n2023-08-07  0.019708  1.488815  1.837053 -0.830081  2.329946 -0.692382   \n2023-08-08 -1.779309 -0.939376  1.218789  0.257665 -0.863219 -0.442707   \n2023-08-09  0.587014  0.805096  0.215320 -0.086400  2.071075  0.798056   \n2023-08-10 -0.183757  0.160212 -1.713057  0.283650  0.152203  0.334425   \n2023-08-11  0.244104 -0.567394  1.108645  0.442984 -0.008415 -0.297269   \n2023-08-14  0.689152 -0.580094 -0.380190  1.353202 -0.089813  1.998243   \n\n                 股票6       股票7  \n2023-08-01  0.002456  0.433466  \n2023-08-02  1.159814 -0.362083  \n2023-08-03  1.298081 -0.501669  \n2023-08-04  0.281751  1.402216  \n2023-08-07  0.254067 -0.381445  \n2023-08-08  0.769014 -1.303242  \n2023-08-09  0.850946  0.048012  \n2023-08-10  0.269150 -1.706043  \n2023-08-11  1.850569 -1.165417  \n2023-08-14 -0.249231 -1.045564  ",
      "text/html": "<div>\n<style scoped>\n    .dataframe tbody tr th:only-of-type {\n        vertical-align: middle;\n    }\n\n    .dataframe tbody tr th {\n        vertical-align: top;\n    }\n\n    .dataframe thead th {\n        text-align: right;\n    }\n</style>\n<table border=\"1\" class=\"dataframe\">\n  <thead>\n    <tr style=\"text-align: right;\">\n      <th></th>\n      <th>股票0</th>\n      <th>股票1</th>\n      <th>股票2</th>\n      <th>股票3</th>\n      <th>股票4</th>\n      <th>股票5</th>\n      <th>股票6</th>\n      <th>股票7</th>\n    </tr>\n  </thead>\n  <tbody>\n    <tr>\n      <th>2023-08-01</th>\n      <td>0.178817</td>\n      <td>1.106843</td>\n      <td>0.354455</td>\n      <td>-2.072576</td>\n      <td>0.802811</td>\n      <td>-1.050388</td>\n      <td>0.002456</td>\n      <td>0.433466</td>\n    </tr>\n    <tr>\n      <th>2023-08-02</th>\n      <td>0.953980</td>\n      <td>0.312691</td>\n      <td>-0.770311</td>\n      <td>0.624806</td>\n      <td>-1.488624</td>\n      <td>0.728117</td>\n      <td>1.159814</td>\n      <td>-0.362083</td>\n    </tr>\n    <tr>\n      <th>2023-08-03</th>\n      <td>0.160059</td>\n      <td>0.598712</td>\n      <td>-0.456714</td>\n      <td>-1.592329</td>\n      <td>0.851080</td>\n      <td>1.535047</td>\n      <td>1.298081</td>\n      <td>-0.501669</td>\n    </tr>\n    <tr>\n      <th>2023-08-04</th>\n      <td>-0.655809</td>\n      <td>-0.036610</td>\n      <td>-1.295187</td>\n      <td>-1.857971</td>\n      <td>-1.601568</td>\n      <td>1.052218</td>\n      <td>0.281751</td>\n      <td>1.402216</td>\n    </tr>\n    <tr>\n      <th>2023-08-07</th>\n      <td>0.019708</td>\n      <td>1.488815</td>\n      <td>1.837053</td>\n      <td>-0.830081</td>\n      <td>2.329946</td>\n      <td>-0.692382</td>\n      <td>0.254067</td>\n      <td>-0.381445</td>\n    </tr>\n    <tr>\n      <th>2023-08-08</th>\n      <td>-1.779309</td>\n      <td>-0.939376</td>\n      <td>1.218789</td>\n      <td>0.257665</td>\n      <td>-0.863219</td>\n      <td>-0.442707</td>\n      <td>0.769014</td>\n      <td>-1.303242</td>\n    </tr>\n    <tr>\n      <th>2023-08-09</th>\n      <td>0.587014</td>\n      <td>0.805096</td>\n      <td>0.215320</td>\n      <td>-0.086400</td>\n      <td>2.071075</td>\n      <td>0.798056</td>\n      <td>0.850946</td>\n      <td>0.048012</td>\n    </tr>\n    <tr>\n      <th>2023-08-10</th>\n      <td>-0.183757</td>\n      <td>0.160212</td>\n      <td>-1.713057</td>\n      <td>0.283650</td>\n      <td>0.152203</td>\n      <td>0.334425</td>\n      <td>0.269150</td>\n      <td>-1.706043</td>\n    </tr>\n    <tr>\n      <th>2023-08-11</th>\n      <td>0.244104</td>\n      <td>-0.567394</td>\n      <td>1.108645</td>\n      <td>0.442984</td>\n      <td>-0.008415</td>\n      <td>-0.297269</td>\n      <td>1.850569</td>\n      <td>-1.165417</td>\n    </tr>\n    <tr>\n      <th>2023-08-14</th>\n      <td>0.689152</td>\n      <td>-0.580094</td>\n      <td>-0.380190</td>\n      <td>1.353202</td>\n      <td>-0.089813</td>\n      <td>1.998243</td>\n      <td>-0.249231</td>\n      <td>-1.045564</td>\n    </tr>\n  </tbody>\n</table>\n</div>"
     },
     "execution_count": 8,
     "metadata": {},
     "output_type": "execute_result"
    }
   ],
   "source": [
    "# 行列转换\n",
    "data.T"
   ],
   "metadata": {
    "collapsed": false,
    "ExecuteTime": {
     "end_time": "2023-09-07T10:58:26.781758800Z",
     "start_time": "2023-09-07T10:58:26.739545400Z"
    }
   },
   "id": "ca961a180519dc1b"
  },
  {
   "cell_type": "code",
   "execution_count": 9,
   "outputs": [
    {
     "data": {
      "text/plain": "     2023-08-01  2023-08-02  2023-08-03  2023-08-04  2023-08-07  2023-08-08  \\\n股票3   -2.072576    0.624806   -1.592329   -1.857971   -0.830081    0.257665   \n股票4    0.802811   -1.488624    0.851080   -1.601568    2.329946   -0.863219   \n股票5   -1.050388    0.728117    1.535047    1.052218   -0.692382   -0.442707   \n股票6    0.002456    1.159814    1.298081    0.281751    0.254067    0.769014   \n股票7    0.433466   -0.362083   -0.501669    1.402216   -0.381445   -1.303242   \n\n     2023-08-09  2023-08-10  2023-08-11  2023-08-14  \n股票3   -0.086400    0.283650    0.442984    1.353202  \n股票4    2.071075    0.152203   -0.008415   -0.089813  \n股票5    0.798056    0.334425   -0.297269    1.998243  \n股票6    0.850946    0.269150    1.850569   -0.249231  \n股票7    0.048012   -1.706043   -1.165417   -1.045564  ",
      "text/html": "<div>\n<style scoped>\n    .dataframe tbody tr th:only-of-type {\n        vertical-align: middle;\n    }\n\n    .dataframe tbody tr th {\n        vertical-align: top;\n    }\n\n    .dataframe thead th {\n        text-align: right;\n    }\n</style>\n<table border=\"1\" class=\"dataframe\">\n  <thead>\n    <tr style=\"text-align: right;\">\n      <th></th>\n      <th>2023-08-01</th>\n      <th>2023-08-02</th>\n      <th>2023-08-03</th>\n      <th>2023-08-04</th>\n      <th>2023-08-07</th>\n      <th>2023-08-08</th>\n      <th>2023-08-09</th>\n      <th>2023-08-10</th>\n      <th>2023-08-11</th>\n      <th>2023-08-14</th>\n    </tr>\n  </thead>\n  <tbody>\n    <tr>\n      <th>股票3</th>\n      <td>-2.072576</td>\n      <td>0.624806</td>\n      <td>-1.592329</td>\n      <td>-1.857971</td>\n      <td>-0.830081</td>\n      <td>0.257665</td>\n      <td>-0.086400</td>\n      <td>0.283650</td>\n      <td>0.442984</td>\n      <td>1.353202</td>\n    </tr>\n    <tr>\n      <th>股票4</th>\n      <td>0.802811</td>\n      <td>-1.488624</td>\n      <td>0.851080</td>\n      <td>-1.601568</td>\n      <td>2.329946</td>\n      <td>-0.863219</td>\n      <td>2.071075</td>\n      <td>0.152203</td>\n      <td>-0.008415</td>\n      <td>-0.089813</td>\n    </tr>\n    <tr>\n      <th>股票5</th>\n      <td>-1.050388</td>\n      <td>0.728117</td>\n      <td>1.535047</td>\n      <td>1.052218</td>\n      <td>-0.692382</td>\n      <td>-0.442707</td>\n      <td>0.798056</td>\n      <td>0.334425</td>\n      <td>-0.297269</td>\n      <td>1.998243</td>\n    </tr>\n    <tr>\n      <th>股票6</th>\n      <td>0.002456</td>\n      <td>1.159814</td>\n      <td>1.298081</td>\n      <td>0.281751</td>\n      <td>0.254067</td>\n      <td>0.769014</td>\n      <td>0.850946</td>\n      <td>0.269150</td>\n      <td>1.850569</td>\n      <td>-0.249231</td>\n    </tr>\n    <tr>\n      <th>股票7</th>\n      <td>0.433466</td>\n      <td>-0.362083</td>\n      <td>-0.501669</td>\n      <td>1.402216</td>\n      <td>-0.381445</td>\n      <td>-1.303242</td>\n      <td>0.048012</td>\n      <td>-1.706043</td>\n      <td>-1.165417</td>\n      <td>-1.045564</td>\n    </tr>\n  </tbody>\n</table>\n</div>"
     },
     "execution_count": 9,
     "metadata": {},
     "output_type": "execute_result"
    }
   ],
   "source": [
    "# 查看最后5行数据, 默认就是5\n",
    "data.tail()"
   ],
   "metadata": {
    "collapsed": false,
    "ExecuteTime": {
     "end_time": "2023-09-07T10:58:56.514683300Z",
     "start_time": "2023-09-07T10:58:56.500150200Z"
    }
   },
   "id": "694ca9a829593958"
  },
  {
   "cell_type": "markdown",
   "source": [
    "## 索引的设置"
   ],
   "metadata": {
    "collapsed": false
   },
   "id": "c9eab34cd82f9bc"
  },
  {
   "cell_type": "code",
   "execution_count": 10,
   "outputs": [
    {
     "data": {
      "text/plain": "      2023-08-01  2023-08-02  2023-08-03  2023-08-04  2023-08-07  2023-08-08  \\\n股票_0    0.178817    0.953980    0.160059   -0.655809    0.019708   -1.779309   \n股票_1    1.106843    0.312691    0.598712   -0.036610    1.488815   -0.939376   \n股票_2    0.354455   -0.770311   -0.456714   -1.295187    1.837053    1.218789   \n股票_3   -2.072576    0.624806   -1.592329   -1.857971   -0.830081    0.257665   \n股票_4    0.802811   -1.488624    0.851080   -1.601568    2.329946   -0.863219   \n股票_5   -1.050388    0.728117    1.535047    1.052218   -0.692382   -0.442707   \n股票_6    0.002456    1.159814    1.298081    0.281751    0.254067    0.769014   \n股票_7    0.433466   -0.362083   -0.501669    1.402216   -0.381445   -1.303242   \n\n      2023-08-09  2023-08-10  2023-08-11  2023-08-14  \n股票_0    0.587014   -0.183757    0.244104    0.689152  \n股票_1    0.805096    0.160212   -0.567394   -0.580094  \n股票_2    0.215320   -1.713057    1.108645   -0.380190  \n股票_3   -0.086400    0.283650    0.442984    1.353202  \n股票_4    2.071075    0.152203   -0.008415   -0.089813  \n股票_5    0.798056    0.334425   -0.297269    1.998243  \n股票_6    0.850946    0.269150    1.850569   -0.249231  \n股票_7    0.048012   -1.706043   -1.165417   -1.045564  ",
      "text/html": "<div>\n<style scoped>\n    .dataframe tbody tr th:only-of-type {\n        vertical-align: middle;\n    }\n\n    .dataframe tbody tr th {\n        vertical-align: top;\n    }\n\n    .dataframe thead th {\n        text-align: right;\n    }\n</style>\n<table border=\"1\" class=\"dataframe\">\n  <thead>\n    <tr style=\"text-align: right;\">\n      <th></th>\n      <th>2023-08-01</th>\n      <th>2023-08-02</th>\n      <th>2023-08-03</th>\n      <th>2023-08-04</th>\n      <th>2023-08-07</th>\n      <th>2023-08-08</th>\n      <th>2023-08-09</th>\n      <th>2023-08-10</th>\n      <th>2023-08-11</th>\n      <th>2023-08-14</th>\n    </tr>\n  </thead>\n  <tbody>\n    <tr>\n      <th>股票_0</th>\n      <td>0.178817</td>\n      <td>0.953980</td>\n      <td>0.160059</td>\n      <td>-0.655809</td>\n      <td>0.019708</td>\n      <td>-1.779309</td>\n      <td>0.587014</td>\n      <td>-0.183757</td>\n      <td>0.244104</td>\n      <td>0.689152</td>\n    </tr>\n    <tr>\n      <th>股票_1</th>\n      <td>1.106843</td>\n      <td>0.312691</td>\n      <td>0.598712</td>\n      <td>-0.036610</td>\n      <td>1.488815</td>\n      <td>-0.939376</td>\n      <td>0.805096</td>\n      <td>0.160212</td>\n      <td>-0.567394</td>\n      <td>-0.580094</td>\n    </tr>\n    <tr>\n      <th>股票_2</th>\n      <td>0.354455</td>\n      <td>-0.770311</td>\n      <td>-0.456714</td>\n      <td>-1.295187</td>\n      <td>1.837053</td>\n      <td>1.218789</td>\n      <td>0.215320</td>\n      <td>-1.713057</td>\n      <td>1.108645</td>\n      <td>-0.380190</td>\n    </tr>\n    <tr>\n      <th>股票_3</th>\n      <td>-2.072576</td>\n      <td>0.624806</td>\n      <td>-1.592329</td>\n      <td>-1.857971</td>\n      <td>-0.830081</td>\n      <td>0.257665</td>\n      <td>-0.086400</td>\n      <td>0.283650</td>\n      <td>0.442984</td>\n      <td>1.353202</td>\n    </tr>\n    <tr>\n      <th>股票_4</th>\n      <td>0.802811</td>\n      <td>-1.488624</td>\n      <td>0.851080</td>\n      <td>-1.601568</td>\n      <td>2.329946</td>\n      <td>-0.863219</td>\n      <td>2.071075</td>\n      <td>0.152203</td>\n      <td>-0.008415</td>\n      <td>-0.089813</td>\n    </tr>\n    <tr>\n      <th>股票_5</th>\n      <td>-1.050388</td>\n      <td>0.728117</td>\n      <td>1.535047</td>\n      <td>1.052218</td>\n      <td>-0.692382</td>\n      <td>-0.442707</td>\n      <td>0.798056</td>\n      <td>0.334425</td>\n      <td>-0.297269</td>\n      <td>1.998243</td>\n    </tr>\n    <tr>\n      <th>股票_6</th>\n      <td>0.002456</td>\n      <td>1.159814</td>\n      <td>1.298081</td>\n      <td>0.281751</td>\n      <td>0.254067</td>\n      <td>0.769014</td>\n      <td>0.850946</td>\n      <td>0.269150</td>\n      <td>1.850569</td>\n      <td>-0.249231</td>\n    </tr>\n    <tr>\n      <th>股票_7</th>\n      <td>0.433466</td>\n      <td>-0.362083</td>\n      <td>-0.501669</td>\n      <td>1.402216</td>\n      <td>-0.381445</td>\n      <td>-1.303242</td>\n      <td>0.048012</td>\n      <td>-1.706043</td>\n      <td>-1.165417</td>\n      <td>-1.045564</td>\n    </tr>\n  </tbody>\n</table>\n</div>"
     },
     "execution_count": 10,
     "metadata": {},
     "output_type": "execute_result"
    }
   ],
   "source": [
    "# 生成新的索引\n",
    "new_index = ['股票_{}'.format(x) for x in range(8)]\n",
    "data.index = new_index\n",
    "data.reset_index(drop=True)\n",
    "\n",
    "data"
   ],
   "metadata": {
    "collapsed": false,
    "ExecuteTime": {
     "end_time": "2023-09-07T11:01:02.386055500Z",
     "start_time": "2023-09-07T11:01:02.321085900Z"
    }
   },
   "id": "2c681eac798caeda"
  },
  {
   "cell_type": "code",
   "execution_count": 11,
   "outputs": [
    {
     "data": {
      "text/plain": "   month  year  sale\n0      1  2019    55\n1      4  2020    40\n2      7  2021    84\n3     10  2022    21",
      "text/html": "<div>\n<style scoped>\n    .dataframe tbody tr th:only-of-type {\n        vertical-align: middle;\n    }\n\n    .dataframe tbody tr th {\n        vertical-align: top;\n    }\n\n    .dataframe thead th {\n        text-align: right;\n    }\n</style>\n<table border=\"1\" class=\"dataframe\">\n  <thead>\n    <tr style=\"text-align: right;\">\n      <th></th>\n      <th>month</th>\n      <th>year</th>\n      <th>sale</th>\n    </tr>\n  </thead>\n  <tbody>\n    <tr>\n      <th>0</th>\n      <td>1</td>\n      <td>2019</td>\n      <td>55</td>\n    </tr>\n    <tr>\n      <th>1</th>\n      <td>4</td>\n      <td>2020</td>\n      <td>40</td>\n    </tr>\n    <tr>\n      <th>2</th>\n      <td>7</td>\n      <td>2021</td>\n      <td>84</td>\n    </tr>\n    <tr>\n      <th>3</th>\n      <td>10</td>\n      <td>2022</td>\n      <td>21</td>\n    </tr>\n  </tbody>\n</table>\n</div>"
     },
     "execution_count": 11,
     "metadata": {},
     "output_type": "execute_result"
    }
   ],
   "source": [
    "# 把某一列设置为新索引\n",
    "df = pd.DataFrame(\n",
    "    {\n",
    "        'month': [1, 4, 7, 10],\n",
    "        'year': [2019, 2020, 2021, 2022],\n",
    "        'sale': [55, 40, 84, 21]\n",
    "    }\n",
    ")\n",
    "\n",
    "df"
   ],
   "metadata": {
    "collapsed": false,
    "ExecuteTime": {
     "end_time": "2023-09-07T11:04:47.044367400Z",
     "start_time": "2023-09-07T11:04:46.996283600Z"
    }
   },
   "id": "fa66948b3d468b1"
  },
  {
   "cell_type": "code",
   "execution_count": 12,
   "outputs": [
    {
     "data": {
      "text/plain": "       month  year  sale\nmonth                   \n1          1  2019    55\n4          4  2020    40\n7          7  2021    84\n10        10  2022    21",
      "text/html": "<div>\n<style scoped>\n    .dataframe tbody tr th:only-of-type {\n        vertical-align: middle;\n    }\n\n    .dataframe tbody tr th {\n        vertical-align: top;\n    }\n\n    .dataframe thead th {\n        text-align: right;\n    }\n</style>\n<table border=\"1\" class=\"dataframe\">\n  <thead>\n    <tr style=\"text-align: right;\">\n      <th></th>\n      <th>month</th>\n      <th>year</th>\n      <th>sale</th>\n    </tr>\n    <tr>\n      <th>month</th>\n      <th></th>\n      <th></th>\n      <th></th>\n    </tr>\n  </thead>\n  <tbody>\n    <tr>\n      <th>1</th>\n      <td>1</td>\n      <td>2019</td>\n      <td>55</td>\n    </tr>\n    <tr>\n      <th>4</th>\n      <td>4</td>\n      <td>2020</td>\n      <td>40</td>\n    </tr>\n    <tr>\n      <th>7</th>\n      <td>7</td>\n      <td>2021</td>\n      <td>84</td>\n    </tr>\n    <tr>\n      <th>10</th>\n      <td>10</td>\n      <td>2022</td>\n      <td>21</td>\n    </tr>\n  </tbody>\n</table>\n</div>"
     },
     "execution_count": 12,
     "metadata": {},
     "output_type": "execute_result"
    }
   ],
   "source": [
    "df.set_index('month', drop=False)"
   ],
   "metadata": {
    "collapsed": false,
    "ExecuteTime": {
     "end_time": "2023-09-07T11:09:46.987732300Z",
     "start_time": "2023-09-07T11:09:46.972643500Z"
    }
   },
   "id": "eb9ba3ee9e3c3d3"
  },
  {
   "cell_type": "code",
   "execution_count": 14,
   "outputs": [
    {
     "data": {
      "text/plain": "            sale\nmonth year      \n1     2019    55\n4     2020    40\n7     2021    84\n10    2022    21",
      "text/html": "<div>\n<style scoped>\n    .dataframe tbody tr th:only-of-type {\n        vertical-align: middle;\n    }\n\n    .dataframe tbody tr th {\n        vertical-align: top;\n    }\n\n    .dataframe thead th {\n        text-align: right;\n    }\n</style>\n<table border=\"1\" class=\"dataframe\">\n  <thead>\n    <tr style=\"text-align: right;\">\n      <th></th>\n      <th></th>\n      <th>sale</th>\n    </tr>\n    <tr>\n      <th>month</th>\n      <th>year</th>\n      <th></th>\n    </tr>\n  </thead>\n  <tbody>\n    <tr>\n      <th>1</th>\n      <th>2019</th>\n      <td>55</td>\n    </tr>\n    <tr>\n      <th>4</th>\n      <th>2020</th>\n      <td>40</td>\n    </tr>\n    <tr>\n      <th>7</th>\n      <th>2021</th>\n      <td>84</td>\n    </tr>\n    <tr>\n      <th>10</th>\n      <th>2022</th>\n      <td>21</td>\n    </tr>\n  </tbody>\n</table>\n</div>"
     },
     "execution_count": 14,
     "metadata": {},
     "output_type": "execute_result"
    }
   ],
   "source": [
    "# 把某些列设置为新索引\n",
    "res = df.set_index(['month', 'year'])\n",
    "\n",
    "res"
   ],
   "metadata": {
    "collapsed": false,
    "ExecuteTime": {
     "end_time": "2023-09-07T11:12:00.146073900Z",
     "start_time": "2023-09-07T11:12:00.098859500Z"
    }
   },
   "id": "c626bd1fcfb7b77a"
  },
  {
   "cell_type": "code",
   "execution_count": 18,
   "outputs": [
    {
     "data": {
      "text/plain": "MultiIndex([( 1, 2019),\n            ( 4, 2020),\n            ( 7, 2021),\n            (10, 2022)],\n           names=['month', 'year'])"
     },
     "execution_count": 18,
     "metadata": {},
     "output_type": "execute_result"
    }
   ],
   "source": [
    "res.index"
   ],
   "metadata": {
    "collapsed": false,
    "ExecuteTime": {
     "end_time": "2023-09-07T11:24:47.624162700Z",
     "start_time": "2023-09-07T11:24:47.601606800Z"
    }
   },
   "id": "b745e88fedae2406"
  },
  {
   "cell_type": "code",
   "execution_count": null,
   "outputs": [],
   "source": [],
   "metadata": {
    "collapsed": false
   },
   "id": "4450fdfdbc95f24c"
  }
 ],
 "metadata": {
  "kernelspec": {
   "display_name": "Python 3",
   "language": "python",
   "name": "python3"
  },
  "language_info": {
   "codemirror_mode": {
    "name": "ipython",
    "version": 2
   },
   "file_extension": ".py",
   "mimetype": "text/x-python",
   "name": "python",
   "nbconvert_exporter": "python",
   "pygments_lexer": "ipython2",
   "version": "2.7.6"
  }
 },
 "nbformat": 4,
 "nbformat_minor": 5
}
