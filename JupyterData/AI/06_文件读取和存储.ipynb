{
 "cells": [
  {
   "cell_type": "markdown",
   "source": [
    "# Pandas 的文件读取和存储"
   ],
   "metadata": {
    "collapsed": false
   },
   "id": "e19856336957dae3"
  },
  {
   "cell_type": "markdown",
   "source": [
    "## CSV 的读取和存储"
   ],
   "metadata": {
    "collapsed": false
   },
   "id": "8d9ec60d6736a673"
  },
  {
   "cell_type": "code",
   "execution_count": 2,
   "outputs": [
    {
     "name": "stdout",
     "output_type": "stream",
     "text": [
      "D:\\Developments\\Ace\\AceRepositories\\JupyterData\\AI\n"
     ]
    }
   ],
   "source": [
    "import os\n",
    "\n",
    "print(os.getcwd())"
   ],
   "metadata": {
    "collapsed": false,
    "ExecuteTime": {
     "end_time": "2023-09-07T11:48:46.976846900Z",
     "start_time": "2023-09-07T11:48:46.960168200Z"
    }
   },
   "id": "e405a3fdd21876c0"
  },
  {
   "cell_type": "code",
   "execution_count": 5,
   "id": "initial_id",
   "metadata": {
    "collapsed": true,
    "ExecuteTime": {
     "end_time": "2023-09-07T11:52:10.838554600Z",
     "start_time": "2023-09-07T11:52:10.813413Z"
    }
   },
   "outputs": [
    {
     "data": {
      "text/plain": "             open   high  close    low    volume  price_change  p_change  \\\n2018-02-27  23.53  25.88  24.16  23.53  95578.03          0.63      2.68   \n2018-02-26  22.80  23.78  23.53  22.80  60985.11          0.69      3.02   \n2018-02-23  22.88  23.37  22.82  22.71  52914.01          0.54      2.42   \n2018-02-22  22.25  22.76  22.28  22.02  36105.01          0.36      1.64   \n2018-02-14  21.49  21.99  21.92  21.48  23331.04          0.44      2.05   \n\n               ma5    ma10    ma20     v_ma5    v_ma10    v_ma20  turnover  \n2018-02-27  22.942  22.142  22.875  53782.64  46738.65  55576.11      2.39  \n2018-02-26  22.406  21.955  22.942  40827.52  42736.34  56007.50      1.53  \n2018-02-23  21.938  21.929  23.022  35119.58  41871.97  56372.85      1.32  \n2018-02-22  21.446  21.909  23.137  35397.58  39904.78  60149.60      0.90  \n2018-02-14  21.366  21.923  23.253  33590.21  42935.74  61716.11      0.58  ",
      "text/html": "<div>\n<style scoped>\n    .dataframe tbody tr th:only-of-type {\n        vertical-align: middle;\n    }\n\n    .dataframe tbody tr th {\n        vertical-align: top;\n    }\n\n    .dataframe thead th {\n        text-align: right;\n    }\n</style>\n<table border=\"1\" class=\"dataframe\">\n  <thead>\n    <tr style=\"text-align: right;\">\n      <th></th>\n      <th>open</th>\n      <th>high</th>\n      <th>close</th>\n      <th>low</th>\n      <th>volume</th>\n      <th>price_change</th>\n      <th>p_change</th>\n      <th>ma5</th>\n      <th>ma10</th>\n      <th>ma20</th>\n      <th>v_ma5</th>\n      <th>v_ma10</th>\n      <th>v_ma20</th>\n      <th>turnover</th>\n    </tr>\n  </thead>\n  <tbody>\n    <tr>\n      <th>2018-02-27</th>\n      <td>23.53</td>\n      <td>25.88</td>\n      <td>24.16</td>\n      <td>23.53</td>\n      <td>95578.03</td>\n      <td>0.63</td>\n      <td>2.68</td>\n      <td>22.942</td>\n      <td>22.142</td>\n      <td>22.875</td>\n      <td>53782.64</td>\n      <td>46738.65</td>\n      <td>55576.11</td>\n      <td>2.39</td>\n    </tr>\n    <tr>\n      <th>2018-02-26</th>\n      <td>22.80</td>\n      <td>23.78</td>\n      <td>23.53</td>\n      <td>22.80</td>\n      <td>60985.11</td>\n      <td>0.69</td>\n      <td>3.02</td>\n      <td>22.406</td>\n      <td>21.955</td>\n      <td>22.942</td>\n      <td>40827.52</td>\n      <td>42736.34</td>\n      <td>56007.50</td>\n      <td>1.53</td>\n    </tr>\n    <tr>\n      <th>2018-02-23</th>\n      <td>22.88</td>\n      <td>23.37</td>\n      <td>22.82</td>\n      <td>22.71</td>\n      <td>52914.01</td>\n      <td>0.54</td>\n      <td>2.42</td>\n      <td>21.938</td>\n      <td>21.929</td>\n      <td>23.022</td>\n      <td>35119.58</td>\n      <td>41871.97</td>\n      <td>56372.85</td>\n      <td>1.32</td>\n    </tr>\n    <tr>\n      <th>2018-02-22</th>\n      <td>22.25</td>\n      <td>22.76</td>\n      <td>22.28</td>\n      <td>22.02</td>\n      <td>36105.01</td>\n      <td>0.36</td>\n      <td>1.64</td>\n      <td>21.446</td>\n      <td>21.909</td>\n      <td>23.137</td>\n      <td>35397.58</td>\n      <td>39904.78</td>\n      <td>60149.60</td>\n      <td>0.90</td>\n    </tr>\n    <tr>\n      <th>2018-02-14</th>\n      <td>21.49</td>\n      <td>21.99</td>\n      <td>21.92</td>\n      <td>21.48</td>\n      <td>23331.04</td>\n      <td>0.44</td>\n      <td>2.05</td>\n      <td>21.366</td>\n      <td>21.923</td>\n      <td>23.253</td>\n      <td>33590.21</td>\n      <td>42935.74</td>\n      <td>61716.11</td>\n      <td>0.58</td>\n    </tr>\n  </tbody>\n</table>\n</div>"
     },
     "execution_count": 5,
     "metadata": {},
     "output_type": "execute_result"
    }
   ],
   "source": [
    "import pandas as pd\n",
    "\n",
    "# 读取数据\n",
    "data_csv = pd.read_csv('./temp/data/stock_day.csv')\n",
    "\n",
    "data_csv.head()"
   ]
  },
  {
   "cell_type": "code",
   "execution_count": 6,
   "outputs": [],
   "source": [
    "# 保存数据\n",
    "data_csv.to_csv('./temp/output/test.csv', index=False)"
   ],
   "metadata": {
    "collapsed": false,
    "ExecuteTime": {
     "end_time": "2023-09-07T11:53:20.877690300Z",
     "start_time": "2023-09-07T11:53:20.843681200Z"
    }
   },
   "id": "57d08f09da3ca36b"
  },
  {
   "cell_type": "markdown",
   "source": [
    "## HDF5 的读取和存储"
   ],
   "metadata": {
    "collapsed": false
   },
   "id": "5ac3d669121b3083"
  },
  {
   "cell_type": "code",
   "execution_count": 11,
   "outputs": [
    {
     "data": {
      "text/plain": "   000001.SZ  000002.SZ  000004.SZ  000005.SZ  000006.SZ  000007.SZ  \\\n0    0.44999    0.42051  -0.157878  -0.089765   1.061339  -0.036714   \n1    0.44999    0.42051  -0.157878  -0.089765   1.061339  -0.036714   \n2    0.44999    0.42051  -0.157878  -0.089765   1.061339  -0.036714   \n3    0.44999    0.42051  -0.157878  -0.089765   1.061339  -0.036714   \n4    0.44999    0.42051  -0.157878  -0.089765   1.061339  -0.036714   \n\n   000008.SZ  000009.SZ  000010.SZ  000011.SZ  ...  001965.SZ  603283.SH  \\\n0  -0.043017   0.079477  -0.590716   0.019715  ...        NaN        NaN   \n1  -0.043017   0.079477  -0.590716   0.019715  ...        NaN        NaN   \n2  -0.043017   0.079477  -0.590716   0.019715  ...        NaN        NaN   \n3  -0.043017   0.079477  -0.590716   0.019715  ...        NaN        NaN   \n4  -0.043017   0.079477  -0.590716   0.019715  ...        NaN        NaN   \n\n   002920.SZ  002921.SZ  300684.SZ  002922.SZ  300735.SZ  603329.SH  \\\n0        NaN        NaN        NaN        NaN        NaN        NaN   \n1        NaN        NaN        NaN        NaN        NaN        NaN   \n2        NaN        NaN        NaN        NaN        NaN        NaN   \n3        NaN        NaN        NaN        NaN        NaN        NaN   \n4        NaN        NaN        NaN        NaN        NaN        NaN   \n\n   603655.SH  603080.SH  \n0        NaN        NaN  \n1        NaN        NaN  \n2        NaN        NaN  \n3        NaN        NaN  \n4        NaN        NaN  \n\n[5 rows x 3562 columns]",
      "text/html": "<div>\n<style scoped>\n    .dataframe tbody tr th:only-of-type {\n        vertical-align: middle;\n    }\n\n    .dataframe tbody tr th {\n        vertical-align: top;\n    }\n\n    .dataframe thead th {\n        text-align: right;\n    }\n</style>\n<table border=\"1\" class=\"dataframe\">\n  <thead>\n    <tr style=\"text-align: right;\">\n      <th></th>\n      <th>000001.SZ</th>\n      <th>000002.SZ</th>\n      <th>000004.SZ</th>\n      <th>000005.SZ</th>\n      <th>000006.SZ</th>\n      <th>000007.SZ</th>\n      <th>000008.SZ</th>\n      <th>000009.SZ</th>\n      <th>000010.SZ</th>\n      <th>000011.SZ</th>\n      <th>...</th>\n      <th>001965.SZ</th>\n      <th>603283.SH</th>\n      <th>002920.SZ</th>\n      <th>002921.SZ</th>\n      <th>300684.SZ</th>\n      <th>002922.SZ</th>\n      <th>300735.SZ</th>\n      <th>603329.SH</th>\n      <th>603655.SH</th>\n      <th>603080.SH</th>\n    </tr>\n  </thead>\n  <tbody>\n    <tr>\n      <th>0</th>\n      <td>0.44999</td>\n      <td>0.42051</td>\n      <td>-0.157878</td>\n      <td>-0.089765</td>\n      <td>1.061339</td>\n      <td>-0.036714</td>\n      <td>-0.043017</td>\n      <td>0.079477</td>\n      <td>-0.590716</td>\n      <td>0.019715</td>\n      <td>...</td>\n      <td>NaN</td>\n      <td>NaN</td>\n      <td>NaN</td>\n      <td>NaN</td>\n      <td>NaN</td>\n      <td>NaN</td>\n      <td>NaN</td>\n      <td>NaN</td>\n      <td>NaN</td>\n      <td>NaN</td>\n    </tr>\n    <tr>\n      <th>1</th>\n      <td>0.44999</td>\n      <td>0.42051</td>\n      <td>-0.157878</td>\n      <td>-0.089765</td>\n      <td>1.061339</td>\n      <td>-0.036714</td>\n      <td>-0.043017</td>\n      <td>0.079477</td>\n      <td>-0.590716</td>\n      <td>0.019715</td>\n      <td>...</td>\n      <td>NaN</td>\n      <td>NaN</td>\n      <td>NaN</td>\n      <td>NaN</td>\n      <td>NaN</td>\n      <td>NaN</td>\n      <td>NaN</td>\n      <td>NaN</td>\n      <td>NaN</td>\n      <td>NaN</td>\n    </tr>\n    <tr>\n      <th>2</th>\n      <td>0.44999</td>\n      <td>0.42051</td>\n      <td>-0.157878</td>\n      <td>-0.089765</td>\n      <td>1.061339</td>\n      <td>-0.036714</td>\n      <td>-0.043017</td>\n      <td>0.079477</td>\n      <td>-0.590716</td>\n      <td>0.019715</td>\n      <td>...</td>\n      <td>NaN</td>\n      <td>NaN</td>\n      <td>NaN</td>\n      <td>NaN</td>\n      <td>NaN</td>\n      <td>NaN</td>\n      <td>NaN</td>\n      <td>NaN</td>\n      <td>NaN</td>\n      <td>NaN</td>\n    </tr>\n    <tr>\n      <th>3</th>\n      <td>0.44999</td>\n      <td>0.42051</td>\n      <td>-0.157878</td>\n      <td>-0.089765</td>\n      <td>1.061339</td>\n      <td>-0.036714</td>\n      <td>-0.043017</td>\n      <td>0.079477</td>\n      <td>-0.590716</td>\n      <td>0.019715</td>\n      <td>...</td>\n      <td>NaN</td>\n      <td>NaN</td>\n      <td>NaN</td>\n      <td>NaN</td>\n      <td>NaN</td>\n      <td>NaN</td>\n      <td>NaN</td>\n      <td>NaN</td>\n      <td>NaN</td>\n      <td>NaN</td>\n    </tr>\n    <tr>\n      <th>4</th>\n      <td>0.44999</td>\n      <td>0.42051</td>\n      <td>-0.157878</td>\n      <td>-0.089765</td>\n      <td>1.061339</td>\n      <td>-0.036714</td>\n      <td>-0.043017</td>\n      <td>0.079477</td>\n      <td>-0.590716</td>\n      <td>0.019715</td>\n      <td>...</td>\n      <td>NaN</td>\n      <td>NaN</td>\n      <td>NaN</td>\n      <td>NaN</td>\n      <td>NaN</td>\n      <td>NaN</td>\n      <td>NaN</td>\n      <td>NaN</td>\n      <td>NaN</td>\n      <td>NaN</td>\n    </tr>\n  </tbody>\n</table>\n<p>5 rows × 3562 columns</p>\n</div>"
     },
     "execution_count": 11,
     "metadata": {},
     "output_type": "execute_result"
    }
   ],
   "source": [
    "# 读取数据\n",
    "data_hdf5 = pd.read_hdf('./temp/data/stock_data/day/day_eps_ttm.h5')\n",
    "\n",
    "data_hdf5.head()"
   ],
   "metadata": {
    "collapsed": false,
    "ExecuteTime": {
     "end_time": "2023-09-07T12:04:52.043350700Z",
     "start_time": "2023-09-07T12:04:51.902238900Z"
    }
   },
   "id": "63f69dc5d876b369"
  },
  {
   "cell_type": "code",
   "execution_count": 12,
   "outputs": [],
   "source": [
    "# 保存数据\n",
    "data_hdf5.to_hdf('./temp/output/test_hdf.h5', key='test')"
   ],
   "metadata": {
    "collapsed": false,
    "ExecuteTime": {
     "end_time": "2023-09-07T12:06:08.754840200Z",
     "start_time": "2023-09-07T12:06:08.553635600Z"
    }
   },
   "id": "e7512f993f6d9697"
  },
  {
   "cell_type": "markdown",
   "source": [
    "## JSON 文件的读取和存储"
   ],
   "metadata": {
    "collapsed": false
   },
   "id": "55d8a4d8398f3a37"
  },
  {
   "cell_type": "code",
   "execution_count": 14,
   "outputs": [
    {
     "data": {
      "text/plain": "                                        article_link  \\\n0  https://www.huffingtonpost.com/entry/versace-b...   \n1  https://www.huffingtonpost.com/entry/roseanne-...   \n2  https://local.theonion.com/mom-starting-to-fea...   \n3  https://politics.theonion.com/boehner-just-wan...   \n4  https://www.huffingtonpost.com/entry/jk-rowlin...   \n\n                                            headline  is_sarcastic  \n0  former versace store clerk sues over secret 'b...             0  \n1  the 'roseanne' revival catches up to our thorn...             0  \n2  mom starting to fear son's web series closest ...             1  \n3  boehner just wants wife to listen, not come up...             1  \n4  j.k. rowling wishes snape happy birthday in th...             0  ",
      "text/html": "<div>\n<style scoped>\n    .dataframe tbody tr th:only-of-type {\n        vertical-align: middle;\n    }\n\n    .dataframe tbody tr th {\n        vertical-align: top;\n    }\n\n    .dataframe thead th {\n        text-align: right;\n    }\n</style>\n<table border=\"1\" class=\"dataframe\">\n  <thead>\n    <tr style=\"text-align: right;\">\n      <th></th>\n      <th>article_link</th>\n      <th>headline</th>\n      <th>is_sarcastic</th>\n    </tr>\n  </thead>\n  <tbody>\n    <tr>\n      <th>0</th>\n      <td>https://www.huffingtonpost.com/entry/versace-b...</td>\n      <td>former versace store clerk sues over secret 'b...</td>\n      <td>0</td>\n    </tr>\n    <tr>\n      <th>1</th>\n      <td>https://www.huffingtonpost.com/entry/roseanne-...</td>\n      <td>the 'roseanne' revival catches up to our thorn...</td>\n      <td>0</td>\n    </tr>\n    <tr>\n      <th>2</th>\n      <td>https://local.theonion.com/mom-starting-to-fea...</td>\n      <td>mom starting to fear son's web series closest ...</td>\n      <td>1</td>\n    </tr>\n    <tr>\n      <th>3</th>\n      <td>https://politics.theonion.com/boehner-just-wan...</td>\n      <td>boehner just wants wife to listen, not come up...</td>\n      <td>1</td>\n    </tr>\n    <tr>\n      <th>4</th>\n      <td>https://www.huffingtonpost.com/entry/jk-rowlin...</td>\n      <td>j.k. rowling wishes snape happy birthday in th...</td>\n      <td>0</td>\n    </tr>\n  </tbody>\n</table>\n</div>"
     },
     "execution_count": 14,
     "metadata": {},
     "output_type": "execute_result"
    }
   ],
   "source": [
    "# 读取数据\n",
    "data_json = pd.read_json('./temp/data/Sarcasm_Headlines_Dataset.json', orient='records', lines=True)\n",
    "\n",
    "data_json.head()"
   ],
   "metadata": {
    "collapsed": false,
    "ExecuteTime": {
     "end_time": "2023-09-07T13:21:49.451878600Z",
     "start_time": "2023-09-07T13:21:49.369727Z"
    }
   },
   "id": "db7777433a30fa02"
  },
  {
   "cell_type": "code",
   "execution_count": 15,
   "outputs": [],
   "source": [
    "# 存储数据\n",
    "data_json.to_json('./temp/output/test_json.json', orient='records', lines=False)"
   ],
   "metadata": {
    "collapsed": false,
    "ExecuteTime": {
     "end_time": "2023-09-07T13:23:22.350339400Z",
     "start_time": "2023-09-07T13:23:22.300544200Z"
    }
   },
   "id": "f60e761f53d06e7b"
  },
  {
   "cell_type": "code",
   "execution_count": null,
   "outputs": [],
   "source": [],
   "metadata": {
    "collapsed": false
   },
   "id": "eac8f5373d30b06f"
  }
 ],
 "metadata": {
  "kernelspec": {
   "display_name": "Python 3",
   "language": "python",
   "name": "python3"
  },
  "language_info": {
   "codemirror_mode": {
    "name": "ipython",
    "version": 2
   },
   "file_extension": ".py",
   "mimetype": "text/x-python",
   "name": "python",
   "nbconvert_exporter": "python",
   "pygments_lexer": "ipython2",
   "version": "2.7.6"
  }
 },
 "nbformat": 4,
 "nbformat_minor": 5
}
