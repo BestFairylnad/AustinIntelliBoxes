{
 "cells": [
  {
   "cell_type": "markdown",
   "source": [
    "# 基本数据操作"
   ],
   "metadata": {
    "collapsed": false
   },
   "id": "b8948e673d60d01"
  },
  {
   "cell_type": "code",
   "execution_count": 1,
   "id": "initial_id",
   "metadata": {
    "collapsed": true,
    "ExecuteTime": {
     "end_time": "2023-09-07T13:34:04.092662500Z",
     "start_time": "2023-09-07T13:34:03.110428700Z"
    }
   },
   "outputs": [],
   "source": [
    "import pandas as pd\n",
    "import matplotlib.pyplot as plt\n"
   ]
  },
  {
   "cell_type": "code",
   "execution_count": 2,
   "outputs": [],
   "source": [
    "# 读取文件\n",
    "data = pd.read_csv('./temp/data/stock_day.csv')"
   ],
   "metadata": {
    "collapsed": false,
    "ExecuteTime": {
     "end_time": "2023-09-07T13:34:53.953654600Z",
     "start_time": "2023-09-07T13:34:53.930126200Z"
    }
   },
   "id": "e3764a0c99dba653"
  },
  {
   "cell_type": "code",
   "execution_count": 3,
   "outputs": [
    {
     "data": {
      "text/plain": "             open   high  close    low    volume  price_change  p_change  \\\n2018-02-27  23.53  25.88  24.16  23.53  95578.03          0.63      2.68   \n2018-02-26  22.80  23.78  23.53  22.80  60985.11          0.69      3.02   \n2018-02-23  22.88  23.37  22.82  22.71  52914.01          0.54      2.42   \n2018-02-22  22.25  22.76  22.28  22.02  36105.01          0.36      1.64   \n2018-02-14  21.49  21.99  21.92  21.48  23331.04          0.44      2.05   \n\n               ma5    ma10    ma20     v_ma5    v_ma10    v_ma20  turnover  \n2018-02-27  22.942  22.142  22.875  53782.64  46738.65  55576.11      2.39  \n2018-02-26  22.406  21.955  22.942  40827.52  42736.34  56007.50      1.53  \n2018-02-23  21.938  21.929  23.022  35119.58  41871.97  56372.85      1.32  \n2018-02-22  21.446  21.909  23.137  35397.58  39904.78  60149.60      0.90  \n2018-02-14  21.366  21.923  23.253  33590.21  42935.74  61716.11      0.58  ",
      "text/html": "<div>\n<style scoped>\n    .dataframe tbody tr th:only-of-type {\n        vertical-align: middle;\n    }\n\n    .dataframe tbody tr th {\n        vertical-align: top;\n    }\n\n    .dataframe thead th {\n        text-align: right;\n    }\n</style>\n<table border=\"1\" class=\"dataframe\">\n  <thead>\n    <tr style=\"text-align: right;\">\n      <th></th>\n      <th>open</th>\n      <th>high</th>\n      <th>close</th>\n      <th>low</th>\n      <th>volume</th>\n      <th>price_change</th>\n      <th>p_change</th>\n      <th>ma5</th>\n      <th>ma10</th>\n      <th>ma20</th>\n      <th>v_ma5</th>\n      <th>v_ma10</th>\n      <th>v_ma20</th>\n      <th>turnover</th>\n    </tr>\n  </thead>\n  <tbody>\n    <tr>\n      <th>2018-02-27</th>\n      <td>23.53</td>\n      <td>25.88</td>\n      <td>24.16</td>\n      <td>23.53</td>\n      <td>95578.03</td>\n      <td>0.63</td>\n      <td>2.68</td>\n      <td>22.942</td>\n      <td>22.142</td>\n      <td>22.875</td>\n      <td>53782.64</td>\n      <td>46738.65</td>\n      <td>55576.11</td>\n      <td>2.39</td>\n    </tr>\n    <tr>\n      <th>2018-02-26</th>\n      <td>22.80</td>\n      <td>23.78</td>\n      <td>23.53</td>\n      <td>22.80</td>\n      <td>60985.11</td>\n      <td>0.69</td>\n      <td>3.02</td>\n      <td>22.406</td>\n      <td>21.955</td>\n      <td>22.942</td>\n      <td>40827.52</td>\n      <td>42736.34</td>\n      <td>56007.50</td>\n      <td>1.53</td>\n    </tr>\n    <tr>\n      <th>2018-02-23</th>\n      <td>22.88</td>\n      <td>23.37</td>\n      <td>22.82</td>\n      <td>22.71</td>\n      <td>52914.01</td>\n      <td>0.54</td>\n      <td>2.42</td>\n      <td>21.938</td>\n      <td>21.929</td>\n      <td>23.022</td>\n      <td>35119.58</td>\n      <td>41871.97</td>\n      <td>56372.85</td>\n      <td>1.32</td>\n    </tr>\n    <tr>\n      <th>2018-02-22</th>\n      <td>22.25</td>\n      <td>22.76</td>\n      <td>22.28</td>\n      <td>22.02</td>\n      <td>36105.01</td>\n      <td>0.36</td>\n      <td>1.64</td>\n      <td>21.446</td>\n      <td>21.909</td>\n      <td>23.137</td>\n      <td>35397.58</td>\n      <td>39904.78</td>\n      <td>60149.60</td>\n      <td>0.90</td>\n    </tr>\n    <tr>\n      <th>2018-02-14</th>\n      <td>21.49</td>\n      <td>21.99</td>\n      <td>21.92</td>\n      <td>21.48</td>\n      <td>23331.04</td>\n      <td>0.44</td>\n      <td>2.05</td>\n      <td>21.366</td>\n      <td>21.923</td>\n      <td>23.253</td>\n      <td>33590.21</td>\n      <td>42935.74</td>\n      <td>61716.11</td>\n      <td>0.58</td>\n    </tr>\n  </tbody>\n</table>\n</div>"
     },
     "execution_count": 3,
     "metadata": {},
     "output_type": "execute_result"
    }
   ],
   "source": [
    "# 获取前5行数据\n",
    "data.head()"
   ],
   "metadata": {
    "collapsed": false,
    "ExecuteTime": {
     "end_time": "2023-09-07T13:34:59.103276700Z",
     "start_time": "2023-09-07T13:34:59.059048600Z"
    }
   },
   "id": "c5b1fde21baeeccc"
  },
  {
   "cell_type": "code",
   "execution_count": 4,
   "outputs": [
    {
     "data": {
      "text/plain": "2018-02-27    24.16\n2018-02-26    23.53\n2018-02-23    22.82\n2018-02-22    22.28\n2018-02-14    21.92\nName: close, dtype: float64"
     },
     "execution_count": 4,
     "metadata": {},
     "output_type": "execute_result"
    }
   ],
   "source": [
    "# 通过中括号索引\n",
    "data['close'].head()"
   ],
   "metadata": {
    "collapsed": false,
    "ExecuteTime": {
     "end_time": "2023-09-07T13:35:20.050627100Z",
     "start_time": "2023-09-07T13:35:20.032734900Z"
    }
   },
   "id": "bfcf3e9d35851e3b"
  },
  {
   "cell_type": "code",
   "execution_count": 5,
   "outputs": [
    {
     "data": {
      "text/plain": "22.82"
     },
     "execution_count": 5,
     "metadata": {},
     "output_type": "execute_result"
    }
   ],
   "source": [
    "# 先行后列\n",
    "data['close']['2018-02-23']"
   ],
   "metadata": {
    "collapsed": false,
    "ExecuteTime": {
     "end_time": "2023-09-07T13:35:58.201419300Z",
     "start_time": "2023-09-07T13:35:58.122501300Z"
    }
   },
   "id": "8da09e88d6b22d1b"
  },
  {
   "cell_type": "code",
   "execution_count": 6,
   "outputs": [
    {
     "data": {
      "text/plain": "close    22.82\nlow      22.71\nName: 2018-02-23, dtype: float64"
     },
     "execution_count": 6,
     "metadata": {},
     "output_type": "execute_result"
    }
   ],
   "source": [
    "# 通过loc索引  用行列名字来索引\n",
    "data.loc['2018-02-23', 'close': 'low']"
   ],
   "metadata": {
    "collapsed": false,
    "ExecuteTime": {
     "end_time": "2023-09-07T13:37:26.420984900Z",
     "start_time": "2023-09-07T13:37:26.397029100Z"
    }
   },
   "id": "a83b2447f1dad485"
  },
  {
   "cell_type": "code",
   "execution_count": 9,
   "outputs": [
    {
     "data": {
      "text/plain": "            close    low    volume  price_change  p_change     ma5    ma10  \\\n2018-02-27  24.16  23.53  95578.03          0.63      2.68  22.942  22.142   \n2018-02-26  23.53  22.80  60985.11          0.69      3.02  22.406  21.955   \n\n              ma20     v_ma5    v_ma10    v_ma20  turnover  \n2018-02-27  22.875  53782.64  46738.65  55576.11      2.39  \n2018-02-26  22.942  40827.52  42736.34  56007.50      1.53  ",
      "text/html": "<div>\n<style scoped>\n    .dataframe tbody tr th:only-of-type {\n        vertical-align: middle;\n    }\n\n    .dataframe tbody tr th {\n        vertical-align: top;\n    }\n\n    .dataframe thead th {\n        text-align: right;\n    }\n</style>\n<table border=\"1\" class=\"dataframe\">\n  <thead>\n    <tr style=\"text-align: right;\">\n      <th></th>\n      <th>close</th>\n      <th>low</th>\n      <th>volume</th>\n      <th>price_change</th>\n      <th>p_change</th>\n      <th>ma5</th>\n      <th>ma10</th>\n      <th>ma20</th>\n      <th>v_ma5</th>\n      <th>v_ma10</th>\n      <th>v_ma20</th>\n      <th>turnover</th>\n    </tr>\n  </thead>\n  <tbody>\n    <tr>\n      <th>2018-02-27</th>\n      <td>24.16</td>\n      <td>23.53</td>\n      <td>95578.03</td>\n      <td>0.63</td>\n      <td>2.68</td>\n      <td>22.942</td>\n      <td>22.142</td>\n      <td>22.875</td>\n      <td>53782.64</td>\n      <td>46738.65</td>\n      <td>55576.11</td>\n      <td>2.39</td>\n    </tr>\n    <tr>\n      <th>2018-02-26</th>\n      <td>23.53</td>\n      <td>22.80</td>\n      <td>60985.11</td>\n      <td>0.69</td>\n      <td>3.02</td>\n      <td>22.406</td>\n      <td>21.955</td>\n      <td>22.942</td>\n      <td>40827.52</td>\n      <td>42736.34</td>\n      <td>56007.50</td>\n      <td>1.53</td>\n    </tr>\n  </tbody>\n</table>\n</div>"
     },
     "execution_count": 9,
     "metadata": {},
     "output_type": "execute_result"
    }
   ],
   "source": [
    "# 通过iloc索引  用下标来索引\n",
    "data.iloc[:2, 2:]"
   ],
   "metadata": {
    "collapsed": false,
    "ExecuteTime": {
     "end_time": "2023-09-07T13:38:47.581646700Z",
     "start_time": "2023-09-07T13:38:47.563086200Z"
    }
   },
   "id": "510eebd1375d73c5"
  },
  {
   "cell_type": "markdown",
   "source": [
    "## 排序操作"
   ],
   "metadata": {
    "collapsed": false
   },
   "id": "c5dfc8e30e0c5c29"
  },
  {
   "cell_type": "code",
   "execution_count": 10,
   "outputs": [
    {
     "data": {
      "text/plain": "             open   high  close    low     volume  price_change  p_change  \\\n2015-09-01  14.78  14.78  13.46  13.46   78985.85         -1.50    -10.03   \n2015-09-14  16.62  16.64  14.46  14.46  139701.77         -1.61    -10.02   \n2016-01-11  16.59  17.24  15.90  15.90   58036.37         -1.77    -10.02   \n2015-07-15  22.78  23.04  22.10  22.10   85966.42         -2.46    -10.02   \n2015-08-26  17.00  18.35  15.56  15.56  130318.31         -1.73    -10.01   \n\n               ma5    ma10    ma20      v_ma5     v_ma10     v_ma20  turnover  \n2015-09-01  15.080  17.434  18.617  109001.30  103741.22  106218.95      2.70  \n2015-09-14  14.726  14.363  16.881   98449.69   89159.54  101431.96      4.78  \n2016-01-11  18.298  20.068  21.648   46971.51   52066.53   58356.88      1.99  \n2015-07-15  24.564  25.197  28.530  158767.95  149753.04  149835.16      2.94  \n2015-08-26  18.742  20.042  19.087  100097.45  114432.06  102945.90      4.46  ",
      "text/html": "<div>\n<style scoped>\n    .dataframe tbody tr th:only-of-type {\n        vertical-align: middle;\n    }\n\n    .dataframe tbody tr th {\n        vertical-align: top;\n    }\n\n    .dataframe thead th {\n        text-align: right;\n    }\n</style>\n<table border=\"1\" class=\"dataframe\">\n  <thead>\n    <tr style=\"text-align: right;\">\n      <th></th>\n      <th>open</th>\n      <th>high</th>\n      <th>close</th>\n      <th>low</th>\n      <th>volume</th>\n      <th>price_change</th>\n      <th>p_change</th>\n      <th>ma5</th>\n      <th>ma10</th>\n      <th>ma20</th>\n      <th>v_ma5</th>\n      <th>v_ma10</th>\n      <th>v_ma20</th>\n      <th>turnover</th>\n    </tr>\n  </thead>\n  <tbody>\n    <tr>\n      <th>2015-09-01</th>\n      <td>14.78</td>\n      <td>14.78</td>\n      <td>13.46</td>\n      <td>13.46</td>\n      <td>78985.85</td>\n      <td>-1.50</td>\n      <td>-10.03</td>\n      <td>15.080</td>\n      <td>17.434</td>\n      <td>18.617</td>\n      <td>109001.30</td>\n      <td>103741.22</td>\n      <td>106218.95</td>\n      <td>2.70</td>\n    </tr>\n    <tr>\n      <th>2015-09-14</th>\n      <td>16.62</td>\n      <td>16.64</td>\n      <td>14.46</td>\n      <td>14.46</td>\n      <td>139701.77</td>\n      <td>-1.61</td>\n      <td>-10.02</td>\n      <td>14.726</td>\n      <td>14.363</td>\n      <td>16.881</td>\n      <td>98449.69</td>\n      <td>89159.54</td>\n      <td>101431.96</td>\n      <td>4.78</td>\n    </tr>\n    <tr>\n      <th>2016-01-11</th>\n      <td>16.59</td>\n      <td>17.24</td>\n      <td>15.90</td>\n      <td>15.90</td>\n      <td>58036.37</td>\n      <td>-1.77</td>\n      <td>-10.02</td>\n      <td>18.298</td>\n      <td>20.068</td>\n      <td>21.648</td>\n      <td>46971.51</td>\n      <td>52066.53</td>\n      <td>58356.88</td>\n      <td>1.99</td>\n    </tr>\n    <tr>\n      <th>2015-07-15</th>\n      <td>22.78</td>\n      <td>23.04</td>\n      <td>22.10</td>\n      <td>22.10</td>\n      <td>85966.42</td>\n      <td>-2.46</td>\n      <td>-10.02</td>\n      <td>24.564</td>\n      <td>25.197</td>\n      <td>28.530</td>\n      <td>158767.95</td>\n      <td>149753.04</td>\n      <td>149835.16</td>\n      <td>2.94</td>\n    </tr>\n    <tr>\n      <th>2015-08-26</th>\n      <td>17.00</td>\n      <td>18.35</td>\n      <td>15.56</td>\n      <td>15.56</td>\n      <td>130318.31</td>\n      <td>-1.73</td>\n      <td>-10.01</td>\n      <td>18.742</td>\n      <td>20.042</td>\n      <td>19.087</td>\n      <td>100097.45</td>\n      <td>114432.06</td>\n      <td>102945.90</td>\n      <td>4.46</td>\n    </tr>\n  </tbody>\n</table>\n</div>"
     },
     "execution_count": 10,
     "metadata": {},
     "output_type": "execute_result"
    }
   ],
   "source": [
    "# 按照 `p_change` 从小到大排序后的前5行数据\n",
    "data.sort_values(by='p_change', ascending=True).head()"
   ],
   "metadata": {
    "collapsed": false,
    "ExecuteTime": {
     "end_time": "2023-09-07T13:40:25.283340700Z",
     "start_time": "2023-09-07T13:40:25.259741100Z"
    }
   },
   "id": "236cfd6bf7758540"
  },
  {
   "cell_type": "code",
   "execution_count": 13,
   "outputs": [
    {
     "data": {
      "text/plain": "             open   high  close    low    volume  price_change  p_change  \\\n2018-02-27  23.53  25.88  24.16  23.53  95578.03          0.63      2.68   \n2018-02-26  22.80  23.78  23.53  22.80  60985.11          0.69      3.02   \n2018-02-23  22.88  23.37  22.82  22.71  52914.01          0.54      2.42   \n2018-02-22  22.25  22.76  22.28  22.02  36105.01          0.36      1.64   \n2018-02-14  21.49  21.99  21.92  21.48  23331.04          0.44      2.05   \n\n               ma5    ma10    ma20     v_ma5    v_ma10    v_ma20  turnover  \n2018-02-27  22.942  22.142  22.875  53782.64  46738.65  55576.11      2.39  \n2018-02-26  22.406  21.955  22.942  40827.52  42736.34  56007.50      1.53  \n2018-02-23  21.938  21.929  23.022  35119.58  41871.97  56372.85      1.32  \n2018-02-22  21.446  21.909  23.137  35397.58  39904.78  60149.60      0.90  \n2018-02-14  21.366  21.923  23.253  33590.21  42935.74  61716.11      0.58  ",
      "text/html": "<div>\n<style scoped>\n    .dataframe tbody tr th:only-of-type {\n        vertical-align: middle;\n    }\n\n    .dataframe tbody tr th {\n        vertical-align: top;\n    }\n\n    .dataframe thead th {\n        text-align: right;\n    }\n</style>\n<table border=\"1\" class=\"dataframe\">\n  <thead>\n    <tr style=\"text-align: right;\">\n      <th></th>\n      <th>open</th>\n      <th>high</th>\n      <th>close</th>\n      <th>low</th>\n      <th>volume</th>\n      <th>price_change</th>\n      <th>p_change</th>\n      <th>ma5</th>\n      <th>ma10</th>\n      <th>ma20</th>\n      <th>v_ma5</th>\n      <th>v_ma10</th>\n      <th>v_ma20</th>\n      <th>turnover</th>\n    </tr>\n  </thead>\n  <tbody>\n    <tr>\n      <th>2018-02-27</th>\n      <td>23.53</td>\n      <td>25.88</td>\n      <td>24.16</td>\n      <td>23.53</td>\n      <td>95578.03</td>\n      <td>0.63</td>\n      <td>2.68</td>\n      <td>22.942</td>\n      <td>22.142</td>\n      <td>22.875</td>\n      <td>53782.64</td>\n      <td>46738.65</td>\n      <td>55576.11</td>\n      <td>2.39</td>\n    </tr>\n    <tr>\n      <th>2018-02-26</th>\n      <td>22.80</td>\n      <td>23.78</td>\n      <td>23.53</td>\n      <td>22.80</td>\n      <td>60985.11</td>\n      <td>0.69</td>\n      <td>3.02</td>\n      <td>22.406</td>\n      <td>21.955</td>\n      <td>22.942</td>\n      <td>40827.52</td>\n      <td>42736.34</td>\n      <td>56007.50</td>\n      <td>1.53</td>\n    </tr>\n    <tr>\n      <th>2018-02-23</th>\n      <td>22.88</td>\n      <td>23.37</td>\n      <td>22.82</td>\n      <td>22.71</td>\n      <td>52914.01</td>\n      <td>0.54</td>\n      <td>2.42</td>\n      <td>21.938</td>\n      <td>21.929</td>\n      <td>23.022</td>\n      <td>35119.58</td>\n      <td>41871.97</td>\n      <td>56372.85</td>\n      <td>1.32</td>\n    </tr>\n    <tr>\n      <th>2018-02-22</th>\n      <td>22.25</td>\n      <td>22.76</td>\n      <td>22.28</td>\n      <td>22.02</td>\n      <td>36105.01</td>\n      <td>0.36</td>\n      <td>1.64</td>\n      <td>21.446</td>\n      <td>21.909</td>\n      <td>23.137</td>\n      <td>35397.58</td>\n      <td>39904.78</td>\n      <td>60149.60</td>\n      <td>0.90</td>\n    </tr>\n    <tr>\n      <th>2018-02-14</th>\n      <td>21.49</td>\n      <td>21.99</td>\n      <td>21.92</td>\n      <td>21.48</td>\n      <td>23331.04</td>\n      <td>0.44</td>\n      <td>2.05</td>\n      <td>21.366</td>\n      <td>21.923</td>\n      <td>23.253</td>\n      <td>33590.21</td>\n      <td>42935.74</td>\n      <td>61716.11</td>\n      <td>0.58</td>\n    </tr>\n  </tbody>\n</table>\n</div>"
     },
     "execution_count": 13,
     "metadata": {},
     "output_type": "execute_result"
    }
   ],
   "source": [
    "# 按照索引从大到小排序\n",
    "data.sort_index(ascending=False).head()"
   ],
   "metadata": {
    "collapsed": false,
    "ExecuteTime": {
     "end_time": "2023-09-07T13:42:52.936395900Z",
     "start_time": "2023-09-07T13:42:52.900814300Z"
    }
   },
   "id": "3c56f7ce459e023e"
  },
  {
   "cell_type": "markdown",
   "source": [
    "## 算术运算"
   ],
   "metadata": {
    "collapsed": false
   },
   "id": "f27d0143e1776a48"
  },
  {
   "cell_type": "code",
   "execution_count": 15,
   "outputs": [
    {
     "name": "stdout",
     "output_type": "stream",
     "text": [
      "             open   high  close    low    volume  price_change  p_change  \\\n",
      "2018-02-27  23.53  25.88  24.16  23.53  95578.03          0.63      2.68   \n",
      "2018-02-26  22.80  23.78  23.53  22.80  60985.11          0.69      3.02   \n",
      "2018-02-23  22.88  23.37  22.82  22.71  52914.01          0.54      2.42   \n",
      "2018-02-22  22.25  22.76  22.28  22.02  36105.01          0.36      1.64   \n",
      "2018-02-14  21.49  21.99  21.92  21.48  23331.04          0.44      2.05   \n",
      "\n",
      "               ma5    ma10    ma20     v_ma5    v_ma10    v_ma20  turnover  \n",
      "2018-02-27  22.942  22.142  22.875  53782.64  46738.65  55576.11      2.39  \n",
      "2018-02-26  22.406  21.955  22.942  40827.52  42736.34  56007.50      1.53  \n",
      "2018-02-23  21.938  21.929  23.022  35119.58  41871.97  56372.85      1.32  \n",
      "2018-02-22  21.446  21.909  23.137  35397.58  39904.78  60149.60      0.90  \n",
      "2018-02-14  21.366  21.923  23.253  33590.21  42935.74  61716.11      0.58  \n"
     ]
    },
    {
     "data": {
      "text/plain": "2018-02-27    47.69\n2018-02-26    46.33\n2018-02-23    45.53\n2018-02-22    44.30\n2018-02-14    43.40\ndtype: float64"
     },
     "execution_count": 15,
     "metadata": {},
     "output_type": "execute_result"
    }
   ],
   "source": [
    "print(data.head())\n",
    "\n",
    "data['low'].add(data['close']).head()"
   ],
   "metadata": {
    "collapsed": false,
    "ExecuteTime": {
     "end_time": "2023-09-07T13:44:23.056817600Z",
     "start_time": "2023-09-07T13:44:23.033047700Z"
    }
   },
   "id": "52bf2ddade8f457b"
  },
  {
   "cell_type": "markdown",
   "source": [
    "## 逻辑运算"
   ],
   "metadata": {
    "collapsed": false
   },
   "id": "b677536de40e1afd"
  },
  {
   "cell_type": "code",
   "execution_count": 19,
   "outputs": [
    {
     "data": {
      "text/plain": "2018-02-27    True\n2018-02-26    True\n2018-02-23    True\n2018-02-22    True\n2018-02-14    True\nName: p_change, dtype: bool"
     },
     "execution_count": 19,
     "metadata": {},
     "output_type": "execute_result"
    }
   ],
   "source": [
    "temp = data['p_change'] > 0\n",
    "\n",
    "temp.head()"
   ],
   "metadata": {
    "collapsed": false,
    "ExecuteTime": {
     "end_time": "2023-09-07T13:46:32.125023300Z",
     "start_time": "2023-09-07T13:46:32.113242900Z"
    }
   },
   "id": "4b62503a3dbb35e0"
  },
  {
   "cell_type": "code",
   "execution_count": 20,
   "outputs": [
    {
     "data": {
      "text/plain": "             open   high  close    low    volume  price_change  p_change  \\\n2018-02-27  23.53  25.88  24.16  23.53  95578.03          0.63      2.68   \n2018-02-26  22.80  23.78  23.53  22.80  60985.11          0.69      3.02   \n2018-02-23  22.88  23.37  22.82  22.71  52914.01          0.54      2.42   \n2018-02-22  22.25  22.76  22.28  22.02  36105.01          0.36      1.64   \n2018-02-14  21.49  21.99  21.92  21.48  23331.04          0.44      2.05   \n\n               ma5    ma10    ma20     v_ma5    v_ma10    v_ma20  turnover  \n2018-02-27  22.942  22.142  22.875  53782.64  46738.65  55576.11      2.39  \n2018-02-26  22.406  21.955  22.942  40827.52  42736.34  56007.50      1.53  \n2018-02-23  21.938  21.929  23.022  35119.58  41871.97  56372.85      1.32  \n2018-02-22  21.446  21.909  23.137  35397.58  39904.78  60149.60      0.90  \n2018-02-14  21.366  21.923  23.253  33590.21  42935.74  61716.11      0.58  ",
      "text/html": "<div>\n<style scoped>\n    .dataframe tbody tr th:only-of-type {\n        vertical-align: middle;\n    }\n\n    .dataframe tbody tr th {\n        vertical-align: top;\n    }\n\n    .dataframe thead th {\n        text-align: right;\n    }\n</style>\n<table border=\"1\" class=\"dataframe\">\n  <thead>\n    <tr style=\"text-align: right;\">\n      <th></th>\n      <th>open</th>\n      <th>high</th>\n      <th>close</th>\n      <th>low</th>\n      <th>volume</th>\n      <th>price_change</th>\n      <th>p_change</th>\n      <th>ma5</th>\n      <th>ma10</th>\n      <th>ma20</th>\n      <th>v_ma5</th>\n      <th>v_ma10</th>\n      <th>v_ma20</th>\n      <th>turnover</th>\n    </tr>\n  </thead>\n  <tbody>\n    <tr>\n      <th>2018-02-27</th>\n      <td>23.53</td>\n      <td>25.88</td>\n      <td>24.16</td>\n      <td>23.53</td>\n      <td>95578.03</td>\n      <td>0.63</td>\n      <td>2.68</td>\n      <td>22.942</td>\n      <td>22.142</td>\n      <td>22.875</td>\n      <td>53782.64</td>\n      <td>46738.65</td>\n      <td>55576.11</td>\n      <td>2.39</td>\n    </tr>\n    <tr>\n      <th>2018-02-26</th>\n      <td>22.80</td>\n      <td>23.78</td>\n      <td>23.53</td>\n      <td>22.80</td>\n      <td>60985.11</td>\n      <td>0.69</td>\n      <td>3.02</td>\n      <td>22.406</td>\n      <td>21.955</td>\n      <td>22.942</td>\n      <td>40827.52</td>\n      <td>42736.34</td>\n      <td>56007.50</td>\n      <td>1.53</td>\n    </tr>\n    <tr>\n      <th>2018-02-23</th>\n      <td>22.88</td>\n      <td>23.37</td>\n      <td>22.82</td>\n      <td>22.71</td>\n      <td>52914.01</td>\n      <td>0.54</td>\n      <td>2.42</td>\n      <td>21.938</td>\n      <td>21.929</td>\n      <td>23.022</td>\n      <td>35119.58</td>\n      <td>41871.97</td>\n      <td>56372.85</td>\n      <td>1.32</td>\n    </tr>\n    <tr>\n      <th>2018-02-22</th>\n      <td>22.25</td>\n      <td>22.76</td>\n      <td>22.28</td>\n      <td>22.02</td>\n      <td>36105.01</td>\n      <td>0.36</td>\n      <td>1.64</td>\n      <td>21.446</td>\n      <td>21.909</td>\n      <td>23.137</td>\n      <td>35397.58</td>\n      <td>39904.78</td>\n      <td>60149.60</td>\n      <td>0.90</td>\n    </tr>\n    <tr>\n      <th>2018-02-14</th>\n      <td>21.49</td>\n      <td>21.99</td>\n      <td>21.92</td>\n      <td>21.48</td>\n      <td>23331.04</td>\n      <td>0.44</td>\n      <td>2.05</td>\n      <td>21.366</td>\n      <td>21.923</td>\n      <td>23.253</td>\n      <td>33590.21</td>\n      <td>42935.74</td>\n      <td>61716.11</td>\n      <td>0.58</td>\n    </tr>\n  </tbody>\n</table>\n</div>"
     },
     "execution_count": 20,
     "metadata": {},
     "output_type": "execute_result"
    }
   ],
   "source": [
    "data[temp].head()"
   ],
   "metadata": {
    "collapsed": false,
    "ExecuteTime": {
     "end_time": "2023-09-07T13:46:33.685368300Z",
     "start_time": "2023-09-07T13:46:33.639398500Z"
    }
   },
   "id": "5bef7c3ddbbcbb3"
  },
  {
   "cell_type": "code",
   "execution_count": 22,
   "outputs": [
    {
     "data": {
      "text/plain": "             open   high  close    low    volume  price_change  p_change  \\\n2018-02-27  23.53  25.88  24.16  23.53  95578.03          0.63      2.68   \n2018-02-26  22.80  23.78  23.53  22.80  60985.11          0.69      3.02   \n2018-02-23  22.88  23.37  22.82  22.71  52914.01          0.54      2.42   \n2018-02-14  21.49  21.99  21.92  21.48  23331.04          0.44      2.05   \n2018-02-12  20.70  21.40  21.19  20.63  32445.39          0.82      4.03   \n\n               ma5    ma10    ma20     v_ma5    v_ma10    v_ma20  turnover  \n2018-02-27  22.942  22.142  22.875  53782.64  46738.65  55576.11      2.39  \n2018-02-26  22.406  21.955  22.942  40827.52  42736.34  56007.50      1.53  \n2018-02-23  21.938  21.929  23.022  35119.58  41871.97  56372.85      1.32  \n2018-02-14  21.366  21.923  23.253  33590.21  42935.74  61716.11      0.58  \n2018-02-12  21.504  22.338  23.533  44645.16  45679.94  68686.33      0.81  ",
      "text/html": "<div>\n<style scoped>\n    .dataframe tbody tr th:only-of-type {\n        vertical-align: middle;\n    }\n\n    .dataframe tbody tr th {\n        vertical-align: top;\n    }\n\n    .dataframe thead th {\n        text-align: right;\n    }\n</style>\n<table border=\"1\" class=\"dataframe\">\n  <thead>\n    <tr style=\"text-align: right;\">\n      <th></th>\n      <th>open</th>\n      <th>high</th>\n      <th>close</th>\n      <th>low</th>\n      <th>volume</th>\n      <th>price_change</th>\n      <th>p_change</th>\n      <th>ma5</th>\n      <th>ma10</th>\n      <th>ma20</th>\n      <th>v_ma5</th>\n      <th>v_ma10</th>\n      <th>v_ma20</th>\n      <th>turnover</th>\n    </tr>\n  </thead>\n  <tbody>\n    <tr>\n      <th>2018-02-27</th>\n      <td>23.53</td>\n      <td>25.88</td>\n      <td>24.16</td>\n      <td>23.53</td>\n      <td>95578.03</td>\n      <td>0.63</td>\n      <td>2.68</td>\n      <td>22.942</td>\n      <td>22.142</td>\n      <td>22.875</td>\n      <td>53782.64</td>\n      <td>46738.65</td>\n      <td>55576.11</td>\n      <td>2.39</td>\n    </tr>\n    <tr>\n      <th>2018-02-26</th>\n      <td>22.80</td>\n      <td>23.78</td>\n      <td>23.53</td>\n      <td>22.80</td>\n      <td>60985.11</td>\n      <td>0.69</td>\n      <td>3.02</td>\n      <td>22.406</td>\n      <td>21.955</td>\n      <td>22.942</td>\n      <td>40827.52</td>\n      <td>42736.34</td>\n      <td>56007.50</td>\n      <td>1.53</td>\n    </tr>\n    <tr>\n      <th>2018-02-23</th>\n      <td>22.88</td>\n      <td>23.37</td>\n      <td>22.82</td>\n      <td>22.71</td>\n      <td>52914.01</td>\n      <td>0.54</td>\n      <td>2.42</td>\n      <td>21.938</td>\n      <td>21.929</td>\n      <td>23.022</td>\n      <td>35119.58</td>\n      <td>41871.97</td>\n      <td>56372.85</td>\n      <td>1.32</td>\n    </tr>\n    <tr>\n      <th>2018-02-14</th>\n      <td>21.49</td>\n      <td>21.99</td>\n      <td>21.92</td>\n      <td>21.48</td>\n      <td>23331.04</td>\n      <td>0.44</td>\n      <td>2.05</td>\n      <td>21.366</td>\n      <td>21.923</td>\n      <td>23.253</td>\n      <td>33590.21</td>\n      <td>42935.74</td>\n      <td>61716.11</td>\n      <td>0.58</td>\n    </tr>\n    <tr>\n      <th>2018-02-12</th>\n      <td>20.70</td>\n      <td>21.40</td>\n      <td>21.19</td>\n      <td>20.63</td>\n      <td>32445.39</td>\n      <td>0.82</td>\n      <td>4.03</td>\n      <td>21.504</td>\n      <td>22.338</td>\n      <td>23.533</td>\n      <td>44645.16</td>\n      <td>45679.94</td>\n      <td>68686.33</td>\n      <td>0.81</td>\n    </tr>\n  </tbody>\n</table>\n</div>"
     },
     "execution_count": 22,
     "metadata": {},
     "output_type": "execute_result"
    }
   ],
   "source": [
    "# 完成一个多个逻辑判断， 筛选 `p_change` > 2 并且 `open` > 15\n",
    "data[(data['p_change'] > 2) & (data['open'] > 15)].head()"
   ],
   "metadata": {
    "collapsed": false,
    "ExecuteTime": {
     "end_time": "2023-09-07T13:48:07.836331500Z",
     "start_time": "2023-09-07T13:48:07.806670300Z"
    }
   },
   "id": "ca55dd7b85a6a63e"
  },
  {
   "cell_type": "code",
   "execution_count": 23,
   "outputs": [
    {
     "data": {
      "text/plain": "             open   high  close    low    volume  price_change  p_change  \\\n2018-02-27  23.53  25.88  24.16  23.53  95578.03          0.63      2.68   \n2018-02-26  22.80  23.78  23.53  22.80  60985.11          0.69      3.02   \n2018-02-23  22.88  23.37  22.82  22.71  52914.01          0.54      2.42   \n2018-02-14  21.49  21.99  21.92  21.48  23331.04          0.44      2.05   \n2018-02-12  20.70  21.40  21.19  20.63  32445.39          0.82      4.03   \n\n               ma5    ma10    ma20     v_ma5    v_ma10    v_ma20  turnover  \n2018-02-27  22.942  22.142  22.875  53782.64  46738.65  55576.11      2.39  \n2018-02-26  22.406  21.955  22.942  40827.52  42736.34  56007.50      1.53  \n2018-02-23  21.938  21.929  23.022  35119.58  41871.97  56372.85      1.32  \n2018-02-14  21.366  21.923  23.253  33590.21  42935.74  61716.11      0.58  \n2018-02-12  21.504  22.338  23.533  44645.16  45679.94  68686.33      0.81  ",
      "text/html": "<div>\n<style scoped>\n    .dataframe tbody tr th:only-of-type {\n        vertical-align: middle;\n    }\n\n    .dataframe tbody tr th {\n        vertical-align: top;\n    }\n\n    .dataframe thead th {\n        text-align: right;\n    }\n</style>\n<table border=\"1\" class=\"dataframe\">\n  <thead>\n    <tr style=\"text-align: right;\">\n      <th></th>\n      <th>open</th>\n      <th>high</th>\n      <th>close</th>\n      <th>low</th>\n      <th>volume</th>\n      <th>price_change</th>\n      <th>p_change</th>\n      <th>ma5</th>\n      <th>ma10</th>\n      <th>ma20</th>\n      <th>v_ma5</th>\n      <th>v_ma10</th>\n      <th>v_ma20</th>\n      <th>turnover</th>\n    </tr>\n  </thead>\n  <tbody>\n    <tr>\n      <th>2018-02-27</th>\n      <td>23.53</td>\n      <td>25.88</td>\n      <td>24.16</td>\n      <td>23.53</td>\n      <td>95578.03</td>\n      <td>0.63</td>\n      <td>2.68</td>\n      <td>22.942</td>\n      <td>22.142</td>\n      <td>22.875</td>\n      <td>53782.64</td>\n      <td>46738.65</td>\n      <td>55576.11</td>\n      <td>2.39</td>\n    </tr>\n    <tr>\n      <th>2018-02-26</th>\n      <td>22.80</td>\n      <td>23.78</td>\n      <td>23.53</td>\n      <td>22.80</td>\n      <td>60985.11</td>\n      <td>0.69</td>\n      <td>3.02</td>\n      <td>22.406</td>\n      <td>21.955</td>\n      <td>22.942</td>\n      <td>40827.52</td>\n      <td>42736.34</td>\n      <td>56007.50</td>\n      <td>1.53</td>\n    </tr>\n    <tr>\n      <th>2018-02-23</th>\n      <td>22.88</td>\n      <td>23.37</td>\n      <td>22.82</td>\n      <td>22.71</td>\n      <td>52914.01</td>\n      <td>0.54</td>\n      <td>2.42</td>\n      <td>21.938</td>\n      <td>21.929</td>\n      <td>23.022</td>\n      <td>35119.58</td>\n      <td>41871.97</td>\n      <td>56372.85</td>\n      <td>1.32</td>\n    </tr>\n    <tr>\n      <th>2018-02-14</th>\n      <td>21.49</td>\n      <td>21.99</td>\n      <td>21.92</td>\n      <td>21.48</td>\n      <td>23331.04</td>\n      <td>0.44</td>\n      <td>2.05</td>\n      <td>21.366</td>\n      <td>21.923</td>\n      <td>23.253</td>\n      <td>33590.21</td>\n      <td>42935.74</td>\n      <td>61716.11</td>\n      <td>0.58</td>\n    </tr>\n    <tr>\n      <th>2018-02-12</th>\n      <td>20.70</td>\n      <td>21.40</td>\n      <td>21.19</td>\n      <td>20.63</td>\n      <td>32445.39</td>\n      <td>0.82</td>\n      <td>4.03</td>\n      <td>21.504</td>\n      <td>22.338</td>\n      <td>23.533</td>\n      <td>44645.16</td>\n      <td>45679.94</td>\n      <td>68686.33</td>\n      <td>0.81</td>\n    </tr>\n  </tbody>\n</table>\n</div>"
     },
     "execution_count": 23,
     "metadata": {},
     "output_type": "execute_result"
    }
   ],
   "source": [
    "# 使用query实现获取满足条件的样本\n",
    "data.query('p_change > 2 & open > 15').head()"
   ],
   "metadata": {
    "collapsed": false,
    "ExecuteTime": {
     "end_time": "2023-09-07T13:49:11.573796200Z",
     "start_time": "2023-09-07T13:49:11.548703200Z"
    }
   },
   "id": "4f2a3b9fd36b4fe9"
  },
  {
   "cell_type": "code",
   "execution_count": 27,
   "outputs": [
    {
     "data": {
      "text/plain": "             open   high  close    low    volume  price_change  p_change  \\\n2018-02-27  23.53  25.88  24.16  23.53  95578.03          0.63      2.68   \n2016-09-28  19.88  20.98  20.86  19.71  95580.75          0.98      4.93   \n\n               ma5    ma10    ma20     v_ma5    v_ma10     v_ma20  turnover  \n2018-02-27  22.942  22.142  22.875  53782.64  46738.65   55576.11      2.39  \n2016-09-28  20.458  20.897  21.784  73619.52  69253.23  107749.35      2.39  ",
      "text/html": "<div>\n<style scoped>\n    .dataframe tbody tr th:only-of-type {\n        vertical-align: middle;\n    }\n\n    .dataframe tbody tr th {\n        vertical-align: top;\n    }\n\n    .dataframe thead th {\n        text-align: right;\n    }\n</style>\n<table border=\"1\" class=\"dataframe\">\n  <thead>\n    <tr style=\"text-align: right;\">\n      <th></th>\n      <th>open</th>\n      <th>high</th>\n      <th>close</th>\n      <th>low</th>\n      <th>volume</th>\n      <th>price_change</th>\n      <th>p_change</th>\n      <th>ma5</th>\n      <th>ma10</th>\n      <th>ma20</th>\n      <th>v_ma5</th>\n      <th>v_ma10</th>\n      <th>v_ma20</th>\n      <th>turnover</th>\n    </tr>\n  </thead>\n  <tbody>\n    <tr>\n      <th>2018-02-27</th>\n      <td>23.53</td>\n      <td>25.88</td>\n      <td>24.16</td>\n      <td>23.53</td>\n      <td>95578.03</td>\n      <td>0.63</td>\n      <td>2.68</td>\n      <td>22.942</td>\n      <td>22.142</td>\n      <td>22.875</td>\n      <td>53782.64</td>\n      <td>46738.65</td>\n      <td>55576.11</td>\n      <td>2.39</td>\n    </tr>\n    <tr>\n      <th>2016-09-28</th>\n      <td>19.88</td>\n      <td>20.98</td>\n      <td>20.86</td>\n      <td>19.71</td>\n      <td>95580.75</td>\n      <td>0.98</td>\n      <td>4.93</td>\n      <td>20.458</td>\n      <td>20.897</td>\n      <td>21.784</td>\n      <td>73619.52</td>\n      <td>69253.23</td>\n      <td>107749.35</td>\n      <td>2.39</td>\n    </tr>\n  </tbody>\n</table>\n</div>"
     },
     "execution_count": 27,
     "metadata": {},
     "output_type": "execute_result"
    }
   ],
   "source": [
    "# 取出turnover=2.39的所有样本\n",
    "data[data['turnover'].isin([2.39])]"
   ],
   "metadata": {
    "collapsed": false,
    "ExecuteTime": {
     "end_time": "2023-09-07T13:51:00.184737600Z",
     "start_time": "2023-09-07T13:51:00.156319700Z"
    }
   },
   "id": "441cb54fb87db635"
  },
  {
   "cell_type": "markdown",
   "source": [
    "## 统计运算"
   ],
   "metadata": {
    "collapsed": false
   },
   "id": "e46ef32075fb78ab"
  },
  {
   "cell_type": "code",
   "execution_count": 28,
   "outputs": [
    {
     "data": {
      "text/plain": "             open        high       close         low         volume  \\\ncount  643.000000  643.000000  643.000000  643.000000     643.000000   \nmean    21.272706   21.900513   21.336267   20.771835   99905.519114   \nstd      3.930973    4.077578    3.942806    3.791968   73879.119354   \nmin     12.250000   12.670000   12.360000   12.200000    1158.120000   \n25%     19.000000   19.500000   19.045000   18.525000   48533.210000   \n50%     21.440000   21.970000   21.450000   20.980000   83175.930000   \n75%     23.400000   24.065000   23.415000   22.850000  127580.055000   \nmax     34.990000   36.350000   35.210000   34.010000  501915.410000   \n\n       price_change    p_change         ma5        ma10        ma20  \\\ncount    643.000000  643.000000  643.000000  643.000000  643.000000   \nmean       0.018802    0.190280   21.302362   21.267656   21.200946   \nstd        0.898476    4.079698    3.880640    3.813602    3.686186   \nmin       -3.520000  -10.030000   12.520000   12.520000   12.520000   \n25%       -0.390000   -1.850000   18.990000   19.102000   19.275000   \n50%        0.050000    0.260000   21.504000   21.623000   21.530000   \n75%        0.455000    2.305000   23.318000   23.098500   23.136000   \nmax        3.030000   10.030000   33.696000   32.186000   29.998000   \n\n               v_ma5         v_ma10         v_ma20    turnover  \ncount     643.000000     643.000000     643.000000  643.000000  \nmean   100008.642691  100287.542177  100797.518398    2.936190  \nstd     62761.578326   56759.082060   50101.575639    2.079375  \nmin     10804.740000   19130.510000   23311.000000    0.040000  \n25%     55794.985000   59861.955000   64103.675000    1.360000  \n50%     86133.330000   89234.970000   96291.730000    2.500000  \n75%    127655.655000  124693.255000  124001.015000    3.915000  \nmax    404443.540000  360028.160000  269280.790000   12.560000  ",
      "text/html": "<div>\n<style scoped>\n    .dataframe tbody tr th:only-of-type {\n        vertical-align: middle;\n    }\n\n    .dataframe tbody tr th {\n        vertical-align: top;\n    }\n\n    .dataframe thead th {\n        text-align: right;\n    }\n</style>\n<table border=\"1\" class=\"dataframe\">\n  <thead>\n    <tr style=\"text-align: right;\">\n      <th></th>\n      <th>open</th>\n      <th>high</th>\n      <th>close</th>\n      <th>low</th>\n      <th>volume</th>\n      <th>price_change</th>\n      <th>p_change</th>\n      <th>ma5</th>\n      <th>ma10</th>\n      <th>ma20</th>\n      <th>v_ma5</th>\n      <th>v_ma10</th>\n      <th>v_ma20</th>\n      <th>turnover</th>\n    </tr>\n  </thead>\n  <tbody>\n    <tr>\n      <th>count</th>\n      <td>643.000000</td>\n      <td>643.000000</td>\n      <td>643.000000</td>\n      <td>643.000000</td>\n      <td>643.000000</td>\n      <td>643.000000</td>\n      <td>643.000000</td>\n      <td>643.000000</td>\n      <td>643.000000</td>\n      <td>643.000000</td>\n      <td>643.000000</td>\n      <td>643.000000</td>\n      <td>643.000000</td>\n      <td>643.000000</td>\n    </tr>\n    <tr>\n      <th>mean</th>\n      <td>21.272706</td>\n      <td>21.900513</td>\n      <td>21.336267</td>\n      <td>20.771835</td>\n      <td>99905.519114</td>\n      <td>0.018802</td>\n      <td>0.190280</td>\n      <td>21.302362</td>\n      <td>21.267656</td>\n      <td>21.200946</td>\n      <td>100008.642691</td>\n      <td>100287.542177</td>\n      <td>100797.518398</td>\n      <td>2.936190</td>\n    </tr>\n    <tr>\n      <th>std</th>\n      <td>3.930973</td>\n      <td>4.077578</td>\n      <td>3.942806</td>\n      <td>3.791968</td>\n      <td>73879.119354</td>\n      <td>0.898476</td>\n      <td>4.079698</td>\n      <td>3.880640</td>\n      <td>3.813602</td>\n      <td>3.686186</td>\n      <td>62761.578326</td>\n      <td>56759.082060</td>\n      <td>50101.575639</td>\n      <td>2.079375</td>\n    </tr>\n    <tr>\n      <th>min</th>\n      <td>12.250000</td>\n      <td>12.670000</td>\n      <td>12.360000</td>\n      <td>12.200000</td>\n      <td>1158.120000</td>\n      <td>-3.520000</td>\n      <td>-10.030000</td>\n      <td>12.520000</td>\n      <td>12.520000</td>\n      <td>12.520000</td>\n      <td>10804.740000</td>\n      <td>19130.510000</td>\n      <td>23311.000000</td>\n      <td>0.040000</td>\n    </tr>\n    <tr>\n      <th>25%</th>\n      <td>19.000000</td>\n      <td>19.500000</td>\n      <td>19.045000</td>\n      <td>18.525000</td>\n      <td>48533.210000</td>\n      <td>-0.390000</td>\n      <td>-1.850000</td>\n      <td>18.990000</td>\n      <td>19.102000</td>\n      <td>19.275000</td>\n      <td>55794.985000</td>\n      <td>59861.955000</td>\n      <td>64103.675000</td>\n      <td>1.360000</td>\n    </tr>\n    <tr>\n      <th>50%</th>\n      <td>21.440000</td>\n      <td>21.970000</td>\n      <td>21.450000</td>\n      <td>20.980000</td>\n      <td>83175.930000</td>\n      <td>0.050000</td>\n      <td>0.260000</td>\n      <td>21.504000</td>\n      <td>21.623000</td>\n      <td>21.530000</td>\n      <td>86133.330000</td>\n      <td>89234.970000</td>\n      <td>96291.730000</td>\n      <td>2.500000</td>\n    </tr>\n    <tr>\n      <th>75%</th>\n      <td>23.400000</td>\n      <td>24.065000</td>\n      <td>23.415000</td>\n      <td>22.850000</td>\n      <td>127580.055000</td>\n      <td>0.455000</td>\n      <td>2.305000</td>\n      <td>23.318000</td>\n      <td>23.098500</td>\n      <td>23.136000</td>\n      <td>127655.655000</td>\n      <td>124693.255000</td>\n      <td>124001.015000</td>\n      <td>3.915000</td>\n    </tr>\n    <tr>\n      <th>max</th>\n      <td>34.990000</td>\n      <td>36.350000</td>\n      <td>35.210000</td>\n      <td>34.010000</td>\n      <td>501915.410000</td>\n      <td>3.030000</td>\n      <td>10.030000</td>\n      <td>33.696000</td>\n      <td>32.186000</td>\n      <td>29.998000</td>\n      <td>404443.540000</td>\n      <td>360028.160000</td>\n      <td>269280.790000</td>\n      <td>12.560000</td>\n    </tr>\n  </tbody>\n</table>\n</div>"
     },
     "execution_count": 28,
     "metadata": {},
     "output_type": "execute_result"
    }
   ],
   "source": [
    "data.describe()"
   ],
   "metadata": {
    "collapsed": false,
    "ExecuteTime": {
     "end_time": "2023-09-07T13:51:22.447895200Z",
     "start_time": "2023-09-07T13:51:22.385701600Z"
    }
   },
   "id": "f2d2357f78c81e2d"
  },
  {
   "cell_type": "code",
   "execution_count": 29,
   "outputs": [
    {
     "data": {
      "text/plain": "34.99"
     },
     "execution_count": 29,
     "metadata": {},
     "output_type": "execute_result"
    }
   ],
   "source": [
    "# 求 `open` 的最大值\n",
    "data['open'].max()"
   ],
   "metadata": {
    "collapsed": false,
    "ExecuteTime": {
     "end_time": "2023-09-07T13:52:40.441478600Z",
     "start_time": "2023-09-07T13:52:40.421837200Z"
    }
   },
   "id": "cea5c3e5a779694b"
  },
  {
   "cell_type": "markdown",
   "source": [
    "## 累计统计函数"
   ],
   "metadata": {
    "collapsed": false
   },
   "id": "b82bf5e4431d41dc"
  },
  {
   "cell_type": "code",
   "execution_count": 30,
   "outputs": [
    {
     "data": {
      "text/plain": "             open   high  close    low     volume  price_change  p_change  \\\n2015-03-02  12.25  12.67  12.52  12.20   96291.73          0.32      2.62   \n2015-03-03  12.52  13.06  12.70  12.52  139071.61          0.18      1.44   \n2015-03-04  12.80  12.92  12.90  12.61   67075.44          0.20      1.57   \n2015-03-05  12.88  13.45  13.16  12.87   93180.39          0.26      2.02   \n2015-03-06  13.17  14.48  14.28  13.13  179831.72          1.12      8.51   \n...           ...    ...    ...    ...        ...           ...       ...   \n2018-02-14  21.49  21.99  21.92  21.48   23331.04          0.44      2.05   \n2018-02-22  22.25  22.76  22.28  22.02   36105.01          0.36      1.64   \n2018-02-23  22.88  23.37  22.82  22.71   52914.01          0.54      2.42   \n2018-02-26  22.80  23.78  23.53  22.80   60985.11          0.69      3.02   \n2018-02-27  23.53  25.88  24.16  23.53   95578.03          0.63      2.68   \n\n               ma5    ma10    ma20      v_ma5     v_ma10     v_ma20  turnover  \n2015-03-02  12.520  12.520  12.520   96291.73   96291.73   96291.73      3.30  \n2015-03-03  12.610  12.610  12.610  117681.67  117681.67  117681.67      4.76  \n2015-03-04  12.707  12.707  12.707  100812.93  100812.93  100812.93      2.30  \n2015-03-05  12.820  12.820  12.820   98904.79   98904.79   98904.79      3.19  \n2015-03-06  13.112  13.112  13.112  115090.18  115090.18  115090.18      6.16  \n...            ...     ...     ...        ...        ...        ...       ...  \n2018-02-14  21.366  21.923  23.253   33590.21   42935.74   61716.11      0.58  \n2018-02-22  21.446  21.909  23.137   35397.58   39904.78   60149.60      0.90  \n2018-02-23  21.938  21.929  23.022   35119.58   41871.97   56372.85      1.32  \n2018-02-26  22.406  21.955  22.942   40827.52   42736.34   56007.50      1.53  \n2018-02-27  22.942  22.142  22.875   53782.64   46738.65   55576.11      2.39  \n\n[643 rows x 14 columns]",
      "text/html": "<div>\n<style scoped>\n    .dataframe tbody tr th:only-of-type {\n        vertical-align: middle;\n    }\n\n    .dataframe tbody tr th {\n        vertical-align: top;\n    }\n\n    .dataframe thead th {\n        text-align: right;\n    }\n</style>\n<table border=\"1\" class=\"dataframe\">\n  <thead>\n    <tr style=\"text-align: right;\">\n      <th></th>\n      <th>open</th>\n      <th>high</th>\n      <th>close</th>\n      <th>low</th>\n      <th>volume</th>\n      <th>price_change</th>\n      <th>p_change</th>\n      <th>ma5</th>\n      <th>ma10</th>\n      <th>ma20</th>\n      <th>v_ma5</th>\n      <th>v_ma10</th>\n      <th>v_ma20</th>\n      <th>turnover</th>\n    </tr>\n  </thead>\n  <tbody>\n    <tr>\n      <th>2015-03-02</th>\n      <td>12.25</td>\n      <td>12.67</td>\n      <td>12.52</td>\n      <td>12.20</td>\n      <td>96291.73</td>\n      <td>0.32</td>\n      <td>2.62</td>\n      <td>12.520</td>\n      <td>12.520</td>\n      <td>12.520</td>\n      <td>96291.73</td>\n      <td>96291.73</td>\n      <td>96291.73</td>\n      <td>3.30</td>\n    </tr>\n    <tr>\n      <th>2015-03-03</th>\n      <td>12.52</td>\n      <td>13.06</td>\n      <td>12.70</td>\n      <td>12.52</td>\n      <td>139071.61</td>\n      <td>0.18</td>\n      <td>1.44</td>\n      <td>12.610</td>\n      <td>12.610</td>\n      <td>12.610</td>\n      <td>117681.67</td>\n      <td>117681.67</td>\n      <td>117681.67</td>\n      <td>4.76</td>\n    </tr>\n    <tr>\n      <th>2015-03-04</th>\n      <td>12.80</td>\n      <td>12.92</td>\n      <td>12.90</td>\n      <td>12.61</td>\n      <td>67075.44</td>\n      <td>0.20</td>\n      <td>1.57</td>\n      <td>12.707</td>\n      <td>12.707</td>\n      <td>12.707</td>\n      <td>100812.93</td>\n      <td>100812.93</td>\n      <td>100812.93</td>\n      <td>2.30</td>\n    </tr>\n    <tr>\n      <th>2015-03-05</th>\n      <td>12.88</td>\n      <td>13.45</td>\n      <td>13.16</td>\n      <td>12.87</td>\n      <td>93180.39</td>\n      <td>0.26</td>\n      <td>2.02</td>\n      <td>12.820</td>\n      <td>12.820</td>\n      <td>12.820</td>\n      <td>98904.79</td>\n      <td>98904.79</td>\n      <td>98904.79</td>\n      <td>3.19</td>\n    </tr>\n    <tr>\n      <th>2015-03-06</th>\n      <td>13.17</td>\n      <td>14.48</td>\n      <td>14.28</td>\n      <td>13.13</td>\n      <td>179831.72</td>\n      <td>1.12</td>\n      <td>8.51</td>\n      <td>13.112</td>\n      <td>13.112</td>\n      <td>13.112</td>\n      <td>115090.18</td>\n      <td>115090.18</td>\n      <td>115090.18</td>\n      <td>6.16</td>\n    </tr>\n    <tr>\n      <th>...</th>\n      <td>...</td>\n      <td>...</td>\n      <td>...</td>\n      <td>...</td>\n      <td>...</td>\n      <td>...</td>\n      <td>...</td>\n      <td>...</td>\n      <td>...</td>\n      <td>...</td>\n      <td>...</td>\n      <td>...</td>\n      <td>...</td>\n      <td>...</td>\n    </tr>\n    <tr>\n      <th>2018-02-14</th>\n      <td>21.49</td>\n      <td>21.99</td>\n      <td>21.92</td>\n      <td>21.48</td>\n      <td>23331.04</td>\n      <td>0.44</td>\n      <td>2.05</td>\n      <td>21.366</td>\n      <td>21.923</td>\n      <td>23.253</td>\n      <td>33590.21</td>\n      <td>42935.74</td>\n      <td>61716.11</td>\n      <td>0.58</td>\n    </tr>\n    <tr>\n      <th>2018-02-22</th>\n      <td>22.25</td>\n      <td>22.76</td>\n      <td>22.28</td>\n      <td>22.02</td>\n      <td>36105.01</td>\n      <td>0.36</td>\n      <td>1.64</td>\n      <td>21.446</td>\n      <td>21.909</td>\n      <td>23.137</td>\n      <td>35397.58</td>\n      <td>39904.78</td>\n      <td>60149.60</td>\n      <td>0.90</td>\n    </tr>\n    <tr>\n      <th>2018-02-23</th>\n      <td>22.88</td>\n      <td>23.37</td>\n      <td>22.82</td>\n      <td>22.71</td>\n      <td>52914.01</td>\n      <td>0.54</td>\n      <td>2.42</td>\n      <td>21.938</td>\n      <td>21.929</td>\n      <td>23.022</td>\n      <td>35119.58</td>\n      <td>41871.97</td>\n      <td>56372.85</td>\n      <td>1.32</td>\n    </tr>\n    <tr>\n      <th>2018-02-26</th>\n      <td>22.80</td>\n      <td>23.78</td>\n      <td>23.53</td>\n      <td>22.80</td>\n      <td>60985.11</td>\n      <td>0.69</td>\n      <td>3.02</td>\n      <td>22.406</td>\n      <td>21.955</td>\n      <td>22.942</td>\n      <td>40827.52</td>\n      <td>42736.34</td>\n      <td>56007.50</td>\n      <td>1.53</td>\n    </tr>\n    <tr>\n      <th>2018-02-27</th>\n      <td>23.53</td>\n      <td>25.88</td>\n      <td>24.16</td>\n      <td>23.53</td>\n      <td>95578.03</td>\n      <td>0.63</td>\n      <td>2.68</td>\n      <td>22.942</td>\n      <td>22.142</td>\n      <td>22.875</td>\n      <td>53782.64</td>\n      <td>46738.65</td>\n      <td>55576.11</td>\n      <td>2.39</td>\n    </tr>\n  </tbody>\n</table>\n<p>643 rows × 14 columns</p>\n</div>"
     },
     "execution_count": 30,
     "metadata": {},
     "output_type": "execute_result"
    }
   ],
   "source": [
    "# 从小到大排序\n",
    "data.sort_index()"
   ],
   "metadata": {
    "collapsed": false,
    "ExecuteTime": {
     "end_time": "2023-09-07T13:54:49.128653200Z",
     "start_time": "2023-09-07T13:54:49.081936300Z"
    }
   },
   "id": "9ae5a06258bf8404"
  },
  {
   "cell_type": "code",
   "execution_count": 31,
   "outputs": [
    {
     "data": {
      "text/plain": "2018-02-27     0.63\n2018-02-26     1.32\n2018-02-23     1.86\n2018-02-22     2.22\n2018-02-14     2.66\n              ...  \n2015-03-06    11.13\n2015-03-05    11.39\n2015-03-04    11.59\n2015-03-03    11.77\n2015-03-02    12.09\nName: price_change, Length: 643, dtype: float64"
     },
     "execution_count": 31,
     "metadata": {},
     "output_type": "execute_result"
    }
   ],
   "source": [
    "res = data['price_change'].cumsum()\n",
    "\n",
    "res"
   ],
   "metadata": {
    "collapsed": false,
    "ExecuteTime": {
     "end_time": "2023-09-07T13:55:20.637790700Z",
     "start_time": "2023-09-07T13:55:20.588492600Z"
    }
   },
   "id": "bca1aefdd428d7bf"
  },
  {
   "cell_type": "code",
   "execution_count": 35,
   "outputs": [
    {
     "data": {
      "text/plain": "<Figure size 640x480 with 1 Axes>",
      "image/png": "[encoded data removed]"
     },
     "metadata": {},
     "output_type": "display_data"
    }
   ],
   "source": [
    "import matplotlib\n",
    "\n",
    "matplotlib.rc(\"font\", family='YouYuan')\n",
    "\n",
    "data_sort_index = data.sort_index()\n",
    "res = data_sort_index['price_change'].cumsum()\n",
    "res.plot()\n",
    "plt.title('股票价格变化图')\n",
    "plt.show()\n",
    "plt.close()"
   ],
   "metadata": {
    "collapsed": false,
    "ExecuteTime": {
     "end_time": "2023-09-07T13:59:11.514165400Z",
     "start_time": "2023-09-07T13:59:11.400349100Z"
    }
   },
   "id": "d13677c6a688c751"
  },
  {
   "cell_type": "markdown",
   "source": [
    "## 自定义运算"
   ],
   "metadata": {
    "collapsed": false
   },
   "id": "7508164f28b146fe"
  },
  {
   "cell_type": "code",
   "execution_count": 36,
   "outputs": [],
   "source": [
    "# 自定义函数\n",
    "def func_1(x):\n",
    "    return x.max() - x.min()"
   ],
   "metadata": {
    "collapsed": false,
    "ExecuteTime": {
     "end_time": "2023-09-07T14:00:39.232757900Z",
     "start_time": "2023-09-07T14:00:39.206676Z"
    }
   },
   "id": "32cd07d36b47853b"
  },
  {
   "cell_type": "code",
   "execution_count": 38,
   "outputs": [
    {
     "data": {
      "text/plain": "open     22.74\nclose    22.85\ndtype: float64"
     },
     "execution_count": 38,
     "metadata": {},
     "output_type": "execute_result"
    }
   ],
   "source": [
    "data[['open', 'close']].apply(func_1, axis=0)"
   ],
   "metadata": {
    "collapsed": false,
    "ExecuteTime": {
     "end_time": "2023-09-07T14:01:33.852548100Z",
     "start_time": "2023-09-07T14:01:33.837394400Z"
    }
   },
   "id": "6fdf56f0c6b0abe3"
  },
  {
   "cell_type": "code",
   "execution_count": null,
   "outputs": [],
   "source": [],
   "metadata": {
    "collapsed": false
   },
   "id": "2e028da04b7227f4"
  }
 ],
 "metadata": {
  "kernelspec": {
   "display_name": "Python 3",
   "language": "python",
   "name": "python3"
  },
  "language_info": {
   "codemirror_mode": {
    "name": "ipython",
    "version": 2
   },
   "file_extension": ".py",
   "mimetype": "text/x-python",
   "name": "python",
   "nbconvert_exporter": "python",
   "pygments_lexer": "ipython2",
   "version": "2.7.6"
  }
 },
 "nbformat": 4,
 "nbformat_minor": 5
}
